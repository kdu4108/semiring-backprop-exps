{
 "cells": [
  {
   "cell_type": "code",
   "execution_count": 1,
   "metadata": {},
   "outputs": [],
   "source": [
    "import pandas as pd\n",
    "import numpy as np\n",
    "import os\n",
    "np.random.seed(0)\n",
    "from typing import List"
   ]
  },
  {
   "cell_type": "code",
   "execution_count": 2,
   "metadata": {},
   "outputs": [],
   "source": [
    "DATA_DIR = \"../../data/lgd_sva/\"\n",
    "\n",
    "# MODEL_ID = \"bf-google/bert_uncased_L-6_H-128_A-2\"\n",
    "# MODEL_ID = \"google/bert_uncased_L-6_H-128_A-2\"\n",
    "# MODEL_ID = \"bert-base-uncased\"\n",
    "# MODEL_ID = \"google/bert_uncased_L-6_H-512_A-8\"\n",
    "MODEL_ID = \"bf-google/bert_uncased_L-6_H-512_A-8\"\n",
    "\n",
    "ENTROPY_EVAL_RESULTS_PATH = os.path.join(DATA_DIR, MODEL_ID, \"results\", \"entropy\")\n",
    "AGG_FILENAME = \"agg_entropy_results.csv\"\n",
    "OUT_DATA_PATH = os.path.join(ENTROPY_EVAL_RESULTS_PATH, \"agg_entropy_results.csv\")"
   ]
  },
  {
   "cell_type": "code",
   "execution_count": 3,
   "metadata": {},
   "outputs": [],
   "source": [
    "csv_paths = [x for x in os.listdir(ENTROPY_EVAL_RESULTS_PATH) if x[-3:] == \"csv\" and x != AGG_FILENAME and \"entropy\" in x]"
   ]
  },
  {
   "cell_type": "code",
   "execution_count": 4,
   "metadata": {},
   "outputs": [],
   "source": [
    "dfs: List[pd.DataFrame] = []\n",
    "for csv_path in csv_paths:\n",
    "    df = pd.read_csv(os.path.join(ENTROPY_EVAL_RESULTS_PATH, csv_path), names=[\"row_num\", \"sentence_index\", \"is_correct\", \"num_distractors\", \"correct_word\", \"correct_word_logit\", \"incorrect_word\", \"incorrect_word_logit\", \"token\", \"entropy\", \"masked_sentence\", \"smth\", \"smthelse\"])\n",
    "    # df.drop(columns=[\"row_num\", \"smth\", \"smthelse\"])\n",
    "    dfs.append(df)"
   ]
  },
  {
   "cell_type": "code",
   "execution_count": 5,
   "metadata": {},
   "outputs": [],
   "source": [
    "agg_df = pd.concat(dfs, axis=0)"
   ]
  },
  {
   "cell_type": "code",
   "execution_count": 6,
   "metadata": {},
   "outputs": [],
   "source": [
    "agg_df = agg_df.drop(columns=[\"row_num\", \"smth\", \"smthelse\"])"
   ]
  },
  {
   "cell_type": "code",
   "execution_count": 7,
   "metadata": {},
   "outputs": [],
   "source": [
    "agg_df = agg_df.reset_index().drop(columns=[\"index\"])"
   ]
  },
  {
   "cell_type": "code",
   "execution_count": 8,
   "metadata": {},
   "outputs": [],
   "source": [
    "agg_df.to_csv(OUT_DATA_PATH, index=False)"
   ]
  },
  {
   "cell_type": "code",
   "execution_count": 9,
   "metadata": {},
   "outputs": [
    {
     "data": {
      "text/html": [
       "<div>\n",
       "<style scoped>\n",
       "    .dataframe tbody tr th:only-of-type {\n",
       "        vertical-align: middle;\n",
       "    }\n",
       "\n",
       "    .dataframe tbody tr th {\n",
       "        vertical-align: top;\n",
       "    }\n",
       "\n",
       "    .dataframe thead th {\n",
       "        text-align: right;\n",
       "    }\n",
       "</style>\n",
       "<table border=\"1\" class=\"dataframe\">\n",
       "  <thead>\n",
       "    <tr style=\"text-align: right;\">\n",
       "      <th></th>\n",
       "      <th>sentence_index</th>\n",
       "      <th>is_correct</th>\n",
       "      <th>num_distractors</th>\n",
       "      <th>correct_word</th>\n",
       "      <th>correct_word_logit</th>\n",
       "      <th>incorrect_word</th>\n",
       "      <th>incorrect_word_logit</th>\n",
       "      <th>token</th>\n",
       "      <th>entropy</th>\n",
       "      <th>masked_sentence</th>\n",
       "    </tr>\n",
       "  </thead>\n",
       "  <tbody>\n",
       "    <tr>\n",
       "      <th>0</th>\n",
       "      <td>214</td>\n",
       "      <td>True</td>\n",
       "      <td>1</td>\n",
       "      <td>opens</td>\n",
       "      <td>15.566561</td>\n",
       "      <td>open</td>\n",
       "      <td>10.901229</td>\n",
       "      <td>[CLS]</td>\n",
       "      <td>270.262745</td>\n",
       "      <td>b'the concept of semisets ***mask*** the way f...</td>\n",
       "    </tr>\n",
       "    <tr>\n",
       "      <th>1</th>\n",
       "      <td>214</td>\n",
       "      <td>True</td>\n",
       "      <td>1</td>\n",
       "      <td>opens</td>\n",
       "      <td>15.566561</td>\n",
       "      <td>open</td>\n",
       "      <td>10.901229</td>\n",
       "      <td>the</td>\n",
       "      <td>269.398821</td>\n",
       "      <td>b'the concept of semisets ***mask*** the way f...</td>\n",
       "    </tr>\n",
       "    <tr>\n",
       "      <th>2</th>\n",
       "      <td>214</td>\n",
       "      <td>True</td>\n",
       "      <td>1</td>\n",
       "      <td>opens</td>\n",
       "      <td>15.566561</td>\n",
       "      <td>open</td>\n",
       "      <td>10.901229</td>\n",
       "      <td>concept</td>\n",
       "      <td>270.725252</td>\n",
       "      <td>b'the concept of semisets ***mask*** the way f...</td>\n",
       "    </tr>\n",
       "    <tr>\n",
       "      <th>3</th>\n",
       "      <td>214</td>\n",
       "      <td>True</td>\n",
       "      <td>1</td>\n",
       "      <td>opens</td>\n",
       "      <td>15.566561</td>\n",
       "      <td>open</td>\n",
       "      <td>10.901229</td>\n",
       "      <td>of</td>\n",
       "      <td>269.153706</td>\n",
       "      <td>b'the concept of semisets ***mask*** the way f...</td>\n",
       "    </tr>\n",
       "    <tr>\n",
       "      <th>4</th>\n",
       "      <td>214</td>\n",
       "      <td>True</td>\n",
       "      <td>1</td>\n",
       "      <td>opens</td>\n",
       "      <td>15.566561</td>\n",
       "      <td>open</td>\n",
       "      <td>10.901229</td>\n",
       "      <td>semi</td>\n",
       "      <td>270.257410</td>\n",
       "      <td>b'the concept of semisets ***mask*** the way f...</td>\n",
       "    </tr>\n",
       "    <tr>\n",
       "      <th>...</th>\n",
       "      <td>...</td>\n",
       "      <td>...</td>\n",
       "      <td>...</td>\n",
       "      <td>...</td>\n",
       "      <td>...</td>\n",
       "      <td>...</td>\n",
       "      <td>...</td>\n",
       "      <td>...</td>\n",
       "      <td>...</td>\n",
       "      <td>...</td>\n",
       "    </tr>\n",
       "    <tr>\n",
       "      <th>32498</th>\n",
       "      <td>701</td>\n",
       "      <td>True</td>\n",
       "      <td>3</td>\n",
       "      <td>make</td>\n",
       "      <td>22.093514</td>\n",
       "      <td>makes</td>\n",
       "      <td>19.865558</td>\n",
       "      <td>up</td>\n",
       "      <td>273.476586</td>\n",
       "      <td>b'but the features of the face , with its slig...</td>\n",
       "    </tr>\n",
       "    <tr>\n",
       "      <th>32499</th>\n",
       "      <td>701</td>\n",
       "      <td>True</td>\n",
       "      <td>3</td>\n",
       "      <td>make</td>\n",
       "      <td>22.093514</td>\n",
       "      <td>makes</td>\n",
       "      <td>19.865558</td>\n",
       "      <td>the</td>\n",
       "      <td>275.265516</td>\n",
       "      <td>b'but the features of the face , with its slig...</td>\n",
       "    </tr>\n",
       "    <tr>\n",
       "      <th>32500</th>\n",
       "      <td>701</td>\n",
       "      <td>True</td>\n",
       "      <td>3</td>\n",
       "      <td>make</td>\n",
       "      <td>22.093514</td>\n",
       "      <td>makes</td>\n",
       "      <td>19.865558</td>\n",
       "      <td>eyes</td>\n",
       "      <td>275.113988</td>\n",
       "      <td>b'but the features of the face , with its slig...</td>\n",
       "    </tr>\n",
       "    <tr>\n",
       "      <th>32501</th>\n",
       "      <td>701</td>\n",
       "      <td>True</td>\n",
       "      <td>3</td>\n",
       "      <td>make</td>\n",
       "      <td>22.093514</td>\n",
       "      <td>makes</td>\n",
       "      <td>19.865558</td>\n",
       "      <td>.</td>\n",
       "      <td>274.934502</td>\n",
       "      <td>b'but the features of the face , with its slig...</td>\n",
       "    </tr>\n",
       "    <tr>\n",
       "      <th>32502</th>\n",
       "      <td>701</td>\n",
       "      <td>True</td>\n",
       "      <td>3</td>\n",
       "      <td>make</td>\n",
       "      <td>22.093514</td>\n",
       "      <td>makes</td>\n",
       "      <td>19.865558</td>\n",
       "      <td>[SEP]</td>\n",
       "      <td>275.122788</td>\n",
       "      <td>b'but the features of the face , with its slig...</td>\n",
       "    </tr>\n",
       "  </tbody>\n",
       "</table>\n",
       "<p>32503 rows × 10 columns</p>\n",
       "</div>"
      ],
      "text/plain": [
       "       sentence_index  is_correct  num_distractors correct_word  \\\n",
       "0                 214        True                1        opens   \n",
       "1                 214        True                1        opens   \n",
       "2                 214        True                1        opens   \n",
       "3                 214        True                1        opens   \n",
       "4                 214        True                1        opens   \n",
       "...               ...         ...              ...          ...   \n",
       "32498             701        True                3         make   \n",
       "32499             701        True                3         make   \n",
       "32500             701        True                3         make   \n",
       "32501             701        True                3         make   \n",
       "32502             701        True                3         make   \n",
       "\n",
       "       correct_word_logit incorrect_word  incorrect_word_logit    token  \\\n",
       "0               15.566561           open             10.901229    [CLS]   \n",
       "1               15.566561           open             10.901229      the   \n",
       "2               15.566561           open             10.901229  concept   \n",
       "3               15.566561           open             10.901229       of   \n",
       "4               15.566561           open             10.901229     semi   \n",
       "...                   ...            ...                   ...      ...   \n",
       "32498           22.093514          makes             19.865558       up   \n",
       "32499           22.093514          makes             19.865558      the   \n",
       "32500           22.093514          makes             19.865558     eyes   \n",
       "32501           22.093514          makes             19.865558        .   \n",
       "32502           22.093514          makes             19.865558    [SEP]   \n",
       "\n",
       "          entropy                                    masked_sentence  \n",
       "0      270.262745  b'the concept of semisets ***mask*** the way f...  \n",
       "1      269.398821  b'the concept of semisets ***mask*** the way f...  \n",
       "2      270.725252  b'the concept of semisets ***mask*** the way f...  \n",
       "3      269.153706  b'the concept of semisets ***mask*** the way f...  \n",
       "4      270.257410  b'the concept of semisets ***mask*** the way f...  \n",
       "...           ...                                                ...  \n",
       "32498  273.476586  b'but the features of the face , with its slig...  \n",
       "32499  275.265516  b'but the features of the face , with its slig...  \n",
       "32500  275.113988  b'but the features of the face , with its slig...  \n",
       "32501  274.934502  b'but the features of the face , with its slig...  \n",
       "32502  275.122788  b'but the features of the face , with its slig...  \n",
       "\n",
       "[32503 rows x 10 columns]"
      ]
     },
     "execution_count": 9,
     "metadata": {},
     "output_type": "execute_result"
    }
   ],
   "source": [
    "pd.read_csv(OUT_DATA_PATH)"
   ]
  },
  {
   "cell_type": "code",
   "execution_count": 10,
   "metadata": {},
   "outputs": [
    {
     "data": {
      "text/plain": [
       "4    8765\n",
       "3    8383\n",
       "2    7874\n",
       "1    7481\n",
       "Name: num_distractors, dtype: int64"
      ]
     },
     "execution_count": 10,
     "metadata": {},
     "output_type": "execute_result"
    }
   ],
   "source": [
    "agg_df[\"num_distractors\"].value_counts()"
   ]
  },
  {
   "cell_type": "code",
   "execution_count": 11,
   "metadata": {},
   "outputs": [
    {
     "data": {
      "text/plain": [
       "1000"
      ]
     },
     "execution_count": 11,
     "metadata": {},
     "output_type": "execute_result"
    }
   ],
   "source": [
    "len(sorted(agg_df[\"sentence_index\"].unique()))"
   ]
  },
  {
   "cell_type": "code",
   "execution_count": null,
   "metadata": {},
   "outputs": [],
   "source": []
  }
 ],
 "metadata": {
  "kernelspec": {
   "display_name": "Python 3.9.15 ('jax-hf')",
   "language": "python",
   "name": "python3"
  },
  "language_info": {
   "codemirror_mode": {
    "name": "ipython",
    "version": 3
   },
   "file_extension": ".py",
   "mimetype": "text/x-python",
   "name": "python",
   "nbconvert_exporter": "python",
   "pygments_lexer": "ipython3",
   "version": "3.9.15"
  },
  "orig_nbformat": 4,
  "vscode": {
   "interpreter": {
    "hash": "b4cc9cc217af6b7e12b7da5c82d5884fde07a0e0f6b7f76767c2fbf53f076f9a"
   }
  }
 },
 "nbformat": 4,
 "nbformat_minor": 2
}
