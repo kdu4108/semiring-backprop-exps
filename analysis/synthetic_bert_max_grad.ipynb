{
 "cells": [
  {
   "cell_type": "markdown",
   "id": "77344779",
   "metadata": {},
   "source": [
    "# FirstTokenRepeatsOnce Dataset Max Grad Analysis"
   ]
  },
  {
   "cell_type": "code",
   "execution_count": 1,
   "id": "5d88d5bd",
   "metadata": {},
   "outputs": [],
   "source": [
    "from datetime import datetime\n",
    "import json\n",
    "import numpy as np\n",
    "import pandas as pd\n",
    "import os\n",
    "import seaborn as sns\n",
    "\n",
    "from matplotlib import font_manager as fm, pyplot as plt\n",
    "import matplotlib as mpl\n",
    "import wandb"
   ]
  },
  {
   "cell_type": "markdown",
   "id": "dbdbccbe",
   "metadata": {},
   "source": [
    "### Preamble\n",
    "Paths, plot formatting, colors, and WandB stuff"
   ]
  },
  {
   "cell_type": "code",
   "execution_count": 2,
   "id": "382a5ec0",
   "metadata": {},
   "outputs": [],
   "source": [
    "# Paths\n",
    "DATA_DIR = \"../data/FirstTokenRepeatedOnce/FirstTokenRepeatedOnce-num_points10000-vs20-seqlen10/1.0-0/\"\n",
    "MODEL_ID = \"Bert-hs16-numheads2-bs32-lr0.001-n42-dropoutprob0.2\"\n",
    "# RESULTS_DIR = os.path.join(DATA_DIR, \"results/max_grad\", MODEL_ID)\n",
    "RESULTS_DIR = os.path.join(DATA_DIR, \"results/max_grad/oplus\", MODEL_ID)\n",
    "AGG_MAX_GRAD_RESULTS_PATH = os.path.join(RESULTS_DIR, \"agg_max_grad_results.csv\")\n",
    "PLOTS_DIR = os.path.join(RESULTS_DIR, \"plots\")\n",
    "os.makedirs(PLOTS_DIR, exist_ok=True)"
   ]
  },
  {
   "cell_type": "code",
   "execution_count": 3,
   "id": "b30cbe98",
   "metadata": {},
   "outputs": [],
   "source": [
    "# Plot formatting\n",
    "mpl.rcParams['axes.spines.right'] = False\n",
    "mpl.rcParams['axes.spines.top'] = False\n",
    "plt.rcParams['axes.facecolor']='white'\n",
    "plt.rcParams['savefig.facecolor']='white'\n",
    "\n",
    "try:\n",
    "    # Set the font properties globally\n",
    "    font_path = './fonts/cmunbx.otf'\n",
    "    font_prop = fm.FontProperties(fname=font_path, size=12)\n",
    "    plt.rc('font', family=font_prop.get_name())\n",
    "except:\n",
    "    print(\"Unable to set font to Computer Modern (cmunbx.otf)\")"
   ]
  },
  {
   "cell_type": "code",
   "execution_count": 4,
   "id": "d82b1344",
   "metadata": {},
   "outputs": [
    {
     "name": "stdout",
     "output_type": "stream",
     "text": [
      "Colors: ['#0173b2', '#de8f05', '#029e73', '#cc78bc']\n"
     ]
    }
   ],
   "source": [
    "# Set color theme for keys, values, queries, and skip\n",
    "palette = sns.color_palette(\"colorblind\", 5)\n",
    "palette = palette[:3] + palette[-1:]\n",
    "print(\"Colors:\", [mpl.colors.to_hex(c) for c in palette])\n",
    "sns.set_palette(palette)"
   ]
  },
  {
   "cell_type": "code",
   "execution_count": 5,
   "id": "86040a83",
   "metadata": {},
   "outputs": [
    {
     "name": "stderr",
     "output_type": "stream",
     "text": [
      "\u001b[34m\u001b[1mwandb\u001b[0m: Currently logged in as: \u001b[33mkdu\u001b[0m (\u001b[33methz-rycolab\u001b[0m). Use \u001b[1m`wandb login --relogin`\u001b[0m to force relogin\n",
      "wandb: ERROR Failed to sample metric: No data\n",
      "wandb: ERROR Failed to sample metric: Not Supported\n"
     ]
    },
    {
     "data": {
      "text/html": [
       "wandb version 0.15.3 is available!  To upgrade, please run:\n",
       " $ pip install wandb --upgrade"
      ],
      "text/plain": [
       "<IPython.core.display.HTML object>"
      ]
     },
     "metadata": {},
     "output_type": "display_data"
    },
    {
     "data": {
      "text/html": [
       "Tracking run with wandb version 0.13.5"
      ],
      "text/plain": [
       "<IPython.core.display.HTML object>"
      ]
     },
     "metadata": {},
     "output_type": "display_data"
    },
    {
     "data": {
      "text/html": [
       "Run data is saved locally in <code>/home/kevin/code/rycolab/interpreta-bauer-ly/analysis/wandb/run-20230524_145302-2lt7rnmc</code>"
      ],
      "text/plain": [
       "<IPython.core.display.HTML object>"
      ]
     },
     "metadata": {},
     "output_type": "display_data"
    },
    {
     "data": {
      "text/html": [
       "Syncing run <strong><a href=\"https://wandb.ai/ethz-rycolab/bauer-kvq-synthetic/runs/2lt7rnmc\" target=\"_blank\">analyze_firsttokenrepeatsonce_max_grad_2023-05-24_14:53:01</a></strong> to <a href=\"https://wandb.ai/ethz-rycolab/bauer-kvq-synthetic\" target=\"_blank\">Weights & Biases</a> (<a href=\"https://wandb.me/run\" target=\"_blank\">docs</a>)<br/>"
      ],
      "text/plain": [
       "<IPython.core.display.HTML object>"
      ]
     },
     "metadata": {},
     "output_type": "display_data"
    },
    {
     "name": "stdout",
     "output_type": "stream",
     "text": [
      "{'MODEL_ID': 'Bert-hs16-numheads2-bs32-lr0.001-n42-dropoutprob0.2', 'AGG_MAX_GRAD_RESULTS_PATH': '../data/FirstTokenRepeatedOnce/FirstTokenRepeatedOnce-num_points10000-vs20-seqlen10/1.0-0/results/max_grad/oplus/Bert-hs16-numheads2-bs32-lr0.001-n42-dropoutprob0.2/agg_max_grad_results.csv', 'palette': [[0.00392156862745098, 0.45098039215686275, 0.6980392156862745], [0.8705882352941177, 0.5607843137254902, 0.0196078431372549], [0.00784313725490196, 0.6196078431372549, 0.45098039215686275], [0.8, 0.47058823529411764, 0.7372549019607844]]}\n"
     ]
    }
   ],
   "source": [
    "os.environ[\"WANDB_NOTEBOOK_NAME\"] = os.path.join(\n",
    "    os.getcwd(), \"synthetic_bert_max_grad.ipynb\"\n",
    ")\n",
    "entity, PROJECT_NAME = \"kdu\", \"bauer-kvq-synthetic\"  # set to your entity and project\n",
    "config = {\n",
    "    \"MODEL_ID\": MODEL_ID,\n",
    "    \"AGG_MAX_GRAD_RESULTS_PATH\": AGG_MAX_GRAD_RESULTS_PATH,\n",
    "    \"palette\": palette,\n",
    "}\n",
    "run = wandb.init(\n",
    "    project=PROJECT_NAME,\n",
    "    name=f\"analyze_firsttokenrepeatsonce_max_grad_{datetime.now().isoformat(sep='_', timespec='seconds')}\",\n",
    "    tags=[\"analysis\", \"firsttokenrepeatsonce\"],\n",
    "    config=config,\n",
    ")\n",
    "print(dict(wandb.config))"
   ]
  },
  {
   "cell_type": "markdown",
   "id": "585d3179",
   "metadata": {},
   "source": [
    "## Load Data"
   ]
  },
  {
   "cell_type": "code",
   "execution_count": 6,
   "id": "7c657a4f",
   "metadata": {},
   "outputs": [
    {
     "data": {
      "text/html": [
       "<div>\n",
       "<style scoped>\n",
       "    .dataframe tbody tr th:only-of-type {\n",
       "        vertical-align: middle;\n",
       "    }\n",
       "\n",
       "    .dataframe tbody tr th {\n",
       "        vertical-align: top;\n",
       "    }\n",
       "\n",
       "    .dataframe thead th {\n",
       "        text-align: right;\n",
       "    }\n",
       "</style>\n",
       "<table border=\"1\" class=\"dataframe\">\n",
       "  <thead>\n",
       "    <tr style=\"text-align: right;\">\n",
       "      <th></th>\n",
       "      <th>sentence_index</th>\n",
       "      <th>is_correct</th>\n",
       "      <th>correct_pred_logit</th>\n",
       "      <th>incorrect_pred_logit</th>\n",
       "      <th>token</th>\n",
       "      <th>token_index</th>\n",
       "      <th>layer_num</th>\n",
       "      <th>path_name</th>\n",
       "      <th>path grad</th>\n",
       "      <th>sentence</th>\n",
       "      <th>num_tokens</th>\n",
       "    </tr>\n",
       "  </thead>\n",
       "  <tbody>\n",
       "    <tr>\n",
       "      <th>0</th>\n",
       "      <td>0</td>\n",
       "      <td>True</td>\n",
       "      <td>5.758648</td>\n",
       "      <td>-5.674770</td>\n",
       "      <td>4</td>\n",
       "      <td>0</td>\n",
       "      <td>0</td>\n",
       "      <td>Self-Attention Key</td>\n",
       "      <td>0.000000</td>\n",
       "      <td>[4, 10, 1, 9, 16, 2, 9, 11, 8, 6]</td>\n",
       "      <td>10</td>\n",
       "    </tr>\n",
       "    <tr>\n",
       "      <th>1</th>\n",
       "      <td>0</td>\n",
       "      <td>True</td>\n",
       "      <td>5.758648</td>\n",
       "      <td>-5.674770</td>\n",
       "      <td>4</td>\n",
       "      <td>0</td>\n",
       "      <td>0</td>\n",
       "      <td>Self-Attention Query</td>\n",
       "      <td>0.443612</td>\n",
       "      <td>[4, 10, 1, 9, 16, 2, 9, 11, 8, 6]</td>\n",
       "      <td>10</td>\n",
       "    </tr>\n",
       "    <tr>\n",
       "      <th>2</th>\n",
       "      <td>0</td>\n",
       "      <td>True</td>\n",
       "      <td>5.758648</td>\n",
       "      <td>-5.674770</td>\n",
       "      <td>4</td>\n",
       "      <td>0</td>\n",
       "      <td>0</td>\n",
       "      <td>Self-Attention Value</td>\n",
       "      <td>0.000000</td>\n",
       "      <td>[4, 10, 1, 9, 16, 2, 9, 11, 8, 6]</td>\n",
       "      <td>10</td>\n",
       "    </tr>\n",
       "    <tr>\n",
       "      <th>3</th>\n",
       "      <td>0</td>\n",
       "      <td>True</td>\n",
       "      <td>5.758648</td>\n",
       "      <td>-5.674770</td>\n",
       "      <td>4</td>\n",
       "      <td>0</td>\n",
       "      <td>0</td>\n",
       "      <td>Skip Connection</td>\n",
       "      <td>0.000000</td>\n",
       "      <td>[4, 10, 1, 9, 16, 2, 9, 11, 8, 6]</td>\n",
       "      <td>10</td>\n",
       "    </tr>\n",
       "    <tr>\n",
       "      <th>4</th>\n",
       "      <td>0</td>\n",
       "      <td>True</td>\n",
       "      <td>5.758648</td>\n",
       "      <td>-5.674770</td>\n",
       "      <td>10</td>\n",
       "      <td>1</td>\n",
       "      <td>0</td>\n",
       "      <td>Self-Attention Key</td>\n",
       "      <td>0.000107</td>\n",
       "      <td>[4, 10, 1, 9, 16, 2, 9, 11, 8, 6]</td>\n",
       "      <td>10</td>\n",
       "    </tr>\n",
       "    <tr>\n",
       "      <th>...</th>\n",
       "      <td>...</td>\n",
       "      <td>...</td>\n",
       "      <td>...</td>\n",
       "      <td>...</td>\n",
       "      <td>...</td>\n",
       "      <td>...</td>\n",
       "      <td>...</td>\n",
       "      <td>...</td>\n",
       "      <td>...</td>\n",
       "      <td>...</td>\n",
       "      <td>...</td>\n",
       "    </tr>\n",
       "    <tr>\n",
       "      <th>39995</th>\n",
       "      <td>999</td>\n",
       "      <td>True</td>\n",
       "      <td>5.935697</td>\n",
       "      <td>-5.849848</td>\n",
       "      <td>4</td>\n",
       "      <td>8</td>\n",
       "      <td>0</td>\n",
       "      <td>Skip Connection</td>\n",
       "      <td>0.000000</td>\n",
       "      <td>[11, 12, 2, 8, 19, 10, 15, 3, 4, 7]</td>\n",
       "      <td>10</td>\n",
       "    </tr>\n",
       "    <tr>\n",
       "      <th>39996</th>\n",
       "      <td>999</td>\n",
       "      <td>True</td>\n",
       "      <td>5.935697</td>\n",
       "      <td>-5.849848</td>\n",
       "      <td>7</td>\n",
       "      <td>9</td>\n",
       "      <td>0</td>\n",
       "      <td>Self-Attention Key</td>\n",
       "      <td>0.000000</td>\n",
       "      <td>[11, 12, 2, 8, 19, 10, 15, 3, 4, 7]</td>\n",
       "      <td>10</td>\n",
       "    </tr>\n",
       "    <tr>\n",
       "      <th>39997</th>\n",
       "      <td>999</td>\n",
       "      <td>True</td>\n",
       "      <td>5.935697</td>\n",
       "      <td>-5.849848</td>\n",
       "      <td>7</td>\n",
       "      <td>9</td>\n",
       "      <td>0</td>\n",
       "      <td>Self-Attention Query</td>\n",
       "      <td>0.000000</td>\n",
       "      <td>[11, 12, 2, 8, 19, 10, 15, 3, 4, 7]</td>\n",
       "      <td>10</td>\n",
       "    </tr>\n",
       "    <tr>\n",
       "      <th>39998</th>\n",
       "      <td>999</td>\n",
       "      <td>True</td>\n",
       "      <td>5.935697</td>\n",
       "      <td>-5.849848</td>\n",
       "      <td>7</td>\n",
       "      <td>9</td>\n",
       "      <td>0</td>\n",
       "      <td>Self-Attention Value</td>\n",
       "      <td>0.001119</td>\n",
       "      <td>[11, 12, 2, 8, 19, 10, 15, 3, 4, 7]</td>\n",
       "      <td>10</td>\n",
       "    </tr>\n",
       "    <tr>\n",
       "      <th>39999</th>\n",
       "      <td>999</td>\n",
       "      <td>True</td>\n",
       "      <td>5.935697</td>\n",
       "      <td>-5.849848</td>\n",
       "      <td>7</td>\n",
       "      <td>9</td>\n",
       "      <td>0</td>\n",
       "      <td>Skip Connection</td>\n",
       "      <td>0.000000</td>\n",
       "      <td>[11, 12, 2, 8, 19, 10, 15, 3, 4, 7]</td>\n",
       "      <td>10</td>\n",
       "    </tr>\n",
       "  </tbody>\n",
       "</table>\n",
       "<p>40000 rows × 11 columns</p>\n",
       "</div>"
      ],
      "text/plain": [
       "       sentence_index  is_correct  correct_pred_logit  incorrect_pred_logit  \\\n",
       "0                   0        True            5.758648             -5.674770   \n",
       "1                   0        True            5.758648             -5.674770   \n",
       "2                   0        True            5.758648             -5.674770   \n",
       "3                   0        True            5.758648             -5.674770   \n",
       "4                   0        True            5.758648             -5.674770   \n",
       "...               ...         ...                 ...                   ...   \n",
       "39995             999        True            5.935697             -5.849848   \n",
       "39996             999        True            5.935697             -5.849848   \n",
       "39997             999        True            5.935697             -5.849848   \n",
       "39998             999        True            5.935697             -5.849848   \n",
       "39999             999        True            5.935697             -5.849848   \n",
       "\n",
       "       token  token_index  layer_num             path_name  path grad  \\\n",
       "0          4            0          0    Self-Attention Key   0.000000   \n",
       "1          4            0          0  Self-Attention Query   0.443612   \n",
       "2          4            0          0  Self-Attention Value   0.000000   \n",
       "3          4            0          0       Skip Connection   0.000000   \n",
       "4         10            1          0    Self-Attention Key   0.000107   \n",
       "...      ...          ...        ...                   ...        ...   \n",
       "39995      4            8          0       Skip Connection   0.000000   \n",
       "39996      7            9          0    Self-Attention Key   0.000000   \n",
       "39997      7            9          0  Self-Attention Query   0.000000   \n",
       "39998      7            9          0  Self-Attention Value   0.001119   \n",
       "39999      7            9          0       Skip Connection   0.000000   \n",
       "\n",
       "                                  sentence  num_tokens  \n",
       "0        [4, 10, 1, 9, 16, 2, 9, 11, 8, 6]          10  \n",
       "1        [4, 10, 1, 9, 16, 2, 9, 11, 8, 6]          10  \n",
       "2        [4, 10, 1, 9, 16, 2, 9, 11, 8, 6]          10  \n",
       "3        [4, 10, 1, 9, 16, 2, 9, 11, 8, 6]          10  \n",
       "4        [4, 10, 1, 9, 16, 2, 9, 11, 8, 6]          10  \n",
       "...                                    ...         ...  \n",
       "39995  [11, 12, 2, 8, 19, 10, 15, 3, 4, 7]          10  \n",
       "39996  [11, 12, 2, 8, 19, 10, 15, 3, 4, 7]          10  \n",
       "39997  [11, 12, 2, 8, 19, 10, 15, 3, 4, 7]          10  \n",
       "39998  [11, 12, 2, 8, 19, 10, 15, 3, 4, 7]          10  \n",
       "39999  [11, 12, 2, 8, 19, 10, 15, 3, 4, 7]          10  \n",
       "\n",
       "[40000 rows x 11 columns]"
      ]
     },
     "execution_count": 6,
     "metadata": {},
     "output_type": "execute_result"
    }
   ],
   "source": [
    "df = pd.read_csv(AGG_MAX_GRAD_RESULTS_PATH)\n",
    "df['num_tokens'] = (df.groupby('sentence_index')['sentence_index'].transform('count') / len(df[\"layer_num\"].unique()) / len(df[\"path_name\"].unique())).astype(int)\n",
    "df[\"path_name\"].replace(\n",
    "    to_replace={\n",
    "        \"matmul (bertselfattention key)\": \"Self-Attention Key\",\n",
    "        \"matmul (bertselfattention mixed_query_layer)\": \"Self-Attention Query\",\n",
    "        \"matmul (bertselfattention value)\": \"Self-Attention Value\",\n",
    "        \"skip layer\": \"Skip Connection\",\n",
    "    },\n",
    "    inplace=True\n",
    ")\n",
    "df = df.sort_values([\"sentence_index\", \"token_index\", \"layer_num\", \"path_name\"]).reset_index().drop(columns=[\"index\"])\n",
    "df\n"
   ]
  },
  {
   "cell_type": "code",
   "execution_count": 7,
   "id": "1a774d4b",
   "metadata": {},
   "outputs": [
    {
     "data": {
      "text/plain": [
       "1.0    1000\n",
       "Name: is_correct, dtype: int64"
      ]
     },
     "execution_count": 7,
     "metadata": {},
     "output_type": "execute_result"
    }
   ],
   "source": [
    "# Correctness sanity check - we expect this to be high performing\n",
    "df.groupby(\"sentence_index\")[\"is_correct\"].agg(\"mean\").value_counts()"
   ]
  },
  {
   "cell_type": "markdown",
   "id": "9a35bae8",
   "metadata": {},
   "source": [
    "## Prepare Dataframe"
   ]
  },
  {
   "cell_type": "code",
   "execution_count": 8,
   "id": "6df610f1",
   "metadata": {},
   "outputs": [
    {
     "data": {
      "text/html": [
       "<div>\n",
       "<style scoped>\n",
       "    .dataframe tbody tr th:only-of-type {\n",
       "        vertical-align: middle;\n",
       "    }\n",
       "\n",
       "    .dataframe tbody tr th {\n",
       "        vertical-align: top;\n",
       "    }\n",
       "\n",
       "    .dataframe thead th {\n",
       "        text-align: right;\n",
       "    }\n",
       "</style>\n",
       "<table border=\"1\" class=\"dataframe\">\n",
       "  <thead>\n",
       "    <tr style=\"text-align: right;\">\n",
       "      <th></th>\n",
       "      <th></th>\n",
       "      <th>path grad</th>\n",
       "    </tr>\n",
       "    <tr>\n",
       "      <th>path_name</th>\n",
       "      <th>layer_num</th>\n",
       "      <th></th>\n",
       "    </tr>\n",
       "  </thead>\n",
       "  <tbody>\n",
       "    <tr>\n",
       "      <th>Self-Attention Key</th>\n",
       "      <th>0</th>\n",
       "      <td>0.030058</td>\n",
       "    </tr>\n",
       "    <tr>\n",
       "      <th>Self-Attention Query</th>\n",
       "      <th>0</th>\n",
       "      <td>0.017406</td>\n",
       "    </tr>\n",
       "    <tr>\n",
       "      <th>Self-Attention Value</th>\n",
       "      <th>0</th>\n",
       "      <td>0.000952</td>\n",
       "    </tr>\n",
       "    <tr>\n",
       "      <th>Skip Connection</th>\n",
       "      <th>0</th>\n",
       "      <td>0.009444</td>\n",
       "    </tr>\n",
       "  </tbody>\n",
       "</table>\n",
       "</div>"
      ],
      "text/plain": [
       "                                path grad\n",
       "path_name            layer_num           \n",
       "Self-Attention Key   0           0.030058\n",
       "Self-Attention Query 0           0.017406\n",
       "Self-Attention Value 0           0.000952\n",
       "Skip Connection      0           0.009444"
      ]
     },
     "execution_count": 8,
     "metadata": {},
     "output_type": "execute_result"
    }
   ],
   "source": [
    "df_analysis = df.groupby(['path_name', 'layer_num']).agg({\"path grad\": \"mean\"})\n",
    "table = wandb.Table(dataframe=df_analysis)\n",
    "wandb.log({\"path_grads_summary_all_words\": table})\n",
    "df_analysis"
   ]
  },
  {
   "cell_type": "markdown",
   "id": "999700cf",
   "metadata": {},
   "source": [
    "### Gradient split between K/V/Q and Skip layer for different layers \n",
    "(avg across all tokens)"
   ]
  },
  {
   "cell_type": "code",
   "execution_count": 9,
   "id": "9daae32d",
   "metadata": {},
   "outputs": [
    {
     "data": {
      "text/plain": [
       "Text(0.5, 1.0, \"Gradient flow through keys, values, and queries per each token index (avg'd across all sentences)\")"
      ]
     },
     "execution_count": 9,
     "metadata": {},
     "output_type": "execute_result"
    },
    {
     "data": {
      "image/png": "[encoded data removed]",
      "text/plain": [
       "<Figure size 640x480 with 1 Axes>"
      ]
     },
     "metadata": {},
     "output_type": "display_data"
    }
   ],
   "source": [
    "fig, ax = plt.subplots()\n",
    "sns.lineplot(data=df, x=\"token_index\", y=\"path grad\", hue=\"path_name\", ax=ax)\n",
    "ax.set_title(\"Gradient flow through keys, values, and queries per each token index (avg'd across all sentences)\", wrap=True)"
   ]
  },
  {
   "cell_type": "code",
   "execution_count": 10,
   "id": "32c83eab",
   "metadata": {},
   "outputs": [],
   "source": [
    "def get_token_type(row, df):\n",
    "    def is_repeat_token(row):\n",
    "        sentence_df = df[(df[\"sentence_index\"] == row[\"sentence_index\"])]\n",
    "        first_token_in_sentence = sentence_df[sentence_df[\"token_index\"] == 0].iloc[0][\"token\"]\n",
    "        return row[\"token\"] == first_token_in_sentence\n",
    "    if row[\"token_index\"] == 0:\n",
    "        return \"FirstToken\"\n",
    "    elif is_repeat_token(row):\n",
    "        return \"RepeatToken\"\n",
    "    else:\n",
    "        return \"OtherToken\"\n",
    "        \n",
    "df[\"token_type\"] = df.apply(lambda x: get_token_type(x, df), axis=1)"
   ]
  },
  {
   "cell_type": "code",
   "execution_count": 11,
   "id": "aa411b8a",
   "metadata": {},
   "outputs": [
    {
     "name": "stdout",
     "output_type": "stream",
     "text": [
      "Num sentences with a repeat token: 476\n"
     ]
    }
   ],
   "source": [
    "# Quick sanity check that token_type is computed correctly for repeat tokens\n",
    "sentences = df[\"sentence\"].apply(json.loads).apply(tuple).unique()\n",
    "num_sents_with_repeat = sum([s[0] in s[1:] for s in sentences])\n",
    "num_rows_with_repeat_token_type = (df[\"token_type\"] == \"RepeatToken\").sum()\n",
    "print(\"Num sentences with a repeat token:\", num_sents_with_repeat)\n",
    "assert num_sents_with_repeat * 4 == num_rows_with_repeat_token_type # There are 4 path types so each token has 4 rows."
   ]
  },
  {
   "cell_type": "code",
   "execution_count": 16,
   "id": "649dc1cd",
   "metadata": {},
   "outputs": [
    {
     "data": {
      "image/png": "[encoded data removed]",
      "text/plain": [
       "<Figure size 800x400 with 1 Axes>"
      ]
     },
     "metadata": {},
     "output_type": "display_data"
    }
   ],
   "source": [
    "# Gradient Split for First Token, Repeated Token, and Other Tokens.\n",
    "plt.rc('font', size=14)\n",
    "fig, ax = plt.subplots(figsize=(8, 4))\n",
    "sns.barplot(data=df, x=\"token_type\", y=\"path grad\", hue=\"path_name\", ax=ax)\n",
    "\n",
    "ax.legend_.remove()\n",
    "ax.set_xlabel(\"Token Type\")\n",
    "ax.set_ylabel(\"Gradient of Path\")\n",
    "linecolors = palette\n",
    "offset = 0.215\n",
    "fig.text(0. + offset, 0.95, \"Gradient flow through \", ha=\"center\", va=\"bottom\", size=\"large\", color=\"black\")\n",
    "fig.text(0.184 + offset, 0.95, \"keys, \", ha=\"center\", va=\"bottom\", size=\"large\", color=linecolors[0])\n",
    "fig.text(0.28 + offset, 0.95, \"queries, \", ha=\"center\", va=\"bottom\", size=\"large\", color=linecolors[1])\n",
    "fig.text(0.384 + offset, 0.95, \"values, \", ha=\"center\", va=\"bottom\", size=\"large\", color=linecolors[2])\n",
    "fig.text(0.46 + offset, 0.95, \"and \", ha=\"center\", va=\"bottom\", size=\"large\", color=\"black\")\n",
    "fig.text(0.595 + offset, 0.95, \"skip connection \", ha=\"center\", va=\"bottom\", size=\"large\", color=linecolors[3])\n",
    "fig.text(0.27 + offset, 0.9, \"for the first token, repeat token, and other tokens \", ha=\"center\", va=\"bottom\", size=\"large\", color=\"black\")\n",
    "\n",
    "# offset = 0.46\n",
    "# offset2 = 0.02\n",
    "# offset3 = 0.215\n",
    "# fig.text(0. + offset, 1.1, \"Gradient flow through \", ha=\"center\", va=\"bottom\", size=\"large\", color=\"black\")\n",
    "# fig.text(0.184 + offset2, 1.03, \"keys, \", ha=\"center\", va=\"bottom\", size=\"large\", color=linecolors[0])\n",
    "# fig.text(0.3 + offset2, 1.03, \"queries, \", ha=\"center\", va=\"bottom\", size=\"large\", color=linecolors[1])\n",
    "# fig.text(0.42 + offset2, 1.03, \"values, \", ha=\"center\", va=\"bottom\", size=\"large\", color=linecolors[2])\n",
    "# fig.text(0.51 + offset2, 1.03, \"and \", ha=\"center\", va=\"bottom\", size=\"large\", color=\"black\")\n",
    "# fig.text(0.67 + offset2, 1.03, \"skip connection \", ha=\"center\", va=\"bottom\", size=\"large\", color=linecolors[3])\n",
    "# fig.text(0.27 + offset3, 0.96, \"for the first token, repeat token, and other tokens \", ha=\"center\", va=\"bottom\", size=\"large\", color=\"black\")\n",
    "\n",
    "fig_name = \"max_grad_kvqskip_tokens_synthetic\"\n",
    "save_path = os.path.join(PLOTS_DIR, f\"{fig_name}.png\")\n",
    "save_path_pdf = os.path.join(PLOTS_DIR, f\"{fig_name}.pdf\")\n",
    "plt.savefig(save_path, bbox_inches=\"tight\")\n",
    "plt.savefig(save_path_pdf, bbox_inches=\"tight\")\n",
    "wandb.log({fig_name: wandb.Image(save_path)})"
   ]
  },
  {
   "cell_type": "code",
   "execution_count": 13,
   "id": "2587156d",
   "metadata": {},
   "outputs": [
    {
     "data": {
      "text/html": [
       "Waiting for W&B process to finish... <strong style=\"color:green\">(success).</strong>"
      ],
      "text/plain": [
       "<IPython.core.display.HTML object>"
      ]
     },
     "metadata": {},
     "output_type": "display_data"
    },
    {
     "data": {
      "text/html": [
       "Synced <strong style=\"color:#cdcd00\">analyze_firsttokenrepeatsonce_max_grad_2023-05-24_10:03:15</strong>: <a href=\"https://wandb.ai/ethz-rycolab/bauer-kvq-synthetic/runs/1mj37m35\" target=\"_blank\">https://wandb.ai/ethz-rycolab/bauer-kvq-synthetic/runs/1mj37m35</a><br/>Synced 7 W&B file(s), 2 media file(s), 3 artifact file(s) and 1 other file(s)"
      ],
      "text/plain": [
       "<IPython.core.display.HTML object>"
      ]
     },
     "metadata": {},
     "output_type": "display_data"
    },
    {
     "data": {
      "text/html": [
       "Find logs at: <code>./wandb/run-20230524_100316-1mj37m35/logs</code>"
      ],
      "text/plain": [
       "<IPython.core.display.HTML object>"
      ]
     },
     "metadata": {},
     "output_type": "display_data"
    }
   ],
   "source": [
    "wandb.finish()"
   ]
  },
  {
   "cell_type": "code",
   "execution_count": null,
   "id": "c6629ecc",
   "metadata": {},
   "outputs": [],
   "source": []
  },
  {
   "cell_type": "code",
   "execution_count": null,
   "id": "43816d7f",
   "metadata": {},
   "outputs": [],
   "source": []
  }
 ],
 "metadata": {
  "kernelspec": {
   "display_name": "Python 3.9.15 ('jax-hf')",
   "language": "python",
   "name": "python3"
  },
  "language_info": {
   "codemirror_mode": {
    "name": "ipython",
    "version": 3
   },
   "file_extension": ".py",
   "mimetype": "text/x-python",
   "name": "python",
   "nbconvert_exporter": "python",
   "pygments_lexer": "ipython3",
   "version": "3.9.15"
  },
  "vscode": {
   "interpreter": {
    "hash": "b4cc9cc217af6b7e12b7da5c82d5884fde07a0e0f6b7f76767c2fbf53f076f9a"
   }
  }
 },
 "nbformat": 4,
 "nbformat_minor": 5
}
