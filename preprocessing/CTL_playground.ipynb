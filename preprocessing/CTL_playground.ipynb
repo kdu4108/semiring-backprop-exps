{
 "cells": [
  {
   "cell_type": "code",
   "execution_count": 1,
   "metadata": {},
   "outputs": [
    {
     "name": "stderr",
     "output_type": "stream",
     "text": [
      "/home/kevin/miniconda3/envs/jax-hf/lib/python3.9/site-packages/tqdm/auto.py:22: TqdmWarning: IProgress not found. Please update jupyter and ipywidgets. See https://ipywidgets.readthedocs.io/en/stable/user_install.html\n",
      "  from .autonotebook import tqdm as notebook_tqdm\n"
     ]
    }
   ],
   "source": [
    "from datasets import CTL\n",
    "import pandas as pd\n",
    "import torch\n",
    "import numpy as np"
   ]
  },
  {
   "cell_type": "code",
   "execution_count": 4,
   "metadata": {},
   "outputs": [],
   "source": [
    "data = CTL(ctl_dir=\"CTL/\")"
   ]
  },
  {
   "cell_type": "code",
   "execution_count": 3,
   "metadata": {},
   "outputs": [
    {
     "ename": "NameError",
     "evalue": "name 'data' is not defined",
     "output_type": "error",
     "traceback": [
      "\u001b[0;31m---------------------------------------------------------------------------\u001b[0m",
      "\u001b[0;31mNameError\u001b[0m                                 Traceback (most recent call last)",
      "Cell \u001b[0;32mIn [3], line 2\u001b[0m\n\u001b[1;32m      1\u001b[0m \u001b[39m# 0th index is data, 1xt index is label\u001b[39;00m\n\u001b[0;32m----> 2\u001b[0m data\u001b[39m.\u001b[39mtrain_data\u001b[39m.\u001b[39mtensors[\u001b[39m0\u001b[39m][:\u001b[39m10\u001b[39m], data\u001b[39m.\u001b[39mtrain_data\u001b[39m.\u001b[39mtensors[\u001b[39m1\u001b[39m][:\u001b[39m10\u001b[39m]\n",
      "\u001b[0;31mNameError\u001b[0m: name 'data' is not defined"
     ]
    }
   ],
   "source": [
    "# 0th index is data, 1xt index is label\n",
    "data.train_data.tensors[0][:10], data.train_data.tensors[1][:10]"
   ]
  },
  {
   "cell_type": "code",
   "execution_count": 4,
   "metadata": {},
   "outputs": [
    {
     "name": "stdout",
     "output_type": "stream",
     "text": [
      "Train data:\n",
      " 1    232\n",
      "0    232\n",
      "dtype: int64\n",
      "Val data:\n",
      " 1    16\n",
      "0    16\n",
      "dtype: int64\n",
      "Test data:\n",
      " 1    192\n",
      "0    192\n",
      "dtype: int64\n"
     ]
    }
   ],
   "source": [
    "def view_class_balance(dataset):\n",
    "    return pd.Series(next(iter(torch.utils.data.DataLoader(dataset, batch_size=len(data.train_data))))[1]).value_counts()\n",
    "\n",
    "print(\"Train data:\\n\", view_class_balance(data.train_data))\n",
    "print(\"Val data:\\n\", view_class_balance(data.val_data))\n",
    "print(\"Test data:\\n\", view_class_balance(data.test_data))"
   ]
  },
  {
   "cell_type": "code",
   "execution_count": 5,
   "metadata": {},
   "outputs": [
    {
     "name": "stdout",
     "output_type": "stream",
     "text": [
      "env: XLA_PYTHON_CLIENT_PREALLOCATE=false\n"
     ]
    },
    {
     "name": "stderr",
     "output_type": "stream",
     "text": [
      "2023-03-23 23:05:31.604820: E external/org_tensorflow/tensorflow/compiler/xla/stream_executor/cuda/cuda_driver.cc:267] failed call to cuInit: CUDA_ERROR_UNKNOWN: unknown error\n",
      "WARNING:jax._src.lib.xla_bridge:No GPU/TPU found, falling back to CPU. (Set TF_CPP_MIN_LOG_LEVEL=0 and rerun for more info.)\n",
      "/home/kevin/code/rycolab/transformers/src/transformers/models/bert/modeling_bf_bert.py:181: UserWarning: Explicitly requested dtype <class 'jax.numpy.int64'> requested in zeros is not available, and will be truncated to dtype int32. To enable more dtypes, set the jax_enable_x64 configuration option or the JAX_ENABLE_X64 shell environment variable. See https://github.com/google/jax#current-gotchas for more.\n",
      "  bf.Parameter(jnp.zeros(self.position_ids.shape, dtype=jnp.int64), name=\"position_ids\"),\n"
     ]
    },
    {
     "name": "stdout",
     "output_type": "stream",
     "text": [
      "WARNING: TODO(KD) - when this is used, write some tests for this!\n"
     ]
    }
   ],
   "source": [
    "%env XLA_PYTHON_CLIENT_PREALLOCATE=false\n",
    "from transformers import BertConfig, BfBertForSequenceClassification\n",
    "config = BertConfig.from_pretrained(pretrained_model_name_or_path=\"../../brunoflow/models/bert/config-toy.json\")\n",
    "m = BfBertForSequenceClassification(config=config)\n"
   ]
  },
  {
   "cell_type": "code",
   "execution_count": 6,
   "metadata": {},
   "outputs": [
    {
     "data": {
      "text/plain": [
       "0.6931471805599453"
      ]
     },
     "execution_count": 6,
     "metadata": {},
     "output_type": "execute_result"
    }
   ],
   "source": [
    "np.log(2)"
   ]
  },
  {
   "cell_type": "code",
   "execution_count": 7,
   "metadata": {},
   "outputs": [
    {
     "data": {
      "text/plain": [
       "(node(name: /, val: 0.6930383443832397, grad: 0.0),\n",
       " node(name: +, val: [[-0.0004819  -0.00187816]\n",
       "  [-0.0004819  -0.00187816]\n",
       "  [-0.0004819  -0.00187815]\n",
       "  [-0.0004819  -0.00187815]\n",
       "  [-0.0004819  -0.00187816]\n",
       "  [-0.0004819  -0.00187815]\n",
       "  [-0.0004819  -0.00187816]\n",
       "  [-0.0004819  -0.00187816]\n",
       "  [-0.0004819  -0.00187816]\n",
       "  [-0.0004819  -0.00187816]\n",
       "  [-0.0004819  -0.00187815]\n",
       "  [-0.0004819  -0.00187815]\n",
       "  [-0.0004819  -0.00187815]\n",
       "  [-0.0004819  -0.00187816]\n",
       "  [-0.0004819  -0.00187816]\n",
       "  [-0.0004819  -0.00187816]\n",
       "  [-0.0004819  -0.00187815]\n",
       "  [-0.0004819  -0.00187815]\n",
       "  [-0.0004819  -0.00187816]\n",
       "  [-0.0004819  -0.00187816]\n",
       "  [-0.0004819  -0.00187815]\n",
       "  [-0.0004819  -0.00187816]\n",
       "  [-0.0004819  -0.00187815]\n",
       "  [-0.0004819  -0.00187816]\n",
       "  [-0.0004819  -0.00187816]\n",
       "  [-0.0004819  -0.00187816]\n",
       "  [-0.0004819  -0.00187816]\n",
       "  [-0.0004819  -0.00187816]\n",
       "  [-0.0004819  -0.00187816]\n",
       "  [-0.0004819  -0.00187815]\n",
       "  [-0.0004819  -0.00187816]\n",
       "  [-0.0004819  -0.00187815]\n",
       "  [-0.0004819  -0.00187815]\n",
       "  [-0.0004819  -0.00187816]\n",
       "  [-0.0004819  -0.00187816]\n",
       "  [-0.0004819  -0.00187816]\n",
       "  [-0.0004819  -0.00187816]\n",
       "  [-0.0004819  -0.00187816]\n",
       "  [-0.0004819  -0.00187816]\n",
       "  [-0.0004819  -0.00187816]\n",
       "  [-0.0004819  -0.00187816]\n",
       "  [-0.0004819  -0.00187816]\n",
       "  [-0.0004819  -0.00187815]\n",
       "  [-0.0004819  -0.00187815]\n",
       "  [-0.0004819  -0.00187815]\n",
       "  [-0.0004819  -0.00187816]\n",
       "  [-0.0004819  -0.00187815]\n",
       "  [-0.0004819  -0.00187815]\n",
       "  [-0.0004819  -0.00187815]\n",
       "  [-0.0004819  -0.00187816]\n",
       "  [-0.0004819  -0.00187815]\n",
       "  [-0.0004819  -0.00187816]\n",
       "  [-0.0004819  -0.00187816]\n",
       "  [-0.0004819  -0.00187815]\n",
       "  [-0.0004819  -0.00187815]\n",
       "  [-0.0004819  -0.00187816]\n",
       "  [-0.0004819  -0.00187816]\n",
       "  [-0.0004819  -0.00187816]\n",
       "  [-0.0004819  -0.00187815]\n",
       "  [-0.0004819  -0.00187815]\n",
       "  [-0.0004819  -0.00187816]\n",
       "  [-0.0004819  -0.00187816]\n",
       "  [-0.0004819  -0.00187816]\n",
       "  [-0.0004819  -0.00187815]\n",
       "  [-0.0004819  -0.00187816]\n",
       "  [-0.0004819  -0.00187816]\n",
       "  [-0.0004819  -0.00187816]\n",
       "  [-0.0004819  -0.00187816]\n",
       "  [-0.0004819  -0.00187816]\n",
       "  [-0.0004819  -0.00187816]\n",
       "  [-0.0004819  -0.00187815]\n",
       "  [-0.0004819  -0.00187816]\n",
       "  [-0.0004819  -0.00187816]\n",
       "  [-0.0004819  -0.00187816]\n",
       "  [-0.0004819  -0.00187816]\n",
       "  [-0.0004819  -0.00187815]\n",
       "  [-0.0004819  -0.00187815]\n",
       "  [-0.0004819  -0.00187815]\n",
       "  [-0.0004819  -0.00187815]\n",
       "  [-0.0004819  -0.00187816]\n",
       "  [-0.0004819  -0.00187816]\n",
       "  [-0.0004819  -0.00187816]\n",
       "  [-0.0004819  -0.00187816]\n",
       "  [-0.0004819  -0.00187816]\n",
       "  [-0.0004819  -0.00187815]\n",
       "  [-0.0004819  -0.00187815]\n",
       "  [-0.0004819  -0.00187815]\n",
       "  [-0.0004819  -0.00187815]\n",
       "  [-0.0004819  -0.00187815]\n",
       "  [-0.0004819  -0.00187816]\n",
       "  [-0.0004819  -0.00187816]\n",
       "  [-0.0004819  -0.00187815]\n",
       "  [-0.0004819  -0.00187815]\n",
       "  [-0.0004819  -0.00187816]\n",
       "  [-0.0004819  -0.00187816]\n",
       "  [-0.0004819  -0.00187816]\n",
       "  [-0.00048189 -0.00187814]\n",
       "  [-0.0004819  -0.00187815]\n",
       "  [-0.0004819  -0.00187816]\n",
       "  [-0.0004819  -0.00187815]\n",
       "  [-0.0004819  -0.00187815]\n",
       "  [-0.0004819  -0.00187816]\n",
       "  [-0.0004819  -0.00187816]\n",
       "  [-0.0004819  -0.00187816]\n",
       "  [-0.0004819  -0.00187815]\n",
       "  [-0.0004819  -0.00187816]\n",
       "  [-0.0004819  -0.00187816]\n",
       "  [-0.0004819  -0.00187816]\n",
       "  [-0.0004819  -0.00187815]\n",
       "  [-0.0004819  -0.00187816]\n",
       "  [-0.0004819  -0.00187815]\n",
       "  [-0.0004819  -0.00187816]\n",
       "  [-0.0004819  -0.00187815]\n",
       "  [-0.0004819  -0.00187816]\n",
       "  [-0.0004819  -0.00187816]\n",
       "  [-0.0004819  -0.00187816]\n",
       "  [-0.0004819  -0.00187816]\n",
       "  [-0.0004819  -0.00187816]\n",
       "  [-0.0004819  -0.00187816]\n",
       "  [-0.0004819  -0.00187815]\n",
       "  [-0.0004819  -0.00187816]\n",
       "  [-0.0004819  -0.00187816]\n",
       "  [-0.0004819  -0.00187816]\n",
       "  [-0.0004819  -0.00187816]\n",
       "  [-0.0004819  -0.00187816]\n",
       "  [-0.0004819  -0.00187816]\n",
       "  [-0.0004819  -0.00187816]\n",
       "  [-0.0004819  -0.00187815]], grad: [[0. 0.]\n",
       "  [0. 0.]\n",
       "  [0. 0.]\n",
       "  [0. 0.]\n",
       "  [0. 0.]\n",
       "  [0. 0.]\n",
       "  [0. 0.]\n",
       "  [0. 0.]\n",
       "  [0. 0.]\n",
       "  [0. 0.]\n",
       "  [0. 0.]\n",
       "  [0. 0.]\n",
       "  [0. 0.]\n",
       "  [0. 0.]\n",
       "  [0. 0.]\n",
       "  [0. 0.]\n",
       "  [0. 0.]\n",
       "  [0. 0.]\n",
       "  [0. 0.]\n",
       "  [0. 0.]\n",
       "  [0. 0.]\n",
       "  [0. 0.]\n",
       "  [0. 0.]\n",
       "  [0. 0.]\n",
       "  [0. 0.]\n",
       "  [0. 0.]\n",
       "  [0. 0.]\n",
       "  [0. 0.]\n",
       "  [0. 0.]\n",
       "  [0. 0.]\n",
       "  [0. 0.]\n",
       "  [0. 0.]\n",
       "  [0. 0.]\n",
       "  [0. 0.]\n",
       "  [0. 0.]\n",
       "  [0. 0.]\n",
       "  [0. 0.]\n",
       "  [0. 0.]\n",
       "  [0. 0.]\n",
       "  [0. 0.]\n",
       "  [0. 0.]\n",
       "  [0. 0.]\n",
       "  [0. 0.]\n",
       "  [0. 0.]\n",
       "  [0. 0.]\n",
       "  [0. 0.]\n",
       "  [0. 0.]\n",
       "  [0. 0.]\n",
       "  [0. 0.]\n",
       "  [0. 0.]\n",
       "  [0. 0.]\n",
       "  [0. 0.]\n",
       "  [0. 0.]\n",
       "  [0. 0.]\n",
       "  [0. 0.]\n",
       "  [0. 0.]\n",
       "  [0. 0.]\n",
       "  [0. 0.]\n",
       "  [0. 0.]\n",
       "  [0. 0.]\n",
       "  [0. 0.]\n",
       "  [0. 0.]\n",
       "  [0. 0.]\n",
       "  [0. 0.]\n",
       "  [0. 0.]\n",
       "  [0. 0.]\n",
       "  [0. 0.]\n",
       "  [0. 0.]\n",
       "  [0. 0.]\n",
       "  [0. 0.]\n",
       "  [0. 0.]\n",
       "  [0. 0.]\n",
       "  [0. 0.]\n",
       "  [0. 0.]\n",
       "  [0. 0.]\n",
       "  [0. 0.]\n",
       "  [0. 0.]\n",
       "  [0. 0.]\n",
       "  [0. 0.]\n",
       "  [0. 0.]\n",
       "  [0. 0.]\n",
       "  [0. 0.]\n",
       "  [0. 0.]\n",
       "  [0. 0.]\n",
       "  [0. 0.]\n",
       "  [0. 0.]\n",
       "  [0. 0.]\n",
       "  [0. 0.]\n",
       "  [0. 0.]\n",
       "  [0. 0.]\n",
       "  [0. 0.]\n",
       "  [0. 0.]\n",
       "  [0. 0.]\n",
       "  [0. 0.]\n",
       "  [0. 0.]\n",
       "  [0. 0.]\n",
       "  [0. 0.]\n",
       "  [0. 0.]\n",
       "  [0. 0.]\n",
       "  [0. 0.]\n",
       "  [0. 0.]\n",
       "  [0. 0.]\n",
       "  [0. 0.]\n",
       "  [0. 0.]\n",
       "  [0. 0.]\n",
       "  [0. 0.]\n",
       "  [0. 0.]\n",
       "  [0. 0.]\n",
       "  [0. 0.]\n",
       "  [0. 0.]\n",
       "  [0. 0.]\n",
       "  [0. 0.]\n",
       "  [0. 0.]\n",
       "  [0. 0.]\n",
       "  [0. 0.]\n",
       "  [0. 0.]\n",
       "  [0. 0.]\n",
       "  [0. 0.]\n",
       "  [0. 0.]\n",
       "  [0. 0.]\n",
       "  [0. 0.]\n",
       "  [0. 0.]\n",
       "  [0. 0.]\n",
       "  [0. 0.]\n",
       "  [0. 0.]\n",
       "  [0. 0.]\n",
       "  [0. 0.]\n",
       "  [0. 0.]]))"
      ]
     },
     "execution_count": 7,
     "metadata": {},
     "output_type": "execute_result"
    }
   ],
   "source": [
    "import brunoflow as bf\n",
    "from jax import numpy as jnp \n",
    "x, y = next(iter(torch.utils.data.DataLoader(data.train_data, batch_size=128)))\n",
    "# x\n",
    "outputs = m(bf.Node(jnp.array(x.numpy())), labels=bf.Node(jnp.array(y.numpy())))\n",
    "outputs.loss, outputs.logits"
   ]
  },
  {
   "cell_type": "code",
   "execution_count": null,
   "metadata": {},
   "outputs": [],
   "source": []
  }
 ],
 "metadata": {
  "kernelspec": {
   "display_name": "Python 3.9.15 ('jax-hf')",
   "language": "python",
   "name": "python3"
  },
  "language_info": {
   "codemirror_mode": {
    "name": "ipython",
    "version": 3
   },
   "file_extension": ".py",
   "mimetype": "text/x-python",
   "name": "python",
   "nbconvert_exporter": "python",
   "pygments_lexer": "ipython3",
   "version": "3.9.15"
  },
  "orig_nbformat": 4,
  "vscode": {
   "interpreter": {
    "hash": "b4cc9cc217af6b7e12b7da5c82d5884fde07a0e0f6b7f76767c2fbf53f076f9a"
   }
  }
 },
 "nbformat": 4,
 "nbformat_minor": 2
}
