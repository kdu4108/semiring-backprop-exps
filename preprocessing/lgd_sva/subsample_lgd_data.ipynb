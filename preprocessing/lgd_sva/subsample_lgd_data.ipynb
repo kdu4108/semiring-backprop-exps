{
 "cells": [
  {
   "cell_type": "code",
   "execution_count": 1,
   "metadata": {},
   "outputs": [],
   "source": [
    "import pandas as pd\n",
    "import numpy as np\n",
    "import os\n",
    "np.random.seed(0)"
   ]
  },
  {
   "cell_type": "code",
   "execution_count": 2,
   "metadata": {},
   "outputs": [],
   "source": [
    "DATA_DIR = \"../../data/lgd_sva/\"\n",
    "FULL_DATASET_PATH = os.path.join(DATA_DIR, \"lgd_dataset.tsv\")\n",
    "MAX_GRAD_EVAL_DATASET_PATH = os.path.join(DATA_DIR, \"lgd_max_grad_eval_dataset.tsv\")\n",
    "ENTROPY_EVAL_DATASET_PATH = os.path.join(DATA_DIR, \"lgd_entropy_eval_dataset.tsv\")"
   ]
  },
  {
   "cell_type": "code",
   "execution_count": 3,
   "metadata": {},
   "outputs": [],
   "source": [
    "full_df = pd.read_csv(FULL_DATASET_PATH, sep=\"\\t\", names=[\"distractor_count\", \"sentence\", \"masked_sentence\", \"good_word\", \"bad_word\"])"
   ]
  },
  {
   "cell_type": "code",
   "execution_count": 4,
   "metadata": {},
   "outputs": [
    {
     "data": {
      "text/plain": [
       "distractor_count\n",
       "1    24299\n",
       "2     4470\n",
       "3      957\n",
       "4      259\n",
       "dtype: int64"
      ]
     },
     "execution_count": 4,
     "metadata": {},
     "output_type": "execute_result"
    }
   ],
   "source": [
    "full_df.value_counts(\"distractor_count\")"
   ]
  },
  {
   "cell_type": "code",
   "execution_count": 5,
   "metadata": {},
   "outputs": [
    {
     "name": "stdout",
     "output_type": "stream",
     "text": [
      "a 2002 systemic review of herbal products found that several herbs , including peppermint and caraway , ***mask*** anti-dyspeptic effects for non-ulcer dyspepsia with `` encouraging safety profiles '' .\n"
     ]
    }
   ],
   "source": [
    "print(full_df[full_df[\"distractor_count\"] == 2][\"masked_sentence\"].iloc[0])"
   ]
  },
  {
   "cell_type": "code",
   "execution_count": 6,
   "metadata": {},
   "outputs": [],
   "source": [
    "max_grad_eval_df = full_df.sample(n=1000)\n",
    "max_grad_eval_df.to_csv(MAX_GRAD_EVAL_DATASET_PATH, sep=\"\\t\", header=False, index=False)"
   ]
  },
  {
   "cell_type": "code",
   "execution_count": 7,
   "metadata": {},
   "outputs": [
    {
     "data": {
      "text/plain": [
       "1    829\n",
       "2    131\n",
       "3     33\n",
       "4      7\n",
       "Name: distractor_count, dtype: int64"
      ]
     },
     "execution_count": 7,
     "metadata": {},
     "output_type": "execute_result"
    }
   ],
   "source": [
    "max_grad_eval_df[\"distractor_count\"].value_counts()"
   ]
  },
  {
   "cell_type": "code",
   "execution_count": 8,
   "metadata": {},
   "outputs": [],
   "source": [
    "entropy_eval_df = full_df.groupby('distractor_count').apply(lambda x: x.sample(250)).reset_index(drop=True)\n",
    "entropy_eval_df.to_csv(ENTROPY_EVAL_DATASET_PATH, sep=\"\\t\", header=False, index=False)"
   ]
  },
  {
   "cell_type": "code",
   "execution_count": 9,
   "metadata": {},
   "outputs": [
    {
     "data": {
      "text/plain": [
       "1    250\n",
       "2    250\n",
       "3    250\n",
       "4    250\n",
       "Name: distractor_count, dtype: int64"
      ]
     },
     "execution_count": 9,
     "metadata": {},
     "output_type": "execute_result"
    }
   ],
   "source": [
    "entropy_eval_df[\"distractor_count\"].value_counts()"
   ]
  },
  {
   "cell_type": "code",
   "execution_count": 14,
   "metadata": {},
   "outputs": [
    {
     "data": {
      "text/html": [
       "<div>\n",
       "<style scoped>\n",
       "    .dataframe tbody tr th:only-of-type {\n",
       "        vertical-align: middle;\n",
       "    }\n",
       "\n",
       "    .dataframe tbody tr th {\n",
       "        vertical-align: top;\n",
       "    }\n",
       "\n",
       "    .dataframe thead th {\n",
       "        text-align: right;\n",
       "    }\n",
       "</style>\n",
       "<table border=\"1\" class=\"dataframe\">\n",
       "  <thead>\n",
       "    <tr style=\"text-align: right;\">\n",
       "      <th></th>\n",
       "      <th>num_distractors</th>\n",
       "      <th>sentence</th>\n",
       "      <th>masked_sentence</th>\n",
       "      <th>correct_word</th>\n",
       "      <th>incorrect_word</th>\n",
       "    </tr>\n",
       "  </thead>\n",
       "  <tbody>\n",
       "    <tr>\n",
       "      <th>0</th>\n",
       "      <td>1</td>\n",
       "      <td>i think this article in some ways reflects the...</td>\n",
       "      <td>i think this article in some ways ***mask*** t...</td>\n",
       "      <td>reflects</td>\n",
       "      <td>reflect</td>\n",
       "    </tr>\n",
       "    <tr>\n",
       "      <th>1</th>\n",
       "      <td>1</td>\n",
       "      <td>lies and hypocrisy do little to get you anywhe...</td>\n",
       "      <td>lies and hypocrisy ***mask*** little to get yo...</td>\n",
       "      <td>do</td>\n",
       "      <td>does</td>\n",
       "    </tr>\n",
       "    <tr>\n",
       "      <th>2</th>\n",
       "      <td>1</td>\n",
       "      <td>two high schools in the district , clear lake ...</td>\n",
       "      <td>two high schools in the district , clear lake ...</td>\n",
       "      <td>serve</td>\n",
       "      <td>serves</td>\n",
       "    </tr>\n",
       "    <tr>\n",
       "      <th>3</th>\n",
       "      <td>1</td>\n",
       "      <td>the extended technique of playing multiphonics...</td>\n",
       "      <td>the extended technique of playing multiphonics...</td>\n",
       "      <td>produces</td>\n",
       "      <td>produce</td>\n",
       "    </tr>\n",
       "    <tr>\n",
       "      <th>4</th>\n",
       "      <td>1</td>\n",
       "      <td>a journey of a thousand miles starts with a si...</td>\n",
       "      <td>a journey of a thousand miles ***mask*** with ...</td>\n",
       "      <td>starts</td>\n",
       "      <td>start</td>\n",
       "    </tr>\n",
       "    <tr>\n",
       "      <th>...</th>\n",
       "      <td>...</td>\n",
       "      <td>...</td>\n",
       "      <td>...</td>\n",
       "      <td>...</td>\n",
       "      <td>...</td>\n",
       "    </tr>\n",
       "    <tr>\n",
       "      <th>995</th>\n",
       "      <td>4</td>\n",
       "      <td>italian clocks , since neither day nor night ,...</td>\n",
       "      <td>italian clocks , since neither day nor night ,...</td>\n",
       "      <td>exist</td>\n",
       "      <td>exists</td>\n",
       "    </tr>\n",
       "    <tr>\n",
       "      <th>996</th>\n",
       "      <td>4</td>\n",
       "      <td>the references in the article relate to what t...</td>\n",
       "      <td>the references in the article relate to what t...</td>\n",
       "      <td>predate</td>\n",
       "      <td>predates</td>\n",
       "    </tr>\n",
       "    <tr>\n",
       "      <th>997</th>\n",
       "      <td>4</td>\n",
       "      <td>plants that do not require pollination or othe...</td>\n",
       "      <td>plants that do not require pollination or othe...</td>\n",
       "      <td>have</td>\n",
       "      <td>has</td>\n",
       "    </tr>\n",
       "    <tr>\n",
       "      <th>998</th>\n",
       "      <td>4</td>\n",
       "      <td>four scientists , a newspaper man and a constr...</td>\n",
       "      <td>four scientists , a newspaper man and a constr...</td>\n",
       "      <td>agree</td>\n",
       "      <td>agrees</td>\n",
       "    </tr>\n",
       "    <tr>\n",
       "      <th>999</th>\n",
       "      <td>4</td>\n",
       "      <td>a selection committee of twenty-two members co...</td>\n",
       "      <td>a selection committee of twenty-two members co...</td>\n",
       "      <td>selects</td>\n",
       "      <td>select</td>\n",
       "    </tr>\n",
       "  </tbody>\n",
       "</table>\n",
       "<p>1000 rows × 5 columns</p>\n",
       "</div>"
      ],
      "text/plain": [
       "     num_distractors                                           sentence  \\\n",
       "0                  1  i think this article in some ways reflects the...   \n",
       "1                  1  lies and hypocrisy do little to get you anywhe...   \n",
       "2                  1  two high schools in the district , clear lake ...   \n",
       "3                  1  the extended technique of playing multiphonics...   \n",
       "4                  1  a journey of a thousand miles starts with a si...   \n",
       "..               ...                                                ...   \n",
       "995                4  italian clocks , since neither day nor night ,...   \n",
       "996                4  the references in the article relate to what t...   \n",
       "997                4  plants that do not require pollination or othe...   \n",
       "998                4  four scientists , a newspaper man and a constr...   \n",
       "999                4  a selection committee of twenty-two members co...   \n",
       "\n",
       "                                       masked_sentence correct_word  \\\n",
       "0    i think this article in some ways ***mask*** t...     reflects   \n",
       "1    lies and hypocrisy ***mask*** little to get yo...           do   \n",
       "2    two high schools in the district , clear lake ...        serve   \n",
       "3    the extended technique of playing multiphonics...     produces   \n",
       "4    a journey of a thousand miles ***mask*** with ...       starts   \n",
       "..                                                 ...          ...   \n",
       "995  italian clocks , since neither day nor night ,...        exist   \n",
       "996  the references in the article relate to what t...      predate   \n",
       "997  plants that do not require pollination or othe...         have   \n",
       "998  four scientists , a newspaper man and a constr...        agree   \n",
       "999  a selection committee of twenty-two members co...      selects   \n",
       "\n",
       "    incorrect_word  \n",
       "0          reflect  \n",
       "1             does  \n",
       "2           serves  \n",
       "3          produce  \n",
       "4            start  \n",
       "..             ...  \n",
       "995         exists  \n",
       "996       predates  \n",
       "997            has  \n",
       "998         agrees  \n",
       "999         select  \n",
       "\n",
       "[1000 rows x 5 columns]"
      ]
     },
     "execution_count": 14,
     "metadata": {},
     "output_type": "execute_result"
    }
   ],
   "source": [
    "pd.read_csv(ENTROPY_EVAL_DATASET_PATH, sep=\"\\t\", names=[\"num_distractors\", \"sentence\", \"masked_sentence\", \"correct_word\", \"incorrect_word\"])"
   ]
  },
  {
   "cell_type": "code",
   "execution_count": null,
   "metadata": {},
   "outputs": [],
   "source": []
  }
 ],
 "metadata": {
  "kernelspec": {
   "display_name": "Python 3.9.15 ('jax-hf')",
   "language": "python",
   "name": "python3"
  },
  "language_info": {
   "codemirror_mode": {
    "name": "ipython",
    "version": 3
   },
   "file_extension": ".py",
   "mimetype": "text/x-python",
   "name": "python",
   "nbconvert_exporter": "python",
   "pygments_lexer": "ipython3",
   "version": "3.9.15"
  },
  "orig_nbformat": 4,
  "vscode": {
   "interpreter": {
    "hash": "b4cc9cc217af6b7e12b7da5c82d5884fde07a0e0f6b7f76767c2fbf53f076f9a"
   }
  }
 },
 "nbformat": 4,
 "nbformat_minor": 2
}
