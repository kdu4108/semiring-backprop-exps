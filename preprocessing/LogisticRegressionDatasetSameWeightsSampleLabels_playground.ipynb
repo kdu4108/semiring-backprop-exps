{
 "cells": [
  {
   "cell_type": "code",
   "execution_count": 1,
   "metadata": {},
   "outputs": [
    {
     "name": "stderr",
     "output_type": "stream",
     "text": [
      "/home/kevin/miniconda3/envs/jax-hf/lib/python3.9/site-packages/tqdm/auto.py:22: TqdmWarning: IProgress not found. Please update jupyter and ipywidgets. See https://ipywidgets.readthedocs.io/en/stable/user_install.html\n",
      "  from .autonotebook import tqdm as notebook_tqdm\n"
     ]
    }
   ],
   "source": [
    "from datasets import LogisticRegressionSameWeightsSampleLabelsDataset\n",
    "import pandas as pd\n",
    "import torch\n",
    "import numpy as np"
   ]
  },
  {
   "cell_type": "code",
   "execution_count": 2,
   "metadata": {},
   "outputs": [],
   "source": [
    "NUM_FEATURES = 4\n",
    "data = LogisticRegressionSameWeightsSampleLabelsDataset(num_points=1000, num_features=NUM_FEATURES)"
   ]
  },
  {
   "cell_type": "code",
   "execution_count": 3,
   "metadata": {},
   "outputs": [
    {
     "data": {
      "text/plain": [
       "array([1., 1., 1., 1.])"
      ]
     },
     "execution_count": 3,
     "metadata": {},
     "output_type": "execute_result"
    }
   ],
   "source": [
    "data.true_weights # TODO: try this experiment with the same weights for each feature, also maybe the gaussian. Also try sampling from the logit probability instead of just picking >0.5"
   ]
  },
  {
   "cell_type": "code",
   "execution_count": 4,
   "metadata": {},
   "outputs": [
    {
     "data": {
      "text/plain": [
       "tensor([0.9954, 0.8441, 0.8705, 0.8403, 0.6787, 0.1447, 0.6624, 0.9717, 0.0448,\n",
       "        0.8511], dtype=torch.float64)"
      ]
     },
     "execution_count": 4,
     "metadata": {},
     "output_type": "execute_result"
    }
   ],
   "source": [
    "1 / (1 + np.exp(-data.train_data.dataset.tensors[0][:10] @ data.true_weights))"
   ]
  },
  {
   "cell_type": "code",
   "execution_count": 5,
   "metadata": {},
   "outputs": [
    {
     "data": {
      "text/plain": [
       "(tensor([[ 1.7641,  0.4002,  0.9787,  2.2409],\n",
       "         [ 1.8676, -0.9773,  0.9501, -0.1514],\n",
       "         [-0.1032,  0.4106,  0.1440,  1.4543],\n",
       "         [ 0.7610,  0.1217,  0.4439,  0.3337],\n",
       "         [ 1.4941, -0.2052,  0.3131, -0.8541],\n",
       "         [-2.5530,  0.6536,  0.8644, -0.7422],\n",
       "         [ 2.2698, -1.4544,  0.0458, -0.1872],\n",
       "         [ 1.5328,  1.4694,  0.1549,  0.3782],\n",
       "         [-0.8878, -1.9808, -0.3479,  0.1563],\n",
       "         [ 1.2303,  1.2024, -0.3873, -0.3023]], dtype=torch.float64),\n",
       " tensor([0.9954, 0.8441, 0.8705, 0.8403, 0.6787, 0.1447, 0.6624, 0.9717, 0.0448,\n",
       "         0.8511], dtype=torch.float64),\n",
       " tensor([1, 1, 1, 1, 1, 0, 0, 1, 0, 1]))"
      ]
     },
     "execution_count": 5,
     "metadata": {},
     "output_type": "execute_result"
    }
   ],
   "source": [
    "# 0th index is data, 1xt index is label\n",
    "data.train_data.dataset.tensors[0][:10], 1 / (1 + np.exp(-data.train_data.dataset.tensors[0][:10] @ data.true_weights)), data.train_data.dataset.tensors[1][:10]"
   ]
  },
  {
   "cell_type": "code",
   "execution_count": 6,
   "metadata": {},
   "outputs": [
    {
     "name": "stdout",
     "output_type": "stream",
     "text": [
      "Train data:\n",
      " 0    364\n",
      "1    336\n",
      "dtype: int64\n",
      "Val data:\n",
      " 0    51\n",
      "1    49\n",
      "dtype: int64\n",
      "Test data:\n",
      " 1    103\n",
      "0     97\n",
      "dtype: int64\n"
     ]
    }
   ],
   "source": [
    "def view_class_balance(dataset):\n",
    "    return pd.Series(next(iter(torch.utils.data.DataLoader(dataset, batch_size=len(data.train_data))))[1]).value_counts()\n",
    "\n",
    "print(\"Train data:\\n\", view_class_balance(data.train_data))\n",
    "print(\"Val data:\\n\", view_class_balance(data.val_data))\n",
    "print(\"Test data:\\n\", view_class_balance(data.test_data))"
   ]
  },
  {
   "cell_type": "code",
   "execution_count": null,
   "metadata": {},
   "outputs": [],
   "source": []
  },
  {
   "cell_type": "code",
   "execution_count": 7,
   "metadata": {},
   "outputs": [
    {
     "data": {
      "text/plain": [
       "(tensor([[-0.8034, -0.6895, -0.4555,  0.0175],\n",
       "         [-1.3159, -0.4616, -0.0682,  1.7133],\n",
       "         [-1.9138, -2.2855, -1.6018, -0.0379],\n",
       "         ...,\n",
       "         [-0.2070, -0.5633,  0.6772, -0.0319],\n",
       "         [-0.6374, -0.3973, -0.1329, -0.2978],\n",
       "         [ 0.1420, -0.3193,  0.6915,  0.6947]], dtype=torch.float64),\n",
       " tensor([0, 0, 0, 0, 0, 1, 0, 0, 0, 0, 1, 0, 1, 1, 0, 0, 1, 0, 0, 0, 0, 1, 1, 0,\n",
       "         1, 1, 0, 1, 1, 1, 0, 1, 0, 0, 0, 0, 0, 1, 1, 0, 0, 0, 1, 0, 1, 1, 0, 0,\n",
       "         1, 1, 0, 1, 0, 0, 1, 0, 1, 0, 0, 0, 0, 1, 1, 0, 0, 0, 0, 1, 0, 1, 1, 0,\n",
       "         1, 0, 1, 1, 0, 0, 1, 0, 0, 1, 1, 0, 1, 1, 0, 1, 1, 0, 0, 1, 0, 1, 0, 0,\n",
       "         0, 1, 0, 1, 0, 0, 1, 1, 0, 0, 1, 1, 0, 1, 0, 1, 1, 0, 1, 1, 1, 0, 0, 1,\n",
       "         0, 1, 0, 0, 1, 1, 0, 1, 1, 1, 1, 1, 1, 0, 0, 0, 1, 0, 1, 0, 0, 0, 1, 1,\n",
       "         1, 1, 0, 0, 1, 1, 1, 0, 1, 1, 0, 1, 0, 0, 0, 0, 1, 0, 0, 0, 1, 1, 0, 1,\n",
       "         0, 1, 0, 0, 0, 0, 1, 0, 1, 1, 1, 1, 1, 1, 1, 1, 1, 1, 1, 1, 0, 1, 0, 1,\n",
       "         0, 0, 0, 1, 1, 0, 0, 0, 0, 1, 0, 1, 1, 1, 0, 0, 0, 0, 0, 0, 0, 1, 0, 0,\n",
       "         1, 0, 0, 0, 1, 1, 1, 1, 0, 1, 1, 1, 0, 1, 1, 1, 1, 1, 1, 1, 0, 1, 0, 1,\n",
       "         1, 0, 0, 1, 0, 0, 0, 0, 0, 0, 0, 1, 0, 0, 1, 1, 1, 1, 0, 1, 0, 0, 0, 0,\n",
       "         0, 1, 1, 1, 0, 0, 0, 0, 0, 1, 0, 0, 0, 1, 1, 0, 0, 1, 0, 0, 1, 1, 0, 0,\n",
       "         1, 0, 0, 1, 1, 1, 0, 0, 0, 0, 1, 0, 0, 1, 0, 0, 1, 0, 1, 1, 1, 0, 0, 1,\n",
       "         0, 0, 0, 0, 0, 0, 0, 1, 1, 0, 0, 1, 0, 1, 0, 0, 0, 1, 0, 0, 0, 0, 0, 0,\n",
       "         0, 0, 0, 1, 1, 1, 1, 0, 1, 1, 0, 0, 1, 1, 0, 0, 1, 0, 1, 1, 0, 0, 0, 0,\n",
       "         1, 0, 0, 0, 1, 0, 0, 1, 1, 0, 0, 1, 0, 0, 0, 1, 0, 0, 0, 0, 0, 0, 0, 1,\n",
       "         1, 0, 1, 0, 0, 0, 1, 1, 0, 0, 0, 0, 0, 0, 1, 1, 1, 0, 1, 0, 0, 1, 1, 1,\n",
       "         1, 1, 1, 0, 1, 1, 1, 0, 0, 0, 1, 1, 1, 0, 0, 0, 1, 0, 0, 1, 0, 1, 1, 0,\n",
       "         0, 1, 1, 1, 0, 1, 1, 1, 1, 0, 0, 1, 0, 0, 1, 0, 0, 1, 1, 0, 0, 1, 0, 0,\n",
       "         1, 1, 0, 0, 1, 0, 0, 0, 1, 1, 1, 1, 0, 0, 1, 1, 0, 1, 1, 1, 1, 1, 0, 1,\n",
       "         1, 1, 1, 0, 0, 1, 0, 1, 0, 0, 0, 0, 1, 0, 0, 0, 1, 1, 1, 1, 1, 0, 0, 0,\n",
       "         1, 0, 1, 1, 1, 1, 0, 0, 1, 0, 1, 1, 1, 0, 1, 1, 0, 1, 0, 1, 0, 0, 0, 0,\n",
       "         0, 0, 0, 0, 0, 1, 0, 1, 1, 1, 1, 0, 1, 0, 1, 0, 1, 1, 0, 1, 1, 1, 1, 1,\n",
       "         0, 1, 0, 0, 1, 0, 1, 1, 0, 0, 1, 0, 0, 1, 0, 1, 0, 0, 0, 0, 0, 0, 1, 0,\n",
       "         0, 0, 0, 0, 1, 0, 1, 1, 1, 1, 1, 0, 0, 0, 1, 1, 0, 0, 0, 1, 1, 1, 1, 1,\n",
       "         0, 0, 1, 0, 1, 1, 0, 1, 0, 1, 0, 1, 0, 1, 1, 0, 0, 1, 1, 1, 0, 0, 0, 0,\n",
       "         1, 1, 1, 1, 1, 1, 0, 0, 1, 1, 1, 1, 0, 1, 0, 1, 0, 0, 1, 0, 1, 1, 0, 1,\n",
       "         1, 1, 1, 1, 0, 1, 1, 1, 0, 0, 1, 0, 1, 1, 0, 0, 0, 0, 1, 1, 0, 0, 0, 1,\n",
       "         0, 1, 0, 0, 1, 0, 0, 1, 1, 1, 1, 1, 1, 1, 0, 1, 1, 0, 0, 0, 1, 1, 1, 1,\n",
       "         0, 1, 0, 1]))"
      ]
     },
     "execution_count": 7,
     "metadata": {},
     "output_type": "execute_result"
    }
   ],
   "source": [
    "train_X, train_y = next(iter(torch.utils.data.DataLoader(data.train_data, batch_size=len(data.train_data))))\n",
    "test_X, test_y = next(iter(torch.utils.data.DataLoader(data.test_data, batch_size=len(data.test_data))))\n",
    "train_X, train_y"
   ]
  },
  {
   "cell_type": "code",
   "execution_count": 8,
   "metadata": {},
   "outputs": [
    {
     "data": {
      "text/plain": [
       "0.775"
      ]
     },
     "execution_count": 8,
     "metadata": {},
     "output_type": "execute_result"
    }
   ],
   "source": [
    "from sklearn.linear_model import LogisticRegression\n",
    "m = LogisticRegression(fit_intercept=False)\n",
    "m.fit(X=train_X, y=train_y)\n",
    "m.score(X=test_X, y=test_y)"
   ]
  },
  {
   "cell_type": "code",
   "execution_count": 9,
   "metadata": {},
   "outputs": [
    {
     "data": {
      "text/plain": [
       "array([[0.97449704, 1.16692995, 1.12751498, 0.86434327]])"
      ]
     },
     "execution_count": 9,
     "metadata": {},
     "output_type": "execute_result"
    }
   ],
   "source": [
    "m.coef_"
   ]
  },
  {
   "cell_type": "code",
   "execution_count": 10,
   "metadata": {},
   "outputs": [
    {
     "data": {
      "text/plain": [
       "(tensor([[ 9.4725e-01, -1.5501e-01,  6.1408e-01,  9.2221e-01],\n",
       "         [-9.3898e-01,  1.0170e+00,  1.4230e+00,  3.9609e-01],\n",
       "         [ 3.6585e-01,  1.2978e+00,  4.8112e-01,  2.7594e+00],\n",
       "         [-7.8910e-01,  1.2485e-03, -1.5994e-01, -8.3196e-01],\n",
       "         [ 1.9229e+00,  1.4805e+00,  1.8676e+00,  9.0604e-01],\n",
       "         [-3.2493e-01, -7.1131e-01, -3.8815e-01, -5.9928e-02],\n",
       "         [ 2.2805e-01,  2.0148e-01,  5.4077e-01, -1.8181e+00],\n",
       "         [ 9.3680e-01,  7.7033e-01,  1.4081e-01,  4.7349e-01],\n",
       "         [ 6.6559e-01,  3.6163e-03,  1.5467e+00,  2.1441e-01],\n",
       "         [-3.7678e-01, -9.0903e-01, -1.4517e-01, -5.3633e-01]],\n",
       "        dtype=torch.float64),\n",
       " tensor([0, 0, 1, 0, 1, 0, 1, 1, 1, 0]))"
      ]
     },
     "execution_count": 10,
     "metadata": {},
     "output_type": "execute_result"
    }
   ],
   "source": [
    "test_X[:10], test_y[:10]"
   ]
  },
  {
   "cell_type": "code",
   "execution_count": 11,
   "metadata": {},
   "outputs": [
    {
     "data": {
      "text/plain": [
       "False"
      ]
     },
     "execution_count": 11,
     "metadata": {},
     "output_type": "execute_result"
    }
   ],
   "source": [
    "np.array_equal(\n",
    "    (1 / (1 + np.exp(-test_X[:10] @ m.coef_.T)) > 0.5).view(-1), \n",
    "    test_y[:10]\n",
    ")"
   ]
  },
  {
   "cell_type": "code",
   "execution_count": 12,
   "metadata": {},
   "outputs": [],
   "source": [
    "# from brunoflow.net import LogReg\n",
    "# m_bf = LogReg(input_size=NUM_FEATURES, bias=False)\n",
    "# m_bf."
   ]
  }
 ],
 "metadata": {
  "kernelspec": {
   "display_name": "Python 3.9.15 ('jax-hf')",
   "language": "python",
   "name": "python3"
  },
  "language_info": {
   "codemirror_mode": {
    "name": "ipython",
    "version": 3
   },
   "file_extension": ".py",
   "mimetype": "text/x-python",
   "name": "python",
   "nbconvert_exporter": "python",
   "pygments_lexer": "ipython3",
   "version": "3.9.15"
  },
  "orig_nbformat": 4,
  "vscode": {
   "interpreter": {
    "hash": "b4cc9cc217af6b7e12b7da5c82d5884fde07a0e0f6b7f76767c2fbf53f076f9a"
   }
  }
 },
 "nbformat": 4,
 "nbformat_minor": 2
}
