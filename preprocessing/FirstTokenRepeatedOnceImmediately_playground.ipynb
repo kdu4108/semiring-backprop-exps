{
 "cells": [
  {
   "cell_type": "code",
   "execution_count": 1,
   "metadata": {},
   "outputs": [
    {
     "name": "stderr",
     "output_type": "stream",
     "text": [
      "/home/kevin/miniconda3/envs/jax-hf/lib/python3.9/site-packages/tqdm/auto.py:22: TqdmWarning: IProgress not found. Please update jupyter and ipywidgets. See https://ipywidgets.readthedocs.io/en/stable/user_install.html\n",
      "  from .autonotebook import tqdm as notebook_tqdm\n"
     ]
    }
   ],
   "source": [
    "from datasets import FirstTokenRepeatedOnceImmediately\n",
    "import pandas as pd\n",
    "import torch\n",
    "import numpy as np"
   ]
  },
  {
   "cell_type": "code",
   "execution_count": 2,
   "metadata": {},
   "outputs": [],
   "source": [
    "data = FirstTokenRepeatedOnceImmediately(num_points=1000)"
   ]
  },
  {
   "cell_type": "code",
   "execution_count": 3,
   "metadata": {},
   "outputs": [
    {
     "data": {
      "text/plain": [
       "(tensor([[ 3,  3,  6, 10, 13, 19, 14, 15,  8, 12],\n",
       "         [ 4,  4, 14, 11, 18,  9, 10,  1,  3,  6],\n",
       "         [ 8,  8, 16,  6, 13, 15, 18, 17,  9,  5],\n",
       "         [18, 16, 19,  3,  4,  1,  5, 14, 10, 12],\n",
       "         [16, 17,  4,  1, 11,  8, 14,  2,  6, 10],\n",
       "         [ 5, 11, 12,  6,  2, 16, 19,  8,  4, 14],\n",
       "         [ 5,  4,  7, 14, 18, 10,  2, 13, 19,  8],\n",
       "         [ 3,  3, 12, 18,  8, 10, 15, 11, 16, 17],\n",
       "         [11, 11,  9, 13, 17,  5, 15,  7, 18,  1],\n",
       "         [14,  9,  8,  7, 13, 15,  3,  5,  1, 11]]),\n",
       " tensor([1, 1, 1, 0, 0, 0, 0, 1, 1, 0]))"
      ]
     },
     "execution_count": 3,
     "metadata": {},
     "output_type": "execute_result"
    }
   ],
   "source": [
    "# 0th index is data, 1xt index is label\n",
    "data.train_data.dataset.tensors[0][:10], data.train_data.dataset.tensors[1][:10]"
   ]
  },
  {
   "cell_type": "code",
   "execution_count": 4,
   "metadata": {},
   "outputs": [
    {
     "name": "stdout",
     "output_type": "stream",
     "text": [
      "Train data:\n",
      " 0    352\n",
      "1    348\n",
      "dtype: int64\n",
      "Val data:\n",
      " 1    54\n",
      "0    46\n",
      "dtype: int64\n",
      "Test data:\n",
      " 0    102\n",
      "1     98\n",
      "dtype: int64\n"
     ]
    }
   ],
   "source": [
    "def view_class_balance(dataset):\n",
    "    return pd.Series(next(iter(torch.utils.data.DataLoader(dataset, batch_size=len(data.train_data))))[1]).value_counts()\n",
    "\n",
    "print(\"Train data:\\n\", view_class_balance(data.train_data))\n",
    "print(\"Val data:\\n\", view_class_balance(data.val_data))\n",
    "print(\"Test data:\\n\", view_class_balance(data.test_data))"
   ]
  },
  {
   "cell_type": "code",
   "execution_count": 5,
   "metadata": {},
   "outputs": [
    {
     "name": "stdout",
     "output_type": "stream",
     "text": [
      "env: XLA_PYTHON_CLIENT_PREALLOCATE=false\n"
     ]
    },
    {
     "name": "stderr",
     "output_type": "stream",
     "text": [
      "2023-03-24 01:43:48.525731: E external/org_tensorflow/tensorflow/compiler/xla/stream_executor/cuda/cuda_driver.cc:267] failed call to cuInit: CUDA_ERROR_UNKNOWN: unknown error\n",
      "WARNING:jax._src.lib.xla_bridge:No GPU/TPU found, falling back to CPU. (Set TF_CPP_MIN_LOG_LEVEL=0 and rerun for more info.)\n",
      "/home/kevin/code/rycolab/transformers/src/transformers/models/bert/modeling_bf_bert.py:181: UserWarning: Explicitly requested dtype <class 'jax.numpy.int64'> requested in zeros is not available, and will be truncated to dtype int32. To enable more dtypes, set the jax_enable_x64 configuration option or the JAX_ENABLE_X64 shell environment variable. See https://github.com/google/jax#current-gotchas for more.\n",
      "  bf.Parameter(jnp.zeros(self.position_ids.shape, dtype=jnp.int64), name=\"position_ids\"),\n"
     ]
    },
    {
     "name": "stdout",
     "output_type": "stream",
     "text": [
      "WARNING: TODO(KD) - when this is used, write some tests for this!\n"
     ]
    }
   ],
   "source": [
    "%env XLA_PYTHON_CLIENT_PREALLOCATE=false\n",
    "from transformers import BertConfig, BfBertForSequenceClassification\n",
    "config = BertConfig.from_pretrained(pretrained_model_name_or_path=\"../../brunoflow/models/bert/config-toy.json\")\n",
    "m = BfBertForSequenceClassification(config=config)\n"
   ]
  },
  {
   "cell_type": "code",
   "execution_count": 6,
   "metadata": {},
   "outputs": [
    {
     "data": {
      "text/plain": [
       "0.6931471805599453"
      ]
     },
     "execution_count": 6,
     "metadata": {},
     "output_type": "execute_result"
    }
   ],
   "source": [
    "np.log(2)"
   ]
  },
  {
   "cell_type": "code",
   "execution_count": 7,
   "metadata": {},
   "outputs": [
    {
     "data": {
      "text/plain": [
       "(node(name: /, val: 0.6930131912231445, grad: 0.0),\n",
       " node(name: +, val: [[-1.37126527e-03 -9.01138628e-05]\n",
       "  [-1.80962647e-03  1.66876882e-04]\n",
       "  [ 5.31584024e-04 -3.31441406e-04]\n",
       "  [ 7.98313471e-04 -7.68861282e-05]\n",
       "  [-1.86409964e-03  1.02115337e-04]\n",
       "  [-1.75975915e-03  6.41789084e-05]\n",
       "  [-7.61804986e-04 -1.17064876e-04]\n",
       "  [-1.88836711e-03  2.01237723e-04]\n",
       "  [ 5.31887345e-04 -3.31450050e-04]\n",
       "  [-1.77783147e-03  2.18887672e-05]\n",
       "  [-5.76508581e-04  2.60645320e-04]\n",
       "  [-1.75975636e-03  6.41542501e-05]\n",
       "  [-9.21344035e-04  3.09743162e-04]\n",
       "  [-1.88837666e-03  2.01235773e-04]\n",
       "  [-1.37104711e-03 -9.01628882e-05]\n",
       "  [-1.44251692e-03 -9.23413172e-05]\n",
       "  [-1.93395978e-03  6.85869381e-05]\n",
       "  [-1.37112266e-03 -9.01401872e-05]\n",
       "  [-8.70748248e-04  1.07544358e-04]\n",
       "  [ 4.08811873e-04 -2.61874229e-04]\n",
       "  [-1.48952263e-03  8.65522743e-05]\n",
       "  [-1.82982709e-03  1.83797645e-04]\n",
       "  [-9.21550323e-04  3.09744762e-04]\n",
       "  [-1.77767815e-03  2.18122805e-05]\n",
       "  [-1.90212997e-03  8.95837729e-05]\n",
       "  [-1.88837503e-03  2.01222967e-04]\n",
       "  [-9.21396946e-04  3.09764961e-04]\n",
       "  [-1.80964719e-03  1.66948899e-04]\n",
       "  [-5.76564868e-04  2.60675530e-04]\n",
       "  [-9.21339204e-04  3.09754862e-04]\n",
       "  [ 5.32005390e-04 -3.31450661e-04]\n",
       "  [-1.80961587e-03  1.66927231e-04]\n",
       "  [-1.75977056e-03  6.41691659e-05]\n",
       "  [ 7.98141467e-04 -7.68620594e-05]\n",
       "  [ 5.31392056e-04 -3.31435411e-04]\n",
       "  [-8.70555348e-04  1.07494561e-04]\n",
       "  [-1.86414865e-03  1.02167316e-04]\n",
       "  [-1.48937094e-03  8.64632530e-05]\n",
       "  [-1.48940191e-03  8.64702743e-05]\n",
       "  [ 4.09052038e-04 -2.61910114e-04]\n",
       "  [-1.48945709e-03  8.64973990e-05]\n",
       "  [-1.44238421e-03 -9.23490879e-05]\n",
       "  [-1.90225337e-03  8.96602651e-05]\n",
       "  [-1.80966686e-03  1.66912549e-04]\n",
       "  [-1.86427822e-03  1.02229809e-04]\n",
       "  [-1.90210913e-03  8.95853591e-05]\n",
       "  [ 7.98191933e-04 -7.68443279e-05]\n",
       "  [-1.48943684e-03  8.64964604e-05]\n",
       "  [-1.88837864e-03  2.01228322e-04]\n",
       "  [ 4.09187982e-04 -2.61907058e-04]\n",
       "  [-1.93390949e-03  6.85423583e-05]\n",
       "  [-1.75960246e-03  6.41157239e-05]\n",
       "  [-1.37121289e-03 -9.01177700e-05]\n",
       "  [-1.75684341e-03  3.45960621e-06]\n",
       "  [-8.70806572e-04  1.07569365e-04]\n",
       "  [-5.76736697e-04  2.60735571e-04]\n",
       "  [-7.61947886e-04 -1.17036463e-04]\n",
       "  [-1.80965557e-03  1.66885904e-04]\n",
       "  [-1.37095468e-03 -9.02031243e-05]\n",
       "  [-1.90213043e-03  8.95677949e-05]\n",
       "  [-1.75984344e-03  6.41933584e-05]\n",
       "  [-1.48948003e-03  8.65079128e-05]\n",
       "  [-1.48954708e-03  8.65194015e-05]\n",
       "  [-1.82985468e-03  1.83846685e-04]\n",
       "  [-1.37088518e-03 -9.01996536e-05]\n",
       "  [ 5.31567843e-04 -3.31440155e-04]\n",
       "  [-1.37121987e-03 -9.01069216e-05]\n",
       "  [-1.86418218e-03  1.02196624e-04]\n",
       "  [-5.76765393e-04  2.60633475e-04]\n",
       "  [ 5.31717320e-04 -3.31442337e-04]\n",
       "  [-7.61723786e-04 -1.17078896e-04]\n",
       "  [-9.21537401e-04  3.09740484e-04]\n",
       "  [-1.90223497e-03  8.96897691e-05]\n",
       "  [-1.82981463e-03  1.83787794e-04]\n",
       "  [-7.62032403e-04 -1.17011528e-04]\n",
       "  [-7.61690026e-04 -1.17079187e-04]\n",
       "  [-1.77780830e-03  2.18776968e-05]\n",
       "  [-1.37107936e-03 -9.01360836e-05]\n",
       "  [-1.37104036e-03 -9.01796302e-05]\n",
       "  [-1.75674132e-03  3.40917882e-06]\n",
       "  [-1.80964975e-03  1.66887185e-04]\n",
       "  [-1.90207479e-03  8.95619960e-05]\n",
       "  [-1.80969527e-03  1.66922066e-04]\n",
       "  [-5.76740073e-04  2.60667206e-04]\n",
       "  [-1.82988495e-03  1.83824493e-04]\n",
       "  [-7.61831354e-04 -1.17051801e-04]\n",
       "  [-1.75960432e-03  6.41160514e-05]\n",
       "  [-1.80957909e-03  1.66857688e-04]\n",
       "  [-9.21407016e-04  3.09750147e-04]\n",
       "  [-1.77772529e-03  2.18531932e-05]\n",
       "  [-1.44232064e-03 -9.23586194e-05]\n",
       "  [-1.80968444e-03  1.66959537e-04]\n",
       "  [ 5.31764410e-04 -3.31443007e-04]\n",
       "  [-1.80960924e-03  1.66887068e-04]\n",
       "  [ 4.08909109e-04 -2.61881505e-04]\n",
       "  [-1.44246838e-03 -9.23389307e-05]\n",
       "  [-7.62082695e-04 -1.17020762e-04]\n",
       "  [ 5.31635596e-04 -3.31440795e-04]\n",
       "  [ 7.97920104e-04 -7.68276004e-05]\n",
       "  [-1.82983116e-03  1.83799901e-04]\n",
       "  [-1.44231680e-03 -9.23673142e-05]\n",
       "  [ 7.98036635e-04 -7.68612663e-05]\n",
       "  [-1.86432595e-03  1.02263162e-04]\n",
       "  [-5.76450257e-04  2.60664703e-04]\n",
       "  [-1.77780772e-03  2.18823552e-05]\n",
       "  [-1.77783496e-03  2.18833393e-05]\n",
       "  [-1.86414865e-03  1.02186197e-04]\n",
       "  [ 7.97850138e-04 -7.68664031e-05]\n",
       "  [-1.80965255e-03  1.66910235e-04]\n",
       "  [-9.21467261e-04  3.09757452e-04]\n",
       "  [-1.76002097e-03  6.42224695e-05]\n",
       "  [-1.44248758e-03 -9.23350235e-05]\n",
       "  [-1.75966276e-03  6.41343431e-05]\n",
       "  [-1.44231296e-03 -9.23983389e-05]\n",
       "  [-1.37098448e-03 -9.01704771e-05]\n",
       "  [-1.75963272e-03  6.41350416e-05]\n",
       "  [-1.77784916e-03  2.18727055e-05]\n",
       "  [-9.21411847e-04  3.09761206e-04]\n",
       "  [-1.75990933e-03  6.42058076e-05]\n",
       "  [-1.75979431e-03  6.41711740e-05]\n",
       "  [-1.44265033e-03 -9.23072148e-05]\n",
       "  [-1.77762331e-03  2.18118785e-05]\n",
       "  [-1.48932741e-03  8.64477552e-05]\n",
       "  [-1.77778210e-03  2.18524619e-05]\n",
       "  [-1.86418765e-03  1.02176622e-04]\n",
       "  [ 4.08943481e-04 -2.61881680e-04]\n",
       "  [-1.90222985e-03  8.96512283e-05]\n",
       "  [-1.80969795e-03  1.66898215e-04]], grad: [[0. 0.]\n",
       "  [0. 0.]\n",
       "  [0. 0.]\n",
       "  [0. 0.]\n",
       "  [0. 0.]\n",
       "  [0. 0.]\n",
       "  [0. 0.]\n",
       "  [0. 0.]\n",
       "  [0. 0.]\n",
       "  [0. 0.]\n",
       "  [0. 0.]\n",
       "  [0. 0.]\n",
       "  [0. 0.]\n",
       "  [0. 0.]\n",
       "  [0. 0.]\n",
       "  [0. 0.]\n",
       "  [0. 0.]\n",
       "  [0. 0.]\n",
       "  [0. 0.]\n",
       "  [0. 0.]\n",
       "  [0. 0.]\n",
       "  [0. 0.]\n",
       "  [0. 0.]\n",
       "  [0. 0.]\n",
       "  [0. 0.]\n",
       "  [0. 0.]\n",
       "  [0. 0.]\n",
       "  [0. 0.]\n",
       "  [0. 0.]\n",
       "  [0. 0.]\n",
       "  [0. 0.]\n",
       "  [0. 0.]\n",
       "  [0. 0.]\n",
       "  [0. 0.]\n",
       "  [0. 0.]\n",
       "  [0. 0.]\n",
       "  [0. 0.]\n",
       "  [0. 0.]\n",
       "  [0. 0.]\n",
       "  [0. 0.]\n",
       "  [0. 0.]\n",
       "  [0. 0.]\n",
       "  [0. 0.]\n",
       "  [0. 0.]\n",
       "  [0. 0.]\n",
       "  [0. 0.]\n",
       "  [0. 0.]\n",
       "  [0. 0.]\n",
       "  [0. 0.]\n",
       "  [0. 0.]\n",
       "  [0. 0.]\n",
       "  [0. 0.]\n",
       "  [0. 0.]\n",
       "  [0. 0.]\n",
       "  [0. 0.]\n",
       "  [0. 0.]\n",
       "  [0. 0.]\n",
       "  [0. 0.]\n",
       "  [0. 0.]\n",
       "  [0. 0.]\n",
       "  [0. 0.]\n",
       "  [0. 0.]\n",
       "  [0. 0.]\n",
       "  [0. 0.]\n",
       "  [0. 0.]\n",
       "  [0. 0.]\n",
       "  [0. 0.]\n",
       "  [0. 0.]\n",
       "  [0. 0.]\n",
       "  [0. 0.]\n",
       "  [0. 0.]\n",
       "  [0. 0.]\n",
       "  [0. 0.]\n",
       "  [0. 0.]\n",
       "  [0. 0.]\n",
       "  [0. 0.]\n",
       "  [0. 0.]\n",
       "  [0. 0.]\n",
       "  [0. 0.]\n",
       "  [0. 0.]\n",
       "  [0. 0.]\n",
       "  [0. 0.]\n",
       "  [0. 0.]\n",
       "  [0. 0.]\n",
       "  [0. 0.]\n",
       "  [0. 0.]\n",
       "  [0. 0.]\n",
       "  [0. 0.]\n",
       "  [0. 0.]\n",
       "  [0. 0.]\n",
       "  [0. 0.]\n",
       "  [0. 0.]\n",
       "  [0. 0.]\n",
       "  [0. 0.]\n",
       "  [0. 0.]\n",
       "  [0. 0.]\n",
       "  [0. 0.]\n",
       "  [0. 0.]\n",
       "  [0. 0.]\n",
       "  [0. 0.]\n",
       "  [0. 0.]\n",
       "  [0. 0.]\n",
       "  [0. 0.]\n",
       "  [0. 0.]\n",
       "  [0. 0.]\n",
       "  [0. 0.]\n",
       "  [0. 0.]\n",
       "  [0. 0.]\n",
       "  [0. 0.]\n",
       "  [0. 0.]\n",
       "  [0. 0.]\n",
       "  [0. 0.]\n",
       "  [0. 0.]\n",
       "  [0. 0.]\n",
       "  [0. 0.]\n",
       "  [0. 0.]\n",
       "  [0. 0.]\n",
       "  [0. 0.]\n",
       "  [0. 0.]\n",
       "  [0. 0.]\n",
       "  [0. 0.]\n",
       "  [0. 0.]\n",
       "  [0. 0.]\n",
       "  [0. 0.]\n",
       "  [0. 0.]\n",
       "  [0. 0.]\n",
       "  [0. 0.]\n",
       "  [0. 0.]]))"
      ]
     },
     "execution_count": 7,
     "metadata": {},
     "output_type": "execute_result"
    }
   ],
   "source": [
    "import brunoflow as bf\n",
    "from jax import numpy as jnp \n",
    "x, y = next(iter(torch.utils.data.DataLoader(data.train_data, batch_size=128)))\n",
    "# x\n",
    "outputs = m(bf.Node(jnp.array(x.numpy())), labels=bf.Node(jnp.array(y.numpy())))\n",
    "outputs.loss, outputs.logits"
   ]
  },
  {
   "cell_type": "code",
   "execution_count": null,
   "metadata": {},
   "outputs": [],
   "source": []
  }
 ],
 "metadata": {
  "kernelspec": {
   "display_name": "Python 3.9.15 ('jax-hf')",
   "language": "python",
   "name": "python3"
  },
  "language_info": {
   "codemirror_mode": {
    "name": "ipython",
    "version": 3
   },
   "file_extension": ".py",
   "mimetype": "text/x-python",
   "name": "python",
   "nbconvert_exporter": "python",
   "pygments_lexer": "ipython3",
   "version": "3.9.15"
  },
  "orig_nbformat": 4,
  "vscode": {
   "interpreter": {
    "hash": "b4cc9cc217af6b7e12b7da5c82d5884fde07a0e0f6b7f76767c2fbf53f076f9a"
   }
  }
 },
 "nbformat": 4,
 "nbformat_minor": 2
}
