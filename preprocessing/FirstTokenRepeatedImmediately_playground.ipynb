{
 "cells": [
  {
   "cell_type": "code",
   "execution_count": 1,
   "metadata": {},
   "outputs": [
    {
     "name": "stderr",
     "output_type": "stream",
     "text": [
      "/home/kevin/miniconda3/envs/jax-hf/lib/python3.9/site-packages/tqdm/auto.py:22: TqdmWarning: IProgress not found. Please update jupyter and ipywidgets. See https://ipywidgets.readthedocs.io/en/stable/user_install.html\n",
      "  from .autonotebook import tqdm as notebook_tqdm\n"
     ]
    }
   ],
   "source": [
    "from datasets import FirstTokenRepeatedImmediately\n",
    "import pandas as pd\n",
    "import torch\n",
    "import numpy as np"
   ]
  },
  {
   "cell_type": "code",
   "execution_count": 2,
   "metadata": {},
   "outputs": [],
   "source": [
    "data = FirstTokenRepeatedImmediately(num_points=1000)"
   ]
  },
  {
   "cell_type": "code",
   "execution_count": 3,
   "metadata": {},
   "outputs": [
    {
     "data": {
      "text/plain": [
       "(tensor([[ 6, 16, 10,  3,  7, 10,  5,  8, 18,  9],\n",
       "         [ 1,  1, 17,  3,  7,  2, 15, 10, 18, 15],\n",
       "         [ 6,  6, 19,  2, 18,  3, 16, 12, 19,  7],\n",
       "         [ 7,  7, 17, 13,  4, 11,  5, 19,  6, 16],\n",
       "         [10,  7, 17, 11, 10, 15, 16,  8,  7, 11],\n",
       "         [19, 19, 13, 13, 13,  6,  3,  7, 17,  3],\n",
       "         [19, 19,  7, 14, 13,  6,  1,  8,  7,  7],\n",
       "         [ 4,  6, 13,  1,  5,  7, 19, 17, 18, 14],\n",
       "         [14, 14, 13, 19, 12, 17, 19, 13,  9,  8],\n",
       "         [ 2,  2, 15,  1,  9,  3,  5,  4,  4, 19]]),\n",
       " tensor([0, 1, 1, 1, 0, 1, 1, 0, 1, 1]))"
      ]
     },
     "execution_count": 3,
     "metadata": {},
     "output_type": "execute_result"
    }
   ],
   "source": [
    "# 0th index is data, 1xt index is label\n",
    "data.train_data.dataset.tensors[0][:10], data.train_data.dataset.tensors[1][:10]"
   ]
  },
  {
   "cell_type": "code",
   "execution_count": 4,
   "metadata": {},
   "outputs": [
    {
     "name": "stdout",
     "output_type": "stream",
     "text": [
      "Train data:\n",
      " 1    352\n",
      "0    348\n",
      "dtype: int64\n",
      "Val data:\n",
      " 0    51\n",
      "1    49\n",
      "dtype: int64\n",
      "Test data:\n",
      " 0    101\n",
      "1     99\n",
      "dtype: int64\n"
     ]
    }
   ],
   "source": [
    "def view_class_balance(dataset):\n",
    "    return pd.Series(next(iter(torch.utils.data.DataLoader(dataset, batch_size=len(data.train_data))))[1]).value_counts()\n",
    "\n",
    "print(\"Train data:\\n\", view_class_balance(data.train_data))\n",
    "print(\"Val data:\\n\", view_class_balance(data.val_data))\n",
    "print(\"Test data:\\n\", view_class_balance(data.test_data))"
   ]
  },
  {
   "cell_type": "code",
   "execution_count": 5,
   "metadata": {},
   "outputs": [
    {
     "name": "stdout",
     "output_type": "stream",
     "text": [
      "env: XLA_PYTHON_CLIENT_PREALLOCATE=false\n"
     ]
    },
    {
     "name": "stderr",
     "output_type": "stream",
     "text": [
      "2023-03-24 02:08:06.953449: E external/org_tensorflow/tensorflow/compiler/xla/stream_executor/cuda/cuda_driver.cc:267] failed call to cuInit: CUDA_ERROR_UNKNOWN: unknown error\n",
      "WARNING:jax._src.lib.xla_bridge:No GPU/TPU found, falling back to CPU. (Set TF_CPP_MIN_LOG_LEVEL=0 and rerun for more info.)\n",
      "/home/kevin/code/rycolab/transformers/src/transformers/models/bert/modeling_bf_bert.py:181: UserWarning: Explicitly requested dtype <class 'jax.numpy.int64'> requested in zeros is not available, and will be truncated to dtype int32. To enable more dtypes, set the jax_enable_x64 configuration option or the JAX_ENABLE_X64 shell environment variable. See https://github.com/google/jax#current-gotchas for more.\n",
      "  bf.Parameter(jnp.zeros(self.position_ids.shape, dtype=jnp.int64), name=\"position_ids\"),\n"
     ]
    },
    {
     "name": "stdout",
     "output_type": "stream",
     "text": [
      "WARNING: TODO(KD) - when this is used, write some tests for this!\n"
     ]
    }
   ],
   "source": [
    "%env XLA_PYTHON_CLIENT_PREALLOCATE=false\n",
    "from transformers import BertConfig, BfBertForSequenceClassification\n",
    "config = BertConfig.from_pretrained(pretrained_model_name_or_path=\"../../brunoflow/models/bert/config-toy.json\")\n",
    "m = BfBertForSequenceClassification(config=config)\n"
   ]
  },
  {
   "cell_type": "code",
   "execution_count": 6,
   "metadata": {},
   "outputs": [
    {
     "data": {
      "text/plain": [
       "0.6931471805599453"
      ]
     },
     "execution_count": 6,
     "metadata": {},
     "output_type": "execute_result"
    }
   ],
   "source": [
    "np.log(2)"
   ]
  },
  {
   "cell_type": "code",
   "execution_count": 7,
   "metadata": {},
   "outputs": [
    {
     "data": {
      "text/plain": [
       "(node(name: /, val: 0.6931401491165161, grad: 0.0),\n",
       " node(name: +, val: [[-7.8270656e-05  1.2060751e-03]\n",
       "  [-5.3731253e-04  3.3933457e-04]\n",
       "  [-1.6323072e-04  9.3649223e-04]\n",
       "  [-5.3741725e-04  3.3912671e-04]\n",
       "  [ 2.6346208e-04  1.3277408e-03]\n",
       "  [-7.5162004e-04 -1.9771922e-04]\n",
       "  [-5.3732458e-04  3.3931778e-04]\n",
       "  [ 2.6340602e-04  1.3277361e-03]\n",
       "  [-1.3696360e-04  5.5655290e-04]\n",
       "  [-6.0457771e-04  2.0210618e-04]\n",
       "  [-1.6325769e-04  9.3639409e-04]\n",
       "  [-2.8755754e-04  8.4810890e-04]\n",
       "  [-3.8415895e-04  1.8672130e-04]\n",
       "  [-2.8746997e-04  8.4839453e-04]\n",
       "  [-5.3735333e-04  3.3926807e-04]\n",
       "  [-3.8423581e-04  1.8644333e-04]\n",
       "  [-2.2824209e-04  7.3675101e-04]\n",
       "  [ 2.6349310e-04  1.3277391e-03]\n",
       "  [ 2.3014363e-04  1.2702040e-03]\n",
       "  [-6.0173997e-04  3.0150215e-05]\n",
       "  [-1.6323398e-04  9.3644852e-04]\n",
       "  [-9.5589145e-05  1.1383181e-03]\n",
       "  [-9.5576383e-05  1.1382358e-03]\n",
       "  [-6.0175773e-04  3.0139781e-05]\n",
       "  [-7.5159845e-04 -1.9766543e-04]\n",
       "  [-6.0185173e-04  2.9989415e-05]\n",
       "  [-1.6322579e-04  9.3647896e-04]\n",
       "  [-2.6011895e-04  4.9985154e-04]\n",
       "  [-3.5141638e-04  9.4481016e-05]\n",
       "  [-6.0175610e-04  3.0152987e-05]\n",
       "  [-1.6324717e-04  9.3640317e-04]\n",
       "  [ 2.6331242e-04  1.3274202e-03]\n",
       "  [-2.8755932e-04  8.4820169e-04]\n",
       "  [ 2.3008449e-04  1.2701207e-03]\n",
       "  [-9.5615775e-05  1.1382239e-03]\n",
       "  [-2.6011950e-04  4.9983396e-04]\n",
       "  [ 2.6332313e-04  1.3274442e-03]\n",
       "  [-7.8352903e-05  1.2060347e-03]\n",
       "  [-7.5174228e-04 -1.9798835e-04]\n",
       "  [-7.5168081e-04 -1.9788492e-04]\n",
       "  [ 2.3016449e-04  1.2703025e-03]\n",
       "  [-5.3731666e-04  3.3931228e-04]\n",
       "  [-6.0163729e-04  3.0400170e-05]\n",
       "  [ 2.3010437e-04  1.2700538e-03]\n",
       "  [-9.2390736e-05  1.0829853e-03]\n",
       "  [-3.8422903e-04  1.8631737e-04]\n",
       "  [ 1.6485403e-05  1.2566282e-03]\n",
       "  [-6.7975232e-04 -2.2404699e-04]\n",
       "  [-3.8423625e-04  1.8651733e-04]\n",
       "  [-6.0468918e-04  2.0191370e-04]\n",
       "  [-6.0184934e-04  3.0027239e-05]\n",
       "  [-2.6007943e-04  4.9988372e-04]\n",
       "  [-9.5611154e-05  1.1383010e-03]\n",
       "  [-9.2376067e-05  1.0830417e-03]\n",
       "  [-2.6017701e-04  4.9988454e-04]\n",
       "  [-2.8755845e-04  8.4814493e-04]\n",
       "  [ 2.3000737e-04  1.2699973e-03]\n",
       "  [-6.0167658e-04  3.0209749e-05]\n",
       "  [-9.5595096e-05  1.1382691e-03]\n",
       "  [-2.6021205e-04  4.9980066e-04]\n",
       "  [-6.0466572e-04  2.0197584e-04]\n",
       "  [-1.6332079e-04  9.3644357e-04]\n",
       "  [-1.9630270e-04  7.6621934e-04]\n",
       "  [-6.0162693e-04  3.0424704e-05]\n",
       "  [ 2.3001365e-04  1.2701029e-03]\n",
       "  [-6.0465361e-04  2.0199519e-04]\n",
       "  [-1.3693851e-04  5.5664935e-04]\n",
       "  [-9.5617645e-05  1.1382239e-03]\n",
       "  [-6.7969150e-04 -2.2392448e-04]\n",
       "  [ 2.6336598e-04  1.3276098e-03]\n",
       "  [-7.5169158e-04 -1.9788205e-04]\n",
       "  [-3.8432225e-04  1.8613380e-04]\n",
       "  [-7.5146183e-04 -1.9742898e-04]\n",
       "  [-1.6326475e-04  9.3645504e-04]\n",
       "  [-1.9634608e-04  7.6623674e-04]\n",
       "  [-2.2830836e-04  7.3669350e-04]\n",
       "  [-6.7970436e-04 -2.2399313e-04]\n",
       "  [-1.6327293e-04  9.3642034e-04]\n",
       "  [-5.3733651e-04  3.3928241e-04]\n",
       "  [-1.3690274e-04  5.5665389e-04]\n",
       "  [-6.7962444e-04 -2.2371519e-04]\n",
       "  [-3.8425176e-04  1.8642790e-04]\n",
       "  [-6.0176029e-04  3.0122734e-05]\n",
       "  [-1.6323640e-04  9.3651243e-04]\n",
       "  [-3.5134717e-04  9.4408169e-05]\n",
       "  [-1.9634519e-04  7.6620618e-04]\n",
       "  [-6.0176360e-04  3.0153516e-05]\n",
       "  [-2.8753839e-04  8.4823213e-04]\n",
       "  [-9.2358983e-05  1.0830819e-03]\n",
       "  [-6.0447137e-04  2.0228380e-04]\n",
       "  [-5.3736800e-04  3.3925669e-04]\n",
       "  [-9.5593168e-05  1.1383743e-03]\n",
       "  [ 1.6481641e-05  1.2565142e-03]\n",
       "  [-6.0455187e-04  2.0213939e-04]\n",
       "  [-3.8420080e-04  1.8642140e-04]\n",
       "  [-3.5146385e-04  9.4287519e-05]\n",
       "  [-2.6013012e-04  4.9985253e-04]\n",
       "  [-5.3738966e-04  3.3919426e-04]\n",
       "  [-6.7972770e-04 -2.2397090e-04]\n",
       "  [-9.2340735e-05  1.0830885e-03]\n",
       "  [-1.6330826e-04  9.3647157e-04]\n",
       "  [-6.7973504e-04 -2.2402201e-04]\n",
       "  [-6.0175004e-04  3.0104113e-05]\n",
       "  [ 2.3023711e-04  1.2703093e-03]\n",
       "  [-1.9633521e-04  7.6622190e-04]\n",
       "  [ 1.6535529e-05  1.2565162e-03]\n",
       "  [-2.6015542e-04  4.9982010e-04]\n",
       "  [-9.2299182e-05  1.0830384e-03]\n",
       "  [-1.3698146e-04  5.5652548e-04]\n",
       "  [-1.6327333e-04  9.3644345e-04]\n",
       "  [-3.8440528e-04  1.8623284e-04]\n",
       "  [-2.8762803e-04  8.4793573e-04]\n",
       "  [-2.6019695e-04  4.9973623e-04]\n",
       "  [-9.5513387e-05  1.1383311e-03]\n",
       "  [ 2.6347252e-04  1.3277314e-03]\n",
       "  [-7.8301106e-05  1.2061298e-03]\n",
       "  [-5.3732010e-04  3.3927773e-04]\n",
       "  [-9.2415328e-05  1.0830261e-03]\n",
       "  [ 1.6479895e-05  1.2565523e-03]\n",
       "  [-2.8756089e-04  8.4821112e-04]\n",
       "  [-2.6013074e-04  4.9978745e-04]\n",
       "  [-2.2834066e-04  7.3672377e-04]\n",
       "  [ 1.6449729e-05  1.2565014e-03]\n",
       "  [-2.2828995e-04  7.3672790e-04]\n",
       "  [-5.3732580e-04  3.3929784e-04]\n",
       "  [-6.7983981e-04 -2.2420456e-04]\n",
       "  [-3.5153888e-04  9.4293740e-05]\n",
       "  [-2.8756430e-04  8.4815308e-04]], grad: [[0. 0.]\n",
       "  [0. 0.]\n",
       "  [0. 0.]\n",
       "  [0. 0.]\n",
       "  [0. 0.]\n",
       "  [0. 0.]\n",
       "  [0. 0.]\n",
       "  [0. 0.]\n",
       "  [0. 0.]\n",
       "  [0. 0.]\n",
       "  [0. 0.]\n",
       "  [0. 0.]\n",
       "  [0. 0.]\n",
       "  [0. 0.]\n",
       "  [0. 0.]\n",
       "  [0. 0.]\n",
       "  [0. 0.]\n",
       "  [0. 0.]\n",
       "  [0. 0.]\n",
       "  [0. 0.]\n",
       "  [0. 0.]\n",
       "  [0. 0.]\n",
       "  [0. 0.]\n",
       "  [0. 0.]\n",
       "  [0. 0.]\n",
       "  [0. 0.]\n",
       "  [0. 0.]\n",
       "  [0. 0.]\n",
       "  [0. 0.]\n",
       "  [0. 0.]\n",
       "  [0. 0.]\n",
       "  [0. 0.]\n",
       "  [0. 0.]\n",
       "  [0. 0.]\n",
       "  [0. 0.]\n",
       "  [0. 0.]\n",
       "  [0. 0.]\n",
       "  [0. 0.]\n",
       "  [0. 0.]\n",
       "  [0. 0.]\n",
       "  [0. 0.]\n",
       "  [0. 0.]\n",
       "  [0. 0.]\n",
       "  [0. 0.]\n",
       "  [0. 0.]\n",
       "  [0. 0.]\n",
       "  [0. 0.]\n",
       "  [0. 0.]\n",
       "  [0. 0.]\n",
       "  [0. 0.]\n",
       "  [0. 0.]\n",
       "  [0. 0.]\n",
       "  [0. 0.]\n",
       "  [0. 0.]\n",
       "  [0. 0.]\n",
       "  [0. 0.]\n",
       "  [0. 0.]\n",
       "  [0. 0.]\n",
       "  [0. 0.]\n",
       "  [0. 0.]\n",
       "  [0. 0.]\n",
       "  [0. 0.]\n",
       "  [0. 0.]\n",
       "  [0. 0.]\n",
       "  [0. 0.]\n",
       "  [0. 0.]\n",
       "  [0. 0.]\n",
       "  [0. 0.]\n",
       "  [0. 0.]\n",
       "  [0. 0.]\n",
       "  [0. 0.]\n",
       "  [0. 0.]\n",
       "  [0. 0.]\n",
       "  [0. 0.]\n",
       "  [0. 0.]\n",
       "  [0. 0.]\n",
       "  [0. 0.]\n",
       "  [0. 0.]\n",
       "  [0. 0.]\n",
       "  [0. 0.]\n",
       "  [0. 0.]\n",
       "  [0. 0.]\n",
       "  [0. 0.]\n",
       "  [0. 0.]\n",
       "  [0. 0.]\n",
       "  [0. 0.]\n",
       "  [0. 0.]\n",
       "  [0. 0.]\n",
       "  [0. 0.]\n",
       "  [0. 0.]\n",
       "  [0. 0.]\n",
       "  [0. 0.]\n",
       "  [0. 0.]\n",
       "  [0. 0.]\n",
       "  [0. 0.]\n",
       "  [0. 0.]\n",
       "  [0. 0.]\n",
       "  [0. 0.]\n",
       "  [0. 0.]\n",
       "  [0. 0.]\n",
       "  [0. 0.]\n",
       "  [0. 0.]\n",
       "  [0. 0.]\n",
       "  [0. 0.]\n",
       "  [0. 0.]\n",
       "  [0. 0.]\n",
       "  [0. 0.]\n",
       "  [0. 0.]\n",
       "  [0. 0.]\n",
       "  [0. 0.]\n",
       "  [0. 0.]\n",
       "  [0. 0.]\n",
       "  [0. 0.]\n",
       "  [0. 0.]\n",
       "  [0. 0.]\n",
       "  [0. 0.]\n",
       "  [0. 0.]\n",
       "  [0. 0.]\n",
       "  [0. 0.]\n",
       "  [0. 0.]\n",
       "  [0. 0.]\n",
       "  [0. 0.]\n",
       "  [0. 0.]\n",
       "  [0. 0.]\n",
       "  [0. 0.]\n",
       "  [0. 0.]\n",
       "  [0. 0.]\n",
       "  [0. 0.]]))"
      ]
     },
     "execution_count": 7,
     "metadata": {},
     "output_type": "execute_result"
    }
   ],
   "source": [
    "import brunoflow as bf\n",
    "from jax import numpy as jnp \n",
    "x, y = next(iter(torch.utils.data.DataLoader(data.train_data, batch_size=128)))\n",
    "# x\n",
    "outputs = m(bf.Node(jnp.array(x.numpy())), labels=bf.Node(jnp.array(y.numpy())))\n",
    "outputs.loss, outputs.logits"
   ]
  },
  {
   "cell_type": "code",
   "execution_count": null,
   "metadata": {},
   "outputs": [],
   "source": []
  }
 ],
 "metadata": {
  "kernelspec": {
   "display_name": "Python 3.9.15 ('jax-hf')",
   "language": "python",
   "name": "python3"
  },
  "language_info": {
   "codemirror_mode": {
    "name": "ipython",
    "version": 3
   },
   "file_extension": ".py",
   "mimetype": "text/x-python",
   "name": "python",
   "nbconvert_exporter": "python",
   "pygments_lexer": "ipython3",
   "version": "3.9.15"
  },
  "orig_nbformat": 4,
  "vscode": {
   "interpreter": {
    "hash": "b4cc9cc217af6b7e12b7da5c82d5884fde07a0e0f6b7f76767c2fbf53f076f9a"
   }
  }
 },
 "nbformat": 4,
 "nbformat_minor": 2
}
