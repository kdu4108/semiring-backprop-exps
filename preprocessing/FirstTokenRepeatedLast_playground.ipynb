{
 "cells": [
  {
   "cell_type": "code",
   "execution_count": 1,
   "metadata": {},
   "outputs": [
    {
     "name": "stderr",
     "output_type": "stream",
     "text": [
      "/home/kevin/miniconda3/envs/jax-hf/lib/python3.9/site-packages/tqdm/auto.py:22: TqdmWarning: IProgress not found. Please update jupyter and ipywidgets. See https://ipywidgets.readthedocs.io/en/stable/user_install.html\n",
      "  from .autonotebook import tqdm as notebook_tqdm\n"
     ]
    }
   ],
   "source": [
    "from datasets import FirstTokenRepeatedLast\n",
    "import pandas as pd\n",
    "import torch\n",
    "import numpy as np"
   ]
  },
  {
   "cell_type": "code",
   "execution_count": 2,
   "metadata": {},
   "outputs": [],
   "source": [
    "data = FirstTokenRepeatedLast(num_points=1000)"
   ]
  },
  {
   "cell_type": "code",
   "execution_count": 3,
   "metadata": {},
   "outputs": [
    {
     "data": {
      "text/plain": [
       "(tensor([[17,  1,  9,  7, 12,  5,  6,  8, 11, 17],\n",
       "         [18,  4, 18, 18,  5, 19, 18,  3,  4, 19],\n",
       "         [ 2,  7, 13, 16, 17, 19, 14,  2,  4,  2],\n",
       "         [ 8, 13, 13, 14, 19, 12, 12, 11,  7, 17],\n",
       "         [19, 10, 12, 17, 10,  1,  5, 12,  4, 19],\n",
       "         [17,  3,  3,  6, 17,  7, 14, 18,  6, 13],\n",
       "         [ 8,  3, 16, 15, 19, 17, 12,  2, 11,  8],\n",
       "         [ 9,  4, 12,  8, 10, 14,  7,  8,  9,  9],\n",
       "         [19, 12,  2,  2,  7,  7,  6,  5,  3, 19],\n",
       "         [15, 14,  4,  2, 19, 15,  3, 12, 12,  3]]),\n",
       " tensor([1, 0, 1, 0, 1, 0, 1, 1, 1, 0]))"
      ]
     },
     "execution_count": 3,
     "metadata": {},
     "output_type": "execute_result"
    }
   ],
   "source": [
    "# 0th index is data, 1xt index is label\n",
    "data.train_data.dataset.tensors[0][:10], data.train_data.dataset.tensors[1][:10]"
   ]
  },
  {
   "cell_type": "code",
   "execution_count": 4,
   "metadata": {},
   "outputs": [
    {
     "name": "stdout",
     "output_type": "stream",
     "text": [
      "Train data:\n",
      " 0    354\n",
      "1    346\n",
      "dtype: int64\n",
      "Val data:\n",
      " 1    59\n",
      "0    41\n",
      "dtype: int64\n",
      "Test data:\n",
      " 0    105\n",
      "1     95\n",
      "dtype: int64\n"
     ]
    }
   ],
   "source": [
    "def view_class_balance(dataset):\n",
    "    return pd.Series(next(iter(torch.utils.data.DataLoader(dataset, batch_size=len(data.train_data))))[1]).value_counts()\n",
    "\n",
    "print(\"Train data:\\n\", view_class_balance(data.train_data))\n",
    "print(\"Val data:\\n\", view_class_balance(data.val_data))\n",
    "print(\"Test data:\\n\", view_class_balance(data.test_data))"
   ]
  },
  {
   "cell_type": "code",
   "execution_count": 5,
   "metadata": {},
   "outputs": [
    {
     "name": "stdout",
     "output_type": "stream",
     "text": [
      "env: XLA_PYTHON_CLIENT_PREALLOCATE=false\n"
     ]
    },
    {
     "name": "stderr",
     "output_type": "stream",
     "text": [
      "2023-03-24 02:08:16.012572: E external/org_tensorflow/tensorflow/compiler/xla/stream_executor/cuda/cuda_driver.cc:267] failed call to cuInit: CUDA_ERROR_UNKNOWN: unknown error\n",
      "WARNING:jax._src.lib.xla_bridge:No GPU/TPU found, falling back to CPU. (Set TF_CPP_MIN_LOG_LEVEL=0 and rerun for more info.)\n",
      "/home/kevin/code/rycolab/transformers/src/transformers/models/bert/modeling_bf_bert.py:181: UserWarning: Explicitly requested dtype <class 'jax.numpy.int64'> requested in zeros is not available, and will be truncated to dtype int32. To enable more dtypes, set the jax_enable_x64 configuration option or the JAX_ENABLE_X64 shell environment variable. See https://github.com/google/jax#current-gotchas for more.\n",
      "  bf.Parameter(jnp.zeros(self.position_ids.shape, dtype=jnp.int64), name=\"position_ids\"),\n"
     ]
    },
    {
     "name": "stdout",
     "output_type": "stream",
     "text": [
      "WARNING: TODO(KD) - when this is used, write some tests for this!\n"
     ]
    }
   ],
   "source": [
    "%env XLA_PYTHON_CLIENT_PREALLOCATE=false\n",
    "from transformers import BertConfig, BfBertForSequenceClassification\n",
    "config = BertConfig.from_pretrained(pretrained_model_name_or_path=\"../../brunoflow/models/bert/config-toy.json\")\n",
    "m = BfBertForSequenceClassification(config=config)\n"
   ]
  },
  {
   "cell_type": "code",
   "execution_count": 6,
   "metadata": {},
   "outputs": [
    {
     "data": {
      "text/plain": [
       "0.6931471805599453"
      ]
     },
     "execution_count": 6,
     "metadata": {},
     "output_type": "execute_result"
    }
   ],
   "source": [
    "np.log(2)"
   ]
  },
  {
   "cell_type": "code",
   "execution_count": 7,
   "metadata": {},
   "outputs": [
    {
     "data": {
      "text/plain": [
       "(node(name: /, val: 0.6931898593902588, grad: 0.0),\n",
       " node(name: +, val: [[-8.93743359e-04 -5.39658475e-04]\n",
       "  [-6.30752358e-04 -1.24714256e-03]\n",
       "  [-7.08709704e-04  3.45047534e-04]\n",
       "  [ 3.19276674e-04  6.54158939e-04]\n",
       "  [-2.30401944e-04  7.82586168e-04]\n",
       "  [-7.08558015e-04  3.45299341e-04]\n",
       "  [ 5.65697381e-04 -7.55890460e-06]\n",
       "  [ 3.18721432e-04  6.53633615e-04]\n",
       "  [-1.05148694e-03 -5.74758509e-04]\n",
       "  [-3.56030738e-04 -1.33626818e-04]\n",
       "  [ 5.64655871e-04 -8.39027325e-06]\n",
       "  [-1.52113003e-04 -6.14569406e-04]\n",
       "  [-8.93747841e-04 -5.39616332e-04]\n",
       "  [-2.84601439e-04 -6.64322462e-04]\n",
       "  [-3.55833356e-04 -1.33451234e-04]\n",
       "  [ 7.18896103e-04  5.09075762e-04]\n",
       "  [ 7.18688592e-04  5.09047299e-04]\n",
       "  [-3.20820109e-04  5.66291157e-04]\n",
       "  [-2.84989219e-04 -6.64601102e-04]\n",
       "  [ 3.18753358e-04  6.53514348e-04]\n",
       "  [ 1.77451002e-04  5.84069057e-04]\n",
       "  [ 6.41890627e-04  1.27545313e-03]\n",
       "  [-3.55731143e-04 -1.33368565e-04]\n",
       "  [ 3.19092418e-04  6.53770694e-04]\n",
       "  [-1.51831016e-04 -6.14517950e-04]\n",
       "  [ 2.30242676e-05 -3.45570584e-06]\n",
       "  [-1.05149404e-03 -5.74837613e-04]\n",
       "  [-2.30524747e-04  7.82444142e-04]\n",
       "  [-3.56266741e-04 -1.33867768e-04]\n",
       "  [-2.31377431e-04  7.81436509e-04]\n",
       "  [ 6.41843653e-04  1.27545977e-03]\n",
       "  [-6.30613067e-04 -1.24718877e-03]\n",
       "  [ 2.32844977e-05 -3.34718038e-06]\n",
       "  [-1.51750952e-04 -6.14496181e-04]\n",
       "  [ 5.11099177e-04  8.67694907e-04]\n",
       "  [ 5.11359714e-04  8.67885596e-04]\n",
       "  [ 1.01428624e-04  7.73349137e-04]\n",
       "  [ 5.11123333e-04  8.67672323e-04]\n",
       "  [-1.52084147e-04 -6.14616962e-04]\n",
       "  [-3.55777971e-04 -1.33461668e-04]\n",
       "  [ 3.18514794e-04  6.53319468e-04]\n",
       "  [-3.20518215e-04  5.66745875e-04]\n",
       "  [-3.55801982e-04 -1.33428257e-04]\n",
       "  [ 5.65198308e-04 -7.95500546e-06]\n",
       "  [ 1.77759881e-04  5.84385358e-04]\n",
       "  [-9.39462101e-04 -1.09883738e-04]\n",
       "  [-3.70279944e-04 -5.30800957e-04]\n",
       "  [-7.08499749e-04  3.45396693e-04]\n",
       "  [-8.93744640e-04 -5.39594563e-04]\n",
       "  [ 2.30620572e-05 -3.38935274e-06]\n",
       "  [-3.70300579e-04 -5.30803693e-04]\n",
       "  [-3.70472699e-04 -5.30661899e-04]\n",
       "  [-7.08334730e-04  3.45667620e-04]\n",
       "  [ 5.11103717e-04  8.67646304e-04]\n",
       "  [-1.51988730e-04 -6.14570978e-04]\n",
       "  [-6.30664872e-04 -1.24716514e-03]\n",
       "  [ 6.42002211e-04  1.27544312e-03]\n",
       "  [ 3.19091370e-04  6.53874187e-04]\n",
       "  [-8.93747143e-04 -5.39616158e-04]\n",
       "  [-1.52341934e-04 -6.14645833e-04]\n",
       "  [ 7.19069212e-04  5.09234495e-04]\n",
       "  [-7.08646956e-04  3.45152657e-04]\n",
       "  [ 5.65622933e-04 -7.54130861e-06]\n",
       "  [ 6.41809602e-04  1.27546641e-03]\n",
       "  [ 1.77379829e-04  5.84089663e-04]\n",
       "  [-1.51759086e-04 -6.14446879e-04]\n",
       "  [ 6.41851861e-04  1.27546221e-03]\n",
       "  [-1.05149299e-03 -5.74825914e-04]\n",
       "  [-2.84940121e-04 -6.64527295e-04]\n",
       "  [ 1.01571379e-04  7.73542328e-04]\n",
       "  [-3.70233698e-04 -5.30650374e-04]\n",
       "  [-6.30725699e-04 -1.24714221e-03]\n",
       "  [-2.84565846e-04 -6.64381718e-04]\n",
       "  [ 3.18557286e-04  6.53458468e-04]\n",
       "  [ 6.42062339e-04  1.27543649e-03]\n",
       "  [-7.08721112e-04  3.45031411e-04]\n",
       "  [ 2.31300328e-05 -3.34542119e-06]\n",
       "  [ 5.11007383e-04  8.67539609e-04]\n",
       "  [-1.52024804e-04 -6.14636752e-04]\n",
       "  [ 5.10774436e-04  8.67418305e-04]\n",
       "  [ 1.01525053e-04  7.73387845e-04]\n",
       "  [ 1.01511338e-04  7.73440290e-04]\n",
       "  [-6.30637398e-04 -1.24718458e-03]\n",
       "  [-1.52342094e-04 -6.14643039e-04]\n",
       "  [-8.93740682e-04 -5.39476285e-04]\n",
       "  [-2.30941791e-04  7.81947398e-04]\n",
       "  [-1.05149683e-03 -5.74881909e-04]\n",
       "  [ 3.19058279e-04  6.53922616e-04]\n",
       "  [ 1.77764829e-04  5.84329944e-04]\n",
       "  [ 3.18826642e-04  6.53644267e-04]\n",
       "  [ 2.31260965e-05 -3.34048013e-06]\n",
       "  [ 3.18610022e-04  6.53413124e-04]\n",
       "  [-3.20941268e-04  5.66120143e-04]\n",
       "  [-7.08376232e-04  3.45598062e-04]\n",
       "  [-2.30750316e-04  7.82185642e-04]\n",
       "  [-3.20615189e-04  5.66623057e-04]\n",
       "  [-9.39473684e-04 -1.09913650e-04]\n",
       "  [-7.08484498e-04  3.45421140e-04]\n",
       "  [ 6.41838473e-04  1.27545791e-03]\n",
       "  [ 7.19021598e-04  5.09313308e-04]\n",
       "  [-2.84763752e-04 -6.64388819e-04]\n",
       "  [-1.05149799e-03 -5.74872713e-04]\n",
       "  [ 1.01363315e-04  7.73297565e-04]\n",
       "  [ 3.18872917e-04  6.53716212e-04]\n",
       "  [ 1.01283680e-04  7.73238426e-04]\n",
       "  [-2.84812122e-04 -6.64466352e-04]\n",
       "  [-3.70411755e-04 -5.30787278e-04]\n",
       "  [-1.05150603e-03 -5.74980630e-04]\n",
       "  [-2.84669833e-04 -6.64380495e-04]\n",
       "  [-2.31526181e-04  7.81247567e-04]\n",
       "  [-2.30888516e-04  7.82026327e-04]\n",
       "  [-1.05149997e-03 -5.74904960e-04]\n",
       "  [ 5.11303195e-04  8.67709634e-04]\n",
       "  [-8.93744174e-04 -5.39619592e-04]\n",
       "  [-2.30955702e-04  7.81925744e-04]\n",
       "  [-9.39452148e-04 -1.09859648e-04]\n",
       "  [-9.39445745e-04 -1.09840628e-04]\n",
       "  [-8.93747783e-04 -5.39724133e-04]\n",
       "  [-9.39405465e-04 -1.09737470e-04]\n",
       "  [-1.05150696e-03 -5.74996753e-04]\n",
       "  [ 1.01380901e-04  7.73282838e-04]\n",
       "  [ 3.19037412e-04  6.53758936e-04]\n",
       "  [ 5.11369028e-04  8.67752999e-04]\n",
       "  [-1.52181907e-04 -6.14658406e-04]\n",
       "  [-3.55842378e-04 -1.33423615e-04]\n",
       "  [ 1.01377242e-04  7.73289357e-04]\n",
       "  [ 7.18884927e-04  5.09098521e-04]\n",
       "  [-3.56045784e-04 -1.33753638e-04]], grad: [[0. 0.]\n",
       "  [0. 0.]\n",
       "  [0. 0.]\n",
       "  [0. 0.]\n",
       "  [0. 0.]\n",
       "  [0. 0.]\n",
       "  [0. 0.]\n",
       "  [0. 0.]\n",
       "  [0. 0.]\n",
       "  [0. 0.]\n",
       "  [0. 0.]\n",
       "  [0. 0.]\n",
       "  [0. 0.]\n",
       "  [0. 0.]\n",
       "  [0. 0.]\n",
       "  [0. 0.]\n",
       "  [0. 0.]\n",
       "  [0. 0.]\n",
       "  [0. 0.]\n",
       "  [0. 0.]\n",
       "  [0. 0.]\n",
       "  [0. 0.]\n",
       "  [0. 0.]\n",
       "  [0. 0.]\n",
       "  [0. 0.]\n",
       "  [0. 0.]\n",
       "  [0. 0.]\n",
       "  [0. 0.]\n",
       "  [0. 0.]\n",
       "  [0. 0.]\n",
       "  [0. 0.]\n",
       "  [0. 0.]\n",
       "  [0. 0.]\n",
       "  [0. 0.]\n",
       "  [0. 0.]\n",
       "  [0. 0.]\n",
       "  [0. 0.]\n",
       "  [0. 0.]\n",
       "  [0. 0.]\n",
       "  [0. 0.]\n",
       "  [0. 0.]\n",
       "  [0. 0.]\n",
       "  [0. 0.]\n",
       "  [0. 0.]\n",
       "  [0. 0.]\n",
       "  [0. 0.]\n",
       "  [0. 0.]\n",
       "  [0. 0.]\n",
       "  [0. 0.]\n",
       "  [0. 0.]\n",
       "  [0. 0.]\n",
       "  [0. 0.]\n",
       "  [0. 0.]\n",
       "  [0. 0.]\n",
       "  [0. 0.]\n",
       "  [0. 0.]\n",
       "  [0. 0.]\n",
       "  [0. 0.]\n",
       "  [0. 0.]\n",
       "  [0. 0.]\n",
       "  [0. 0.]\n",
       "  [0. 0.]\n",
       "  [0. 0.]\n",
       "  [0. 0.]\n",
       "  [0. 0.]\n",
       "  [0. 0.]\n",
       "  [0. 0.]\n",
       "  [0. 0.]\n",
       "  [0. 0.]\n",
       "  [0. 0.]\n",
       "  [0. 0.]\n",
       "  [0. 0.]\n",
       "  [0. 0.]\n",
       "  [0. 0.]\n",
       "  [0. 0.]\n",
       "  [0. 0.]\n",
       "  [0. 0.]\n",
       "  [0. 0.]\n",
       "  [0. 0.]\n",
       "  [0. 0.]\n",
       "  [0. 0.]\n",
       "  [0. 0.]\n",
       "  [0. 0.]\n",
       "  [0. 0.]\n",
       "  [0. 0.]\n",
       "  [0. 0.]\n",
       "  [0. 0.]\n",
       "  [0. 0.]\n",
       "  [0. 0.]\n",
       "  [0. 0.]\n",
       "  [0. 0.]\n",
       "  [0. 0.]\n",
       "  [0. 0.]\n",
       "  [0. 0.]\n",
       "  [0. 0.]\n",
       "  [0. 0.]\n",
       "  [0. 0.]\n",
       "  [0. 0.]\n",
       "  [0. 0.]\n",
       "  [0. 0.]\n",
       "  [0. 0.]\n",
       "  [0. 0.]\n",
       "  [0. 0.]\n",
       "  [0. 0.]\n",
       "  [0. 0.]\n",
       "  [0. 0.]\n",
       "  [0. 0.]\n",
       "  [0. 0.]\n",
       "  [0. 0.]\n",
       "  [0. 0.]\n",
       "  [0. 0.]\n",
       "  [0. 0.]\n",
       "  [0. 0.]\n",
       "  [0. 0.]\n",
       "  [0. 0.]\n",
       "  [0. 0.]\n",
       "  [0. 0.]\n",
       "  [0. 0.]\n",
       "  [0. 0.]\n",
       "  [0. 0.]\n",
       "  [0. 0.]\n",
       "  [0. 0.]\n",
       "  [0. 0.]\n",
       "  [0. 0.]\n",
       "  [0. 0.]\n",
       "  [0. 0.]\n",
       "  [0. 0.]\n",
       "  [0. 0.]]))"
      ]
     },
     "execution_count": 7,
     "metadata": {},
     "output_type": "execute_result"
    }
   ],
   "source": [
    "import brunoflow as bf\n",
    "from jax import numpy as jnp \n",
    "x, y = next(iter(torch.utils.data.DataLoader(data.train_data, batch_size=128)))\n",
    "# x\n",
    "outputs = m(bf.Node(jnp.array(x.numpy())), labels=bf.Node(jnp.array(y.numpy())))\n",
    "outputs.loss, outputs.logits"
   ]
  },
  {
   "cell_type": "code",
   "execution_count": null,
   "metadata": {},
   "outputs": [],
   "source": []
  }
 ],
 "metadata": {
  "kernelspec": {
   "display_name": "Python 3.9.15 ('jax-hf')",
   "language": "python",
   "name": "python3"
  },
  "language_info": {
   "codemirror_mode": {
    "name": "ipython",
    "version": 3
   },
   "file_extension": ".py",
   "mimetype": "text/x-python",
   "name": "python",
   "nbconvert_exporter": "python",
   "pygments_lexer": "ipython3",
   "version": "3.9.15"
  },
  "orig_nbformat": 4,
  "vscode": {
   "interpreter": {
    "hash": "b4cc9cc217af6b7e12b7da5c82d5884fde07a0e0f6b7f76767c2fbf53f076f9a"
   }
  }
 },
 "nbformat": 4,
 "nbformat_minor": 2
}
