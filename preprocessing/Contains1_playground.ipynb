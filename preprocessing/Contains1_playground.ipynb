{
 "cells": [
  {
   "cell_type": "code",
   "execution_count": 1,
   "metadata": {},
   "outputs": [
    {
     "name": "stderr",
     "output_type": "stream",
     "text": [
      "/home/kevin/miniconda3/envs/jax-hf/lib/python3.9/site-packages/tqdm/auto.py:22: TqdmWarning: IProgress not found. Please update jupyter and ipywidgets. See https://ipywidgets.readthedocs.io/en/stable/user_install.html\n",
      "  from .autonotebook import tqdm as notebook_tqdm\n"
     ]
    }
   ],
   "source": [
    "from datasets import Contains1\n",
    "import pandas as pd\n",
    "import torch\n",
    "import numpy as np"
   ]
  },
  {
   "cell_type": "code",
   "execution_count": 2,
   "metadata": {},
   "outputs": [],
   "source": [
    "data = Contains1(num_points=1000)"
   ]
  },
  {
   "cell_type": "code",
   "execution_count": 3,
   "metadata": {},
   "outputs": [
    {
     "data": {
      "text/plain": [
       "(tensor([[ 5,  8, 12, 11, 16,  1, 13, 11, 13, 17],\n",
       "         [15,  4,  4,  8,  6, 15, 14, 15, 15, 19],\n",
       "         [14,  5, 13,  9, 17, 15, 17, 15,  9, 16],\n",
       "         [16,  1,  5,  3,  8, 15,  1,  5, 18,  8],\n",
       "         [ 4,  7, 11, 11, 18, 12,  5,  9,  3,  9],\n",
       "         [ 2, 12, 16, 14, 17,  2,  1,  1, 11, 11],\n",
       "         [10,  9, 14, 12, 15, 14,  2,  8,  4, 10],\n",
       "         [19,  1, 12,  6, 15, 10,  3, 17,  2, 14],\n",
       "         [ 7,  8,  3, 12,  4, 19,  8, 12, 11, 15],\n",
       "         [ 3, 12, 11, 12, 14,  2,  4,  7, 18, 16]]),\n",
       " tensor([1, 0, 0, 1, 0, 1, 0, 1, 0, 0]))"
      ]
     },
     "execution_count": 3,
     "metadata": {},
     "output_type": "execute_result"
    }
   ],
   "source": [
    "# 0th index is data, 1xt index is label\n",
    "data.train_data.dataset.tensors[0][:10], data.train_data.dataset.tensors[1][:10]"
   ]
  },
  {
   "cell_type": "code",
   "execution_count": 4,
   "metadata": {},
   "outputs": [
    {
     "name": "stdout",
     "output_type": "stream",
     "text": [
      "Train data:\n",
      " 0    360\n",
      "1    340\n",
      "dtype: int64\n",
      "Val data:\n",
      " 1    62\n",
      "0    38\n",
      "dtype: int64\n",
      "Test data:\n",
      " 0    102\n",
      "1     98\n",
      "dtype: int64\n"
     ]
    }
   ],
   "source": [
    "def view_class_balance(dataset):\n",
    "    return pd.Series(next(iter(torch.utils.data.DataLoader(dataset, batch_size=len(data.train_data))))[1]).value_counts()\n",
    "\n",
    "print(\"Train data:\\n\", view_class_balance(data.train_data))\n",
    "print(\"Val data:\\n\", view_class_balance(data.val_data))\n",
    "print(\"Test data:\\n\", view_class_balance(data.test_data))"
   ]
  },
  {
   "cell_type": "code",
   "execution_count": 5,
   "metadata": {},
   "outputs": [
    {
     "name": "stdout",
     "output_type": "stream",
     "text": [
      "env: XLA_PYTHON_CLIENT_PREALLOCATE=false\n"
     ]
    },
    {
     "name": "stderr",
     "output_type": "stream",
     "text": [
      "2023-03-24 01:42:57.141852: E external/org_tensorflow/tensorflow/compiler/xla/stream_executor/cuda/cuda_driver.cc:267] failed call to cuInit: CUDA_ERROR_UNKNOWN: unknown error\n",
      "WARNING:jax._src.lib.xla_bridge:No GPU/TPU found, falling back to CPU. (Set TF_CPP_MIN_LOG_LEVEL=0 and rerun for more info.)\n",
      "/home/kevin/code/rycolab/transformers/src/transformers/models/bert/modeling_bf_bert.py:181: UserWarning: Explicitly requested dtype <class 'jax.numpy.int64'> requested in zeros is not available, and will be truncated to dtype int32. To enable more dtypes, set the jax_enable_x64 configuration option or the JAX_ENABLE_X64 shell environment variable. See https://github.com/google/jax#current-gotchas for more.\n",
      "  bf.Parameter(jnp.zeros(self.position_ids.shape, dtype=jnp.int64), name=\"position_ids\"),\n"
     ]
    },
    {
     "name": "stdout",
     "output_type": "stream",
     "text": [
      "WARNING: TODO(KD) - when this is used, write some tests for this!\n"
     ]
    }
   ],
   "source": [
    "%env XLA_PYTHON_CLIENT_PREALLOCATE=false\n",
    "from transformers import BertConfig, BfBertForSequenceClassification\n",
    "config = BertConfig.from_pretrained(pretrained_model_name_or_path=\"../../brunoflow/models/bert/config-toy.json\")\n",
    "m = BfBertForSequenceClassification(config=config)\n"
   ]
  },
  {
   "cell_type": "code",
   "execution_count": 6,
   "metadata": {},
   "outputs": [
    {
     "data": {
      "text/plain": [
       "0.6931471805599453"
      ]
     },
     "execution_count": 6,
     "metadata": {},
     "output_type": "execute_result"
    }
   ],
   "source": [
    "np.log(2)"
   ]
  },
  {
   "cell_type": "code",
   "execution_count": 7,
   "metadata": {},
   "outputs": [
    {
     "data": {
      "text/plain": [
       "(node(name: /, val: 0.6932724118232727, grad: 0.0),\n",
       " node(name: +, val: [[0.00060837 0.00336968]\n",
       "  [0.0007587  0.00355593]\n",
       "  [0.00069366 0.00383811]\n",
       "  [0.00060835 0.00337013]\n",
       "  [0.00060839 0.00337033]\n",
       "  [0.00045666 0.00412864]\n",
       "  [0.00069371 0.00383842]\n",
       "  [0.00065592 0.00371523]\n",
       "  [0.00079444 0.00307746]\n",
       "  [0.00063114 0.00404991]\n",
       "  [0.00065594 0.00371517]\n",
       "  [0.00069379 0.00383843]\n",
       "  [0.00069366 0.00383838]\n",
       "  [0.0005831  0.00396602]\n",
       "  [0.00049469 0.00409725]\n",
       "  [0.00050911 0.00414495]\n",
       "  [0.00075872 0.00355627]\n",
       "  [0.00045662 0.0041285 ]\n",
       "  [0.00069563 0.00368552]\n",
       "  [0.00069556 0.00368549]\n",
       "  [0.00060827 0.00336927]\n",
       "  [0.00090493 0.00221035]\n",
       "  [0.00072354 0.0038369 ]\n",
       "  [0.00069565 0.00368602]\n",
       "  [0.00069375 0.00383822]\n",
       "  [0.00064152 0.00401879]\n",
       "  [0.00065591 0.00371515]\n",
       "  [0.00042537 0.00410883]\n",
       "  [0.00042526 0.00410871]\n",
       "  [0.00069373 0.00383871]\n",
       "  [0.00063115 0.0040499 ]\n",
       "  [0.00065532 0.00381957]\n",
       "  [0.00090494 0.00221023]\n",
       "  [0.00042538 0.00410876]\n",
       "  [0.0004566  0.00412879]\n",
       "  [0.00090497 0.00221051]\n",
       "  [0.00060832 0.00336965]\n",
       "  [0.00064157 0.00401868]\n",
       "  [0.00063178 0.0040287 ]\n",
       "  [0.0006553  0.00381926]\n",
       "  [0.00069554 0.00368555]\n",
       "  [0.00088765 0.00294422]\n",
       "  [0.00050913 0.00414491]\n",
       "  [0.00065528 0.00381952]\n",
       "  [0.00088764 0.00294429]\n",
       "  [0.00049478 0.00409781]\n",
       "  [0.00079443 0.00307722]\n",
       "  [0.00058313 0.00396583]\n",
       "  [0.00065533 0.00381953]\n",
       "  [0.00072362 0.00383656]\n",
       "  [0.00060831 0.00336972]\n",
       "  [0.00072363 0.00383657]\n",
       "  [0.00088766 0.00294388]\n",
       "  [0.00060829 0.00336951]\n",
       "  [0.00079437 0.00307688]\n",
       "  [0.00069565 0.00368612]\n",
       "  [0.00088764 0.00294437]\n",
       "  [0.00069378 0.00383842]\n",
       "  [0.00072361 0.00383647]\n",
       "  [0.00045666 0.0041289 ]\n",
       "  [0.00075881 0.00355642]\n",
       "  [0.0006083  0.00336969]\n",
       "  [0.00063188 0.00402856]\n",
       "  [0.00079444 0.00307731]\n",
       "  [0.00058301 0.00396594]\n",
       "  [0.00069378 0.00383858]\n",
       "  [0.0006552  0.00381922]\n",
       "  [0.00050915 0.00414492]\n",
       "  [0.0006552  0.00381927]\n",
       "  [0.00038647 0.00408728]\n",
       "  [0.00075878 0.00355643]\n",
       "  [0.00060821 0.00336914]\n",
       "  [0.00042529 0.0041087 ]\n",
       "  [0.00058307 0.00396599]\n",
       "  [0.00042538 0.00410886]\n",
       "  [0.00079434 0.00307701]\n",
       "  [0.00064158 0.00401866]\n",
       "  [0.00058314 0.0039663 ]\n",
       "  [0.00088764 0.00294427]\n",
       "  [0.000905   0.00221087]\n",
       "  [0.00088766 0.002944  ]\n",
       "  [0.00038642 0.00408714]\n",
       "  [0.00065522 0.00381914]\n",
       "  [0.00072361 0.00383663]\n",
       "  [0.0006937  0.00383833]\n",
       "  [0.00050919 0.00414495]\n",
       "  [0.00069566 0.00368576]\n",
       "  [0.0004566  0.00412851]\n",
       "  [0.00045651 0.00412869]\n",
       "  [0.00042533 0.0041088 ]\n",
       "  [0.00069373 0.00383854]\n",
       "  [0.00075868 0.00355603]\n",
       "  [0.00064159 0.00401857]\n",
       "  [0.00064155 0.0040187 ]\n",
       "  [0.00058313 0.00396605]\n",
       "  [0.00072367 0.0038367 ]\n",
       "  [0.0004254  0.00410893]\n",
       "  [0.00065519 0.00381908]\n",
       "  [0.00075864 0.00355588]\n",
       "  [0.00042542 0.00410887]\n",
       "  [0.00060826 0.00336921]\n",
       "  [0.00069563 0.00368619]\n",
       "  [0.0006416  0.00401889]\n",
       "  [0.00063181 0.00402838]\n",
       "  [0.00049472 0.00409759]\n",
       "  [0.00065522 0.00381916]\n",
       "  [0.00069564 0.00368599]\n",
       "  [0.0004253  0.0041088 ]\n",
       "  [0.00075864 0.00355573]\n",
       "  [0.00072362 0.00383652]\n",
       "  [0.0005831  0.00396618]\n",
       "  [0.00060849 0.0033704 ]\n",
       "  [0.00058305 0.00396574]\n",
       "  [0.00058312 0.00396625]\n",
       "  [0.00069562 0.00368634]\n",
       "  [0.0007236  0.00383657]\n",
       "  [0.00065587 0.00371568]\n",
       "  [0.00058308 0.0039659 ]\n",
       "  [0.00090496 0.00221036]\n",
       "  [0.00079431 0.00307653]\n",
       "  [0.0006956  0.0036855 ]\n",
       "  [0.00049472 0.00409754]\n",
       "  [0.00064155 0.00401874]\n",
       "  [0.00038651 0.00408745]\n",
       "  [0.00069566 0.00368596]\n",
       "  [0.00075869 0.00355602]\n",
       "  [0.00065531 0.00381957]\n",
       "  [0.00063121 0.00404976]], grad: [[0. 0.]\n",
       "  [0. 0.]\n",
       "  [0. 0.]\n",
       "  [0. 0.]\n",
       "  [0. 0.]\n",
       "  [0. 0.]\n",
       "  [0. 0.]\n",
       "  [0. 0.]\n",
       "  [0. 0.]\n",
       "  [0. 0.]\n",
       "  [0. 0.]\n",
       "  [0. 0.]\n",
       "  [0. 0.]\n",
       "  [0. 0.]\n",
       "  [0. 0.]\n",
       "  [0. 0.]\n",
       "  [0. 0.]\n",
       "  [0. 0.]\n",
       "  [0. 0.]\n",
       "  [0. 0.]\n",
       "  [0. 0.]\n",
       "  [0. 0.]\n",
       "  [0. 0.]\n",
       "  [0. 0.]\n",
       "  [0. 0.]\n",
       "  [0. 0.]\n",
       "  [0. 0.]\n",
       "  [0. 0.]\n",
       "  [0. 0.]\n",
       "  [0. 0.]\n",
       "  [0. 0.]\n",
       "  [0. 0.]\n",
       "  [0. 0.]\n",
       "  [0. 0.]\n",
       "  [0. 0.]\n",
       "  [0. 0.]\n",
       "  [0. 0.]\n",
       "  [0. 0.]\n",
       "  [0. 0.]\n",
       "  [0. 0.]\n",
       "  [0. 0.]\n",
       "  [0. 0.]\n",
       "  [0. 0.]\n",
       "  [0. 0.]\n",
       "  [0. 0.]\n",
       "  [0. 0.]\n",
       "  [0. 0.]\n",
       "  [0. 0.]\n",
       "  [0. 0.]\n",
       "  [0. 0.]\n",
       "  [0. 0.]\n",
       "  [0. 0.]\n",
       "  [0. 0.]\n",
       "  [0. 0.]\n",
       "  [0. 0.]\n",
       "  [0. 0.]\n",
       "  [0. 0.]\n",
       "  [0. 0.]\n",
       "  [0. 0.]\n",
       "  [0. 0.]\n",
       "  [0. 0.]\n",
       "  [0. 0.]\n",
       "  [0. 0.]\n",
       "  [0. 0.]\n",
       "  [0. 0.]\n",
       "  [0. 0.]\n",
       "  [0. 0.]\n",
       "  [0. 0.]\n",
       "  [0. 0.]\n",
       "  [0. 0.]\n",
       "  [0. 0.]\n",
       "  [0. 0.]\n",
       "  [0. 0.]\n",
       "  [0. 0.]\n",
       "  [0. 0.]\n",
       "  [0. 0.]\n",
       "  [0. 0.]\n",
       "  [0. 0.]\n",
       "  [0. 0.]\n",
       "  [0. 0.]\n",
       "  [0. 0.]\n",
       "  [0. 0.]\n",
       "  [0. 0.]\n",
       "  [0. 0.]\n",
       "  [0. 0.]\n",
       "  [0. 0.]\n",
       "  [0. 0.]\n",
       "  [0. 0.]\n",
       "  [0. 0.]\n",
       "  [0. 0.]\n",
       "  [0. 0.]\n",
       "  [0. 0.]\n",
       "  [0. 0.]\n",
       "  [0. 0.]\n",
       "  [0. 0.]\n",
       "  [0. 0.]\n",
       "  [0. 0.]\n",
       "  [0. 0.]\n",
       "  [0. 0.]\n",
       "  [0. 0.]\n",
       "  [0. 0.]\n",
       "  [0. 0.]\n",
       "  [0. 0.]\n",
       "  [0. 0.]\n",
       "  [0. 0.]\n",
       "  [0. 0.]\n",
       "  [0. 0.]\n",
       "  [0. 0.]\n",
       "  [0. 0.]\n",
       "  [0. 0.]\n",
       "  [0. 0.]\n",
       "  [0. 0.]\n",
       "  [0. 0.]\n",
       "  [0. 0.]\n",
       "  [0. 0.]\n",
       "  [0. 0.]\n",
       "  [0. 0.]\n",
       "  [0. 0.]\n",
       "  [0. 0.]\n",
       "  [0. 0.]\n",
       "  [0. 0.]\n",
       "  [0. 0.]\n",
       "  [0. 0.]\n",
       "  [0. 0.]\n",
       "  [0. 0.]\n",
       "  [0. 0.]\n",
       "  [0. 0.]\n",
       "  [0. 0.]]))"
      ]
     },
     "execution_count": 7,
     "metadata": {},
     "output_type": "execute_result"
    }
   ],
   "source": [
    "import brunoflow as bf\n",
    "from jax import numpy as jnp \n",
    "x, y = next(iter(torch.utils.data.DataLoader(data.train_data, batch_size=128)))\n",
    "# x\n",
    "outputs = m(bf.Node(jnp.array(x.numpy())), labels=bf.Node(jnp.array(y.numpy())))\n",
    "outputs.loss, outputs.logits"
   ]
  },
  {
   "cell_type": "code",
   "execution_count": null,
   "metadata": {},
   "outputs": [],
   "source": []
  }
 ],
 "metadata": {
  "kernelspec": {
   "display_name": "Python 3.9.15 ('jax-hf')",
   "language": "python",
   "name": "python3"
  },
  "language_info": {
   "codemirror_mode": {
    "name": "ipython",
    "version": 3
   },
   "file_extension": ".py",
   "mimetype": "text/x-python",
   "name": "python",
   "nbconvert_exporter": "python",
   "pygments_lexer": "ipython3",
   "version": "3.9.15"
  },
  "orig_nbformat": 4,
  "vscode": {
   "interpreter": {
    "hash": "b4cc9cc217af6b7e12b7da5c82d5884fde07a0e0f6b7f76767c2fbf53f076f9a"
   }
  }
 },
 "nbformat": 4,
 "nbformat_minor": 2
}
