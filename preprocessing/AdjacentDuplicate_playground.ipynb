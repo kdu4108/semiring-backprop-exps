{
 "cells": [
  {
   "cell_type": "code",
   "execution_count": 1,
   "metadata": {},
   "outputs": [
    {
     "name": "stderr",
     "output_type": "stream",
     "text": [
      "/home/kevin/miniconda3/envs/jax-hf/lib/python3.9/site-packages/tqdm/auto.py:22: TqdmWarning: IProgress not found. Please update jupyter and ipywidgets. See https://ipywidgets.readthedocs.io/en/stable/user_install.html\n",
      "  from .autonotebook import tqdm as notebook_tqdm\n"
     ]
    }
   ],
   "source": [
    "from datasets import AdjacentDuplicate\n",
    "import pandas as pd\n",
    "import torch\n",
    "import numpy as np"
   ]
  },
  {
   "cell_type": "code",
   "execution_count": 2,
   "metadata": {},
   "outputs": [],
   "source": [
    "data = AdjacentDuplicate(num_points=1000)"
   ]
  },
  {
   "cell_type": "code",
   "execution_count": 3,
   "metadata": {},
   "outputs": [
    {
     "data": {
      "text/plain": [
       "(tensor([[11,  8, 15, 17,  4, 11, 13,  7, 18, 16],\n",
       "         [13, 13,  9, 18, 16,  1, 15,  7, 16, 19],\n",
       "         [ 5, 15, 14, 18, 16, 17,  9, 14, 17,  3],\n",
       "         [15, 16,  8,  7, 11, 19, 17,  7, 11, 18],\n",
       "         [ 6, 19,  4, 12, 13, 10,  4, 17,  3,  7],\n",
       "         [15,  6, 16,  2,  7,  8, 13, 11,  9,  2],\n",
       "         [14,  4, 11,  4,  6,  6,  2,  8,  8, 19],\n",
       "         [ 9,  2, 15,  4,  6, 14,  1,  8, 16,  3],\n",
       "         [ 8,  2,  6,  6, 18, 16,  8, 17, 18,  7],\n",
       "         [ 9,  1,  4,  1, 15, 11,  4, 15,  2, 13]]),\n",
       " tensor([0, 1, 0, 0, 0, 0, 1, 0, 1, 0]))"
      ]
     },
     "execution_count": 3,
     "metadata": {},
     "output_type": "execute_result"
    }
   ],
   "source": [
    "# 0th index is data, 1xt index is label\n",
    "data.train_data.dataset.tensors[0][:10], data.train_data.dataset.tensors[1][:10]"
   ]
  },
  {
   "cell_type": "code",
   "execution_count": 4,
   "metadata": {},
   "outputs": [
    {
     "name": "stdout",
     "output_type": "stream",
     "text": [
      "Train data:\n",
      " 1    358\n",
      "0    342\n",
      "dtype: int64\n",
      "Val data:\n",
      " 0    54\n",
      "1    46\n",
      "dtype: int64\n",
      "Test data:\n",
      " 0    104\n",
      "1     96\n",
      "dtype: int64\n"
     ]
    }
   ],
   "source": [
    "def view_class_balance(dataset):\n",
    "    return pd.Series(next(iter(torch.utils.data.DataLoader(dataset, batch_size=len(data.train_data))))[1]).value_counts()\n",
    "\n",
    "print(\"Train data:\\n\", view_class_balance(data.train_data))\n",
    "print(\"Val data:\\n\", view_class_balance(data.val_data))\n",
    "print(\"Test data:\\n\", view_class_balance(data.test_data))"
   ]
  },
  {
   "cell_type": "code",
   "execution_count": 5,
   "metadata": {},
   "outputs": [
    {
     "name": "stdout",
     "output_type": "stream",
     "text": [
      "env: XLA_PYTHON_CLIENT_PREALLOCATE=false\n"
     ]
    },
    {
     "name": "stderr",
     "output_type": "stream",
     "text": [
      "2023-03-24 02:10:31.966284: E external/org_tensorflow/tensorflow/compiler/xla/stream_executor/cuda/cuda_driver.cc:267] failed call to cuInit: CUDA_ERROR_UNKNOWN: unknown error\n",
      "WARNING:jax._src.lib.xla_bridge:No GPU/TPU found, falling back to CPU. (Set TF_CPP_MIN_LOG_LEVEL=0 and rerun for more info.)\n",
      "/home/kevin/code/rycolab/transformers/src/transformers/models/bert/modeling_bf_bert.py:181: UserWarning: Explicitly requested dtype <class 'jax.numpy.int64'> requested in zeros is not available, and will be truncated to dtype int32. To enable more dtypes, set the jax_enable_x64 configuration option or the JAX_ENABLE_X64 shell environment variable. See https://github.com/google/jax#current-gotchas for more.\n",
      "  bf.Parameter(jnp.zeros(self.position_ids.shape, dtype=jnp.int64), name=\"position_ids\"),\n"
     ]
    },
    {
     "name": "stdout",
     "output_type": "stream",
     "text": [
      "WARNING: TODO(KD) - when this is used, write some tests for this!\n"
     ]
    }
   ],
   "source": [
    "%env XLA_PYTHON_CLIENT_PREALLOCATE=false\n",
    "from transformers import BertConfig, BfBertForSequenceClassification\n",
    "config = BertConfig.from_pretrained(pretrained_model_name_or_path=\"../../brunoflow/models/bert/config-toy.json\")\n",
    "m = BfBertForSequenceClassification(config=config)\n"
   ]
  },
  {
   "cell_type": "code",
   "execution_count": 6,
   "metadata": {},
   "outputs": [
    {
     "data": {
      "text/plain": [
       "0.6931471805599453"
      ]
     },
     "execution_count": 6,
     "metadata": {},
     "output_type": "execute_result"
    }
   ],
   "source": [
    "np.log(2)"
   ]
  },
  {
   "cell_type": "code",
   "execution_count": 7,
   "metadata": {},
   "outputs": [
    {
     "data": {
      "text/plain": [
       "(node(name: /, val: 0.6931512355804443, grad: 0.0),\n",
       " node(name: +, val: [[-2.2405493e-03 -2.3315039e-03]\n",
       "  [-2.2404727e-03 -2.3314159e-03]\n",
       "  [ 2.4030702e-03  1.9078741e-03]\n",
       "  [-3.1292469e-03 -3.1167686e-03]\n",
       "  [ 2.4029738e-03  1.9077738e-03]\n",
       "  [-1.2130328e-03 -2.2829117e-03]\n",
       "  [-3.0820821e-03 -3.1103259e-03]\n",
       "  [ 2.4032553e-03  1.9080776e-03]\n",
       "  [-5.6432741e-04 -1.8224908e-03]\n",
       "  [-6.4956426e-04 -5.6442287e-04]\n",
       "  [-6.5026281e-04 -5.6515425e-04]\n",
       "  [-6.4951606e-04 -5.6443969e-04]\n",
       "  [-2.0050718e-03 -1.9435909e-03]\n",
       "  [ 4.9756485e-04  9.9328987e-04]\n",
       "  [ 2.2207994e-03  1.7125086e-03]\n",
       "  [ 2.4032027e-03  1.9079753e-03]\n",
       "  [-6.4953230e-04 -5.6449318e-04]\n",
       "  [ 2.4029440e-03  1.9077680e-03]\n",
       "  [-6.1749277e-04 -1.7200704e-03]\n",
       "  [ 4.9799879e-04  9.9380116e-04]\n",
       "  [-5.6543510e-04 -1.8232890e-03]\n",
       "  [-2.3389147e-03 -9.2535524e-04]\n",
       "  [-1.8889657e-03 -6.1867875e-04]\n",
       "  [ 4.9964845e-04  9.9509803e-04]\n",
       "  [-1.8901826e-03 -6.1988301e-04]\n",
       "  [-2.0044891e-03 -1.9431220e-03]\n",
       "  [-1.0780154e-03 -4.1020929e-04]\n",
       "  [-6.4950297e-04 -5.6438084e-04]\n",
       "  [-2.2410671e-03 -2.3318860e-03]\n",
       "  [-5.6375749e-04 -1.8220686e-03]\n",
       "  [ 4.9830804e-04  9.9392270e-04]\n",
       "  [-5.6404475e-04 -1.8222673e-03]\n",
       "  [ 4.9850444e-04  9.9405693e-04]\n",
       "  [-3.1651147e-03 -2.9386228e-03]\n",
       "  [-2.0042176e-03 -1.9428261e-03]\n",
       "  [-6.1821123e-04 -1.7206559e-03]\n",
       "  [-3.1292397e-03 -3.1167690e-03]\n",
       "  [-2.0045000e-03 -1.9430319e-03]\n",
       "  [-2.3400090e-03 -9.2659530e-04]\n",
       "  [-2.3394346e-03 -9.2596776e-04]\n",
       "  [-3.0823939e-03 -3.1103867e-03]\n",
       "  [-5.6412263e-04 -1.8223325e-03]\n",
       "  [-5.6414725e-04 -1.8223502e-03]\n",
       "  [-6.4883794e-04 -5.6379993e-04]\n",
       "  [-5.6463253e-04 -1.8227113e-03]\n",
       "  [ 1.9782588e-03  2.7450351e-03]\n",
       "  [ 8.4677828e-04 -5.2099337e-04]\n",
       "  [-1.8898352e-03 -6.1951875e-04]\n",
       "  [-5.6469667e-04 -1.8227628e-03]\n",
       "  [-1.2125024e-03 -2.2825529e-03]\n",
       "  [-1.2124663e-03 -2.2825329e-03]\n",
       "  [ 1.9772046e-03  2.7444763e-03]\n",
       "  [ 1.1154880e-03 -3.0637839e-05]\n",
       "  [-3.0821264e-03 -3.1103354e-03]\n",
       "  [ 1.9786798e-03  2.7452577e-03]\n",
       "  [-1.0785739e-03 -4.1066675e-04]\n",
       "  [-3.0822309e-03 -3.1103562e-03]\n",
       "  [-3.1651345e-03 -2.9385954e-03]\n",
       "  [ 8.4886042e-04 -5.1897793e-04]\n",
       "  [ 1.9781003e-03  2.7449518e-03]\n",
       "  [-3.0821343e-03 -3.1103387e-03]\n",
       "  [-2.5667832e-03 -2.1153677e-03]\n",
       "  [-3.1293135e-03 -3.1167741e-03]\n",
       "  [ 2.2207035e-03  1.7124320e-03]\n",
       "  [ 2.2204376e-03  1.7121423e-03]\n",
       "  [-6.5010728e-04 -5.6495552e-04]\n",
       "  [ 1.1164966e-03 -2.9625593e-05]\n",
       "  [ 8.4812497e-04 -5.1968888e-04]\n",
       "  [ 1.9788356e-03  2.7453415e-03]\n",
       "  [ 1.1161237e-03 -2.9997120e-05]\n",
       "  [ 1.1159738e-03 -3.0148249e-05]\n",
       "  [-6.4952241e-04 -5.6446414e-04]\n",
       "  [-2.5671036e-03 -2.1157362e-03]\n",
       "  [-2.3393906e-03 -9.2589326e-04]\n",
       "  [-1.0777107e-03 -4.0976374e-04]\n",
       "  [-3.0819327e-03 -3.1103005e-03]\n",
       "  [ 2.4028725e-03  1.9076496e-03]\n",
       "  [-2.3386963e-03 -9.2508725e-04]\n",
       "  [-6.4965535e-04 -5.6457683e-04]\n",
       "  [-2.3384215e-03 -9.2477945e-04]\n",
       "  [-5.6406611e-04 -1.8222939e-03]\n",
       "  [ 4.9771339e-04  9.9347532e-04]\n",
       "  [-2.5666282e-03 -2.1152634e-03]\n",
       "  [-1.8902650e-03 -6.2003051e-04]\n",
       "  [ 4.9904967e-04  9.9462003e-04]\n",
       "  [ 2.2208495e-03  1.7125543e-03]\n",
       "  [ 1.9789832e-03  2.7454197e-03]\n",
       "  [-2.2410967e-03 -2.3319777e-03]\n",
       "  [-3.1650786e-03 -2.9386075e-03]\n",
       "  [-2.5666647e-03 -2.1153255e-03]\n",
       "  [ 2.4031478e-03  1.9079560e-03]\n",
       "  [-2.5668426e-03 -2.1153786e-03]\n",
       "  [-2.3383745e-03 -9.2473667e-04]\n",
       "  [-6.1746122e-04 -1.7200528e-03]\n",
       "  [-1.8895861e-03 -6.1935396e-04]\n",
       "  [-2.0046842e-03 -1.9432354e-03]\n",
       "  [ 2.4027566e-03  1.9074976e-03]\n",
       "  [-3.0820551e-03 -3.1103222e-03]\n",
       "  [ 1.9790106e-03  2.7454346e-03]\n",
       "  [-2.5671001e-03 -2.1157113e-03]\n",
       "  [ 2.2201866e-03  1.7118368e-03]\n",
       "  [-2.0050697e-03 -1.9435799e-03]\n",
       "  [-6.4946094e-04 -5.6444586e-04]\n",
       "  [-3.0819830e-03 -3.1103073e-03]\n",
       "  [ 8.4774307e-04 -5.2007270e-04]\n",
       "  [-1.0778911e-03 -4.0992780e-04]\n",
       "  [-2.0058509e-03 -1.9442923e-03]\n",
       "  [-1.2123785e-03 -2.2824726e-03]\n",
       "  [ 1.9790370e-03  2.7454481e-03]\n",
       "  [-3.0820149e-03 -3.1103124e-03]\n",
       "  [ 1.1160790e-03 -3.0042773e-05]\n",
       "  [-2.3388434e-03 -9.2525338e-04]\n",
       "  [ 8.4758888e-04 -5.2022393e-04]\n",
       "  [-3.1651498e-03 -2.9386329e-03]\n",
       "  [-2.0044837e-03 -1.9430446e-03]\n",
       "  [ 4.9939891e-04  9.9486299e-04]\n",
       "  [ 2.2208241e-03  1.7125366e-03]\n",
       "  [-6.4891903e-04 -5.6398206e-04]\n",
       "  [-6.5055094e-04 -5.6534982e-04]\n",
       "  [-3.0820593e-03 -3.1103259e-03]\n",
       "  [-2.0046644e-03 -1.9432589e-03]\n",
       "  [-5.6430203e-04 -1.8224589e-03]\n",
       "  [-2.5667350e-03 -2.1154303e-03]\n",
       "  [-5.6440086e-04 -1.8225355e-03]\n",
       "  [ 2.4028888e-03  1.9076999e-03]\n",
       "  [-1.0800818e-03 -4.1202645e-04]\n",
       "  [-5.6399941e-04 -1.8222465e-03]\n",
       "  [-2.5675530e-03 -2.1161293e-03]], grad: [[0. 0.]\n",
       "  [0. 0.]\n",
       "  [0. 0.]\n",
       "  [0. 0.]\n",
       "  [0. 0.]\n",
       "  [0. 0.]\n",
       "  [0. 0.]\n",
       "  [0. 0.]\n",
       "  [0. 0.]\n",
       "  [0. 0.]\n",
       "  [0. 0.]\n",
       "  [0. 0.]\n",
       "  [0. 0.]\n",
       "  [0. 0.]\n",
       "  [0. 0.]\n",
       "  [0. 0.]\n",
       "  [0. 0.]\n",
       "  [0. 0.]\n",
       "  [0. 0.]\n",
       "  [0. 0.]\n",
       "  [0. 0.]\n",
       "  [0. 0.]\n",
       "  [0. 0.]\n",
       "  [0. 0.]\n",
       "  [0. 0.]\n",
       "  [0. 0.]\n",
       "  [0. 0.]\n",
       "  [0. 0.]\n",
       "  [0. 0.]\n",
       "  [0. 0.]\n",
       "  [0. 0.]\n",
       "  [0. 0.]\n",
       "  [0. 0.]\n",
       "  [0. 0.]\n",
       "  [0. 0.]\n",
       "  [0. 0.]\n",
       "  [0. 0.]\n",
       "  [0. 0.]\n",
       "  [0. 0.]\n",
       "  [0. 0.]\n",
       "  [0. 0.]\n",
       "  [0. 0.]\n",
       "  [0. 0.]\n",
       "  [0. 0.]\n",
       "  [0. 0.]\n",
       "  [0. 0.]\n",
       "  [0. 0.]\n",
       "  [0. 0.]\n",
       "  [0. 0.]\n",
       "  [0. 0.]\n",
       "  [0. 0.]\n",
       "  [0. 0.]\n",
       "  [0. 0.]\n",
       "  [0. 0.]\n",
       "  [0. 0.]\n",
       "  [0. 0.]\n",
       "  [0. 0.]\n",
       "  [0. 0.]\n",
       "  [0. 0.]\n",
       "  [0. 0.]\n",
       "  [0. 0.]\n",
       "  [0. 0.]\n",
       "  [0. 0.]\n",
       "  [0. 0.]\n",
       "  [0. 0.]\n",
       "  [0. 0.]\n",
       "  [0. 0.]\n",
       "  [0. 0.]\n",
       "  [0. 0.]\n",
       "  [0. 0.]\n",
       "  [0. 0.]\n",
       "  [0. 0.]\n",
       "  [0. 0.]\n",
       "  [0. 0.]\n",
       "  [0. 0.]\n",
       "  [0. 0.]\n",
       "  [0. 0.]\n",
       "  [0. 0.]\n",
       "  [0. 0.]\n",
       "  [0. 0.]\n",
       "  [0. 0.]\n",
       "  [0. 0.]\n",
       "  [0. 0.]\n",
       "  [0. 0.]\n",
       "  [0. 0.]\n",
       "  [0. 0.]\n",
       "  [0. 0.]\n",
       "  [0. 0.]\n",
       "  [0. 0.]\n",
       "  [0. 0.]\n",
       "  [0. 0.]\n",
       "  [0. 0.]\n",
       "  [0. 0.]\n",
       "  [0. 0.]\n",
       "  [0. 0.]\n",
       "  [0. 0.]\n",
       "  [0. 0.]\n",
       "  [0. 0.]\n",
       "  [0. 0.]\n",
       "  [0. 0.]\n",
       "  [0. 0.]\n",
       "  [0. 0.]\n",
       "  [0. 0.]\n",
       "  [0. 0.]\n",
       "  [0. 0.]\n",
       "  [0. 0.]\n",
       "  [0. 0.]\n",
       "  [0. 0.]\n",
       "  [0. 0.]\n",
       "  [0. 0.]\n",
       "  [0. 0.]\n",
       "  [0. 0.]\n",
       "  [0. 0.]\n",
       "  [0. 0.]\n",
       "  [0. 0.]\n",
       "  [0. 0.]\n",
       "  [0. 0.]\n",
       "  [0. 0.]\n",
       "  [0. 0.]\n",
       "  [0. 0.]\n",
       "  [0. 0.]\n",
       "  [0. 0.]\n",
       "  [0. 0.]\n",
       "  [0. 0.]\n",
       "  [0. 0.]\n",
       "  [0. 0.]\n",
       "  [0. 0.]\n",
       "  [0. 0.]]))"
      ]
     },
     "execution_count": 7,
     "metadata": {},
     "output_type": "execute_result"
    }
   ],
   "source": [
    "import brunoflow as bf\n",
    "from jax import numpy as jnp \n",
    "x, y = next(iter(torch.utils.data.DataLoader(data.train_data, batch_size=128)))\n",
    "# x\n",
    "outputs = m(bf.Node(jnp.array(x.numpy())), labels=bf.Node(jnp.array(y.numpy())))\n",
    "outputs.loss, outputs.logits"
   ]
  },
  {
   "cell_type": "code",
   "execution_count": null,
   "metadata": {},
   "outputs": [],
   "source": []
  }
 ],
 "metadata": {
  "kernelspec": {
   "display_name": "Python 3.9.15 ('jax-hf')",
   "language": "python",
   "name": "python3"
  },
  "language_info": {
   "codemirror_mode": {
    "name": "ipython",
    "version": 3
   },
   "file_extension": ".py",
   "mimetype": "text/x-python",
   "name": "python",
   "nbconvert_exporter": "python",
   "pygments_lexer": "ipython3",
   "version": "3.9.15"
  },
  "orig_nbformat": 4,
  "vscode": {
   "interpreter": {
    "hash": "b4cc9cc217af6b7e12b7da5c82d5884fde07a0e0f6b7f76767c2fbf53f076f9a"
   }
  }
 },
 "nbformat": 4,
 "nbformat_minor": 2
}
