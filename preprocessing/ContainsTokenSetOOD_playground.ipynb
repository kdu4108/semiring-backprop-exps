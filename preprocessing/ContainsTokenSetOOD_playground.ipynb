{
 "cells": [
  {
   "cell_type": "code",
   "execution_count": 1,
   "metadata": {},
   "outputs": [
    {
     "name": "stderr",
     "output_type": "stream",
     "text": [
      "/home/kevin/miniconda3/envs/jax-hf/lib/python3.9/site-packages/tqdm/auto.py:22: TqdmWarning: IProgress not found. Please update jupyter and ipywidgets. See https://ipywidgets.readthedocs.io/en/stable/user_install.html\n",
      "  from .autonotebook import tqdm as notebook_tqdm\n"
     ]
    }
   ],
   "source": [
    "from datasets import ContainsTokenSetOOD\n",
    "import pandas as pd\n",
    "import torch\n",
    "import numpy as np"
   ]
  },
  {
   "cell_type": "code",
   "execution_count": 2,
   "metadata": {},
   "outputs": [
    {
     "name": "stdout",
     "output_type": "stream",
     "text": [
      "10\n"
     ]
    }
   ],
   "source": [
    "token_set = set(range(10)) # Edge case/off by one error?\n",
    "print(len(token_set))\n",
    "data = ContainsTokenSetOOD(token_set=token_set, seq_len=36, train_size=3600, val_size=360, test_size=360, num_points=None)"
   ]
  },
  {
   "cell_type": "code",
   "execution_count": 3,
   "metadata": {},
   "outputs": [
    {
     "data": {
      "text/plain": [
       "(tensor([[ 9,  8, 19,  6, 10,  8,  2, 17,  5, 15, 12,  0,  5, 12,  4, 16,  6,  6,\n",
       "           1, 10,  7,  2,  1,  5,  8, 14,  8,  7,  3, 10, 13, 19,  3, 17, 12,  3],\n",
       "         [13, 10, 12,  3, 12, 11, 16,  3,  3, 19, 16, 14, 19, 10, 19, 18,  3, 12,\n",
       "          13, 12, 10, 16, 19, 19, 12, 16, 14, 13, 15, 15, 15, 18, 14, 18, 18,  3],\n",
       "         [17, 10,  9,  9,  8,  8,  1,  5,  0, 14,  8, 15,  5, 10,  7,  4,  3,  1,\n",
       "          17, 16,  1,  3, 10,  9,  4, 18,  8,  8,  3, 17, 13, 11, 18,  5,  2,  6],\n",
       "         [ 8, 18,  1, 18,  4, 14, 12, 11, 10, 15,  3, 17,  3, 15,  9,  6,  1,  8,\n",
       "          11, 19, 15, 17,  4,  1, 13, 18, 10,  6, 11, 18, 11, 16, 11,  1,  3, 14],\n",
       "         [ 3, 17, 16,  9, 14,  9,  3, 14,  3, 11, 13,  9, 14,  6, 16, 15,  7,  7,\n",
       "           0,  7,  1,  3,  9, 11, 16, 19, 14, 11, 14, 13, 15,  1, 17,  1,  8, 17]]),\n",
       " tensor([1, 0, 1, 0, 0]))"
      ]
     },
     "execution_count": 3,
     "metadata": {},
     "output_type": "execute_result"
    }
   ],
   "source": [
    "data.train_data[:5]"
   ]
  },
  {
   "cell_type": "code",
   "execution_count": 4,
   "metadata": {},
   "outputs": [
    {
     "data": {
      "text/plain": [
       "[2, 10, 2, 8, 7, 10, 0, 4, 10, 10]"
      ]
     },
     "execution_count": 4,
     "metadata": {},
     "output_type": "execute_result"
    }
   ],
   "source": [
    "[len(set(x.numpy()).intersection(token_set)) for x in data.train_data.dataset.tensors[0][:10]]"
   ]
  },
  {
   "cell_type": "code",
   "execution_count": 5,
   "metadata": {},
   "outputs": [
    {
     "data": {
      "text/plain": [
       "10    1800\n",
       "0      200\n",
       "1      200\n",
       "2      200\n",
       "3      200\n",
       "4      200\n",
       "5      200\n",
       "6      200\n",
       "7      200\n",
       "8      200\n",
       "dtype: int64"
      ]
     },
     "execution_count": 5,
     "metadata": {},
     "output_type": "execute_result"
    }
   ],
   "source": [
    "# 0th index is data, 1xt index is label\n",
    "(\n",
    "    data.train_data.dataset.tensors[0][:10], \n",
    "    [set(x.numpy()).intersection(token_set) for x in data.train_data.dataset.tensors[0][:10]],    \n",
    "    data.train_data.dataset.tensors[1][:10]\n",
    ")\n",
    "pd.DataFrame([len(set(x.numpy()).intersection(token_set)) for x in data.train_data.dataset.tensors[0]]).value_counts()"
   ]
  },
  {
   "cell_type": "code",
   "execution_count": 6,
   "metadata": {},
   "outputs": [
    {
     "data": {
      "text/plain": [
       "10    180\n",
       "0      18\n",
       "1      18\n",
       "2      18\n",
       "3      18\n",
       "4      18\n",
       "5      18\n",
       "6      18\n",
       "7      18\n",
       "8      18\n",
       "9      18\n",
       "dtype: int64"
      ]
     },
     "execution_count": 6,
     "metadata": {},
     "output_type": "execute_result"
    }
   ],
   "source": [
    "# 0th index is data, 1xt index is label\n",
    "(\n",
    "    data.val_data.dataset.tensors[0][:10], \n",
    "    [set(x.numpy()).intersection(token_set) for x in data.val_data.dataset.tensors[0][:10]],    \n",
    "    data.val_data.dataset.tensors[1][:10]\n",
    ")\n",
    "import pandas as pd\n",
    "pd.DataFrame([len(set(x.numpy()).intersection(token_set)) for x in data.val_data.dataset.tensors[0]]).value_counts()"
   ]
  },
  {
   "cell_type": "code",
   "execution_count": 4,
   "metadata": {},
   "outputs": [
    {
     "name": "stdout",
     "output_type": "stream",
     "text": [
      "Train data:\n",
      " 0    353\n",
      "1    347\n",
      "dtype: int64\n",
      "Val data:\n",
      " 1    53\n",
      "0    47\n",
      "dtype: int64\n",
      "Test data:\n",
      " 0    100\n",
      "1    100\n",
      "dtype: int64\n"
     ]
    }
   ],
   "source": [
    "def view_class_balance(dataset):\n",
    "    return pd.Series(next(iter(torch.utils.data.DataLoader(dataset, batch_size=len(data.train_data))))[1]).value_counts()\n",
    "\n",
    "print(\"Train data:\\n\", view_class_balance(data.train_data))\n",
    "print(\"Val data:\\n\", view_class_balance(data.val_data))\n",
    "print(\"Test data:\\n\", view_class_balance(data.test_data))"
   ]
  },
  {
   "cell_type": "code",
   "execution_count": 5,
   "metadata": {},
   "outputs": [
    {
     "name": "stdout",
     "output_type": "stream",
     "text": [
      "env: XLA_PYTHON_CLIENT_PREALLOCATE=false\n"
     ]
    },
    {
     "name": "stderr",
     "output_type": "stream",
     "text": [
      "2023-02-20 16:32:42.493921: W external/org_tensorflow/tensorflow/compiler/xla/service/platform_util.cc:198] unable to create StreamExecutor for CUDA:0: failed initializing StreamExecutor for CUDA device ordinal 0: INTERNAL: failed call to cuDevicePrimaryCtxRetain: CUDA_ERROR_OUT_OF_MEMORY: out of memory; total memory reported: 4103208960\n",
      "WARNING:jax._src.lib.xla_bridge:No GPU/TPU found, falling back to CPU. (Set TF_CPP_MIN_LOG_LEVEL=0 and rerun for more info.)\n",
      "/home/kevin/code/rycolab/transformers/src/transformers/models/bert/modeling_bf_bert.py:180: UserWarning: Explicitly requested dtype <class 'jax.numpy.int64'> requested in zeros is not available, and will be truncated to dtype int32. To enable more dtypes, set the jax_enable_x64 configuration option or the JAX_ENABLE_X64 shell environment variable. See https://github.com/google/jax#current-gotchas for more.\n",
      "  bf.Parameter(jnp.zeros(self.position_ids.shape, dtype=jnp.int64), name=\"position_ids\"),\n"
     ]
    },
    {
     "name": "stdout",
     "output_type": "stream",
     "text": [
      "WARNING: TODO(KD) - when this is used, write some tests for this!\n"
     ]
    }
   ],
   "source": [
    "%env XLA_PYTHON_CLIENT_PREALLOCATE=false\n",
    "from transformers import BertConfig, BfBertForSequenceClassification\n",
    "config = BertConfig.from_pretrained(pretrained_model_name_or_path=\"../../brunoflow/models/bert/config-toy.json\")\n",
    "m = BfBertForSequenceClassification(config=config)\n"
   ]
  },
  {
   "cell_type": "code",
   "execution_count": 15,
   "metadata": {},
   "outputs": [
    {
     "data": {
      "text/plain": [
       "0.6931471805599453"
      ]
     },
     "execution_count": 15,
     "metadata": {},
     "output_type": "execute_result"
    }
   ],
   "source": [
    "np.log(2)"
   ]
  },
  {
   "cell_type": "code",
   "execution_count": 23,
   "metadata": {},
   "outputs": [
    {
     "data": {
      "text/plain": [
       "(node(name: /, val: 0.6931508779525757, grad: 0.0),\n",
       " node(name: +, val: [[-8.25370103e-03  1.79829379e-03]\n",
       "  [ 5.14002983e-03  5.46421972e-04]\n",
       "  [-3.57060367e-03  1.33854381e-04]\n",
       "  [-4.50863503e-03  6.43520709e-03]\n",
       "  [ 3.85447429e-03  1.36725814e-03]\n",
       "  [ 6.20723097e-03 -2.05880008e-03]\n",
       "  [ 4.23734868e-03 -6.27395581e-04]\n",
       "  [-2.27768804e-04  1.45688117e-03]\n",
       "  [ 4.22999961e-03 -6.27707166e-04]\n",
       "  [-3.62819363e-03  1.02882383e-04]\n",
       "  [-1.92662730e-04  1.49287737e-03]\n",
       "  [-3.62146157e-03  1.02386446e-04]\n",
       "  [ 6.20649848e-03 -2.05926457e-03]\n",
       "  [-1.42094679e-03  4.59629064e-03]\n",
       "  [-3.55485966e-03  1.71255181e-03]\n",
       "  [ 6.03227597e-03 -2.88169109e-03]\n",
       "  [ 6.08286588e-03 -2.84436368e-03]\n",
       "  [ 6.23819605e-03 -2.00822041e-03]\n",
       "  [ 1.03521300e-03 -2.30820430e-03]\n",
       "  [ 2.10922607e-03  9.40656289e-03]\n",
       "  [ 4.23035724e-03 -5.36468870e-04]\n",
       "  [-2.81263608e-04 -2.57467106e-03]\n",
       "  [ 4.96772956e-03 -7.86872301e-03]\n",
       "  [ 2.16012611e-03  9.42399912e-03]\n",
       "  [-1.41074415e-03  4.52542864e-03]\n",
       "  [-2.64728442e-04 -2.58352840e-03]\n",
       "  [-8.25845823e-03  1.82174612e-03]\n",
       "  [ 3.90296313e-03  1.41125941e-03]\n",
       "  [ 5.13605261e-03  5.11628983e-04]\n",
       "  [-1.70481915e-04  1.48695975e-03]\n",
       "  [ 2.79780058e-03  5.90908155e-03]\n",
       "  [ 6.18204474e-03 -2.06996477e-03]\n",
       "  [-1.59490955e-04  1.47572090e-03]\n",
       "  [ 9.53122880e-03  2.27336935e-03]\n",
       "  [ 9.53385606e-03  2.28762021e-03]\n",
       "  [ 1.19799450e-02 -3.55986552e-03]\n",
       "  [-2.16466273e-04  1.51335390e-03]\n",
       "  [ 2.79070437e-03  5.90859074e-03]\n",
       "  [-4.47584270e-03  6.37066225e-03]\n",
       "  [ 4.25250456e-03 -6.32352836e-04]\n",
       "  [ 3.90491611e-03  1.40887138e-03]\n",
       "  [ 4.99348110e-03 -7.81859364e-03]\n",
       "  [ 4.19387361e-03 -6.34917000e-04]\n",
       "  [ 4.94399155e-03 -7.87178241e-03]\n",
       "  [-8.23968183e-03  1.82050338e-03]\n",
       "  [ 9.53039341e-03  2.25105882e-03]\n",
       "  [-2.32050108e-04 -2.55184202e-03]\n",
       "  [-1.43576006e-03  4.54305485e-03]\n",
       "  [ 5.03535243e-03 -7.84849096e-03]\n",
       "  [ 1.81723153e-03  3.91731644e-03]\n",
       "  [-2.39992063e-04 -2.62095663e-03]\n",
       "  [-4.52712923e-03  6.38350099e-03]\n",
       "  [-3.61370109e-03  1.02981387e-04]\n",
       "  [ 4.97479318e-03 -7.81151978e-03]\n",
       "  [ 1.11409358e-03 -2.29782285e-03]\n",
       "  [ 4.99937916e-03 -7.84865208e-03]\n",
       "  [ 2.15571397e-03  9.45299957e-03]\n",
       "  [ 6.07701205e-03 -2.88669299e-03]\n",
       "  [ 6.24862546e-03 -2.03674193e-03]\n",
       "  [-8.17711093e-03  1.78989279e-03]\n",
       "  [ 2.78114248e-03  5.89178549e-03]\n",
       "  [-2.75343831e-04 -2.58762459e-03]\n",
       "  [ 6.19834848e-03 -2.04811827e-03]\n",
       "  [ 9.50191263e-03  2.30657682e-03]\n",
       "  [ 1.11139403e-03 -2.29684287e-03]\n",
       "  [ 1.19916555e-02 -3.58765060e-03]\n",
       "  [ 5.15354751e-03  5.13931445e-04]\n",
       "  [-3.63030774e-03  6.70988302e-05]\n",
       "  [ 2.80516990e-03  5.91642596e-03]\n",
       "  [ 4.24468424e-03 -5.68417890e-04]\n",
       "  [ 3.89417680e-03  1.36966514e-03]\n",
       "  [-3.61014903e-03  1.59529576e-04]\n",
       "  [ 4.19932231e-03 -5.73836209e-04]\n",
       "  [ 2.86034448e-03  5.87585336e-03]\n",
       "  [-8.14763643e-03  1.80399779e-03]\n",
       "  [-1.39934511e-03  4.51235427e-03]\n",
       "  [ 6.16914826e-03 -2.09407345e-03]\n",
       "  [-2.74486403e-04 -2.54586642e-03]\n",
       "  [ 1.81138376e-03  4.00495529e-03]\n",
       "  [ 3.87358642e-03  1.37756660e-03]\n",
       "  [ 5.01416763e-03 -7.80247618e-03]\n",
       "  [ 3.85684404e-03  1.35586807e-03]\n",
       "  [ 5.02866041e-03 -7.75584904e-03]\n",
       "  [ 2.12534913e-03  9.50446539e-03]\n",
       "  [-3.49672860e-03  1.72058132e-03]\n",
       "  [ 1.12184638e-03 -2.30201497e-03]\n",
       "  [-3.48972483e-03  1.71743112e-03]\n",
       "  [ 2.19049840e-03  9.43953265e-03]\n",
       "  [ 3.87385068e-03  1.37917639e-03]\n",
       "  [-3.52564873e-03  1.75417704e-03]\n",
       "  [-4.49710805e-03  6.36929972e-03]\n",
       "  [-1.46038772e-03  4.56842501e-03]\n",
       "  [ 1.09009258e-03 -2.24476890e-03]\n",
       "  [-4.52406239e-03  6.45283470e-03]\n",
       "  [ 3.86566878e-03  1.37283339e-03]\n",
       "  [ 1.78398122e-03  3.93372448e-03]\n",
       "  [ 4.22628736e-03 -5.87159127e-04]\n",
       "  [-1.82800315e-04  1.54080917e-03]\n",
       "  [-1.52181819e-04  1.49602711e-03]\n",
       "  [ 1.79570483e-03  3.95955285e-03]\n",
       "  [ 6.08236762e-03 -2.87220860e-03]\n",
       "  [ 6.23252522e-03 -2.01778440e-03]\n",
       "  [ 1.82868505e-03  3.95746902e-03]\n",
       "  [ 9.46767163e-03  2.24309880e-03]\n",
       "  [ 5.14582032e-03  5.72417979e-04]\n",
       "  [ 5.21427719e-03  5.43409376e-04]\n",
       "  [ 2.11858633e-03  9.38391499e-03]\n",
       "  [-2.10164275e-04  1.49935158e-03]\n",
       "  [-3.54078063e-03  1.73996203e-03]\n",
       "  [-3.61375348e-03  1.17170574e-04]\n",
       "  [-3.58930160e-03  1.13332615e-04]\n",
       "  [-1.85340396e-04  1.49326690e-03]\n",
       "  [ 2.75295367e-03  5.88416122e-03]\n",
       "  [ 5.18076541e-03  5.33958373e-04]\n",
       "  [ 1.07945874e-03 -2.27084942e-03]\n",
       "  [-3.54276202e-03  1.72932004e-03]\n",
       "  [ 5.16325794e-03  5.60054788e-04]\n",
       "  [ 6.26056781e-03 -2.13696668e-03]\n",
       "  [-2.41788774e-04 -2.55508884e-03]\n",
       "  [-1.91691128e-04  1.48429687e-03]\n",
       "  [ 2.11714045e-03  9.44532361e-03]\n",
       "  [-3.64844059e-03  1.25306295e-04]\n",
       "  [-8.18503648e-03  1.80711236e-03]\n",
       "  [-3.65643809e-03  1.09097702e-04]\n",
       "  [ 4.22391528e-03 -5.44232840e-04]\n",
       "  [-4.52939095e-03  6.45574229e-03]\n",
       "  [ 2.12007109e-03  9.44507774e-03]\n",
       "  [ 4.96788463e-03 -7.84429908e-03]], grad: [[0. 0.]\n",
       "  [0. 0.]\n",
       "  [0. 0.]\n",
       "  [0. 0.]\n",
       "  [0. 0.]\n",
       "  [0. 0.]\n",
       "  [0. 0.]\n",
       "  [0. 0.]\n",
       "  [0. 0.]\n",
       "  [0. 0.]\n",
       "  [0. 0.]\n",
       "  [0. 0.]\n",
       "  [0. 0.]\n",
       "  [0. 0.]\n",
       "  [0. 0.]\n",
       "  [0. 0.]\n",
       "  [0. 0.]\n",
       "  [0. 0.]\n",
       "  [0. 0.]\n",
       "  [0. 0.]\n",
       "  [0. 0.]\n",
       "  [0. 0.]\n",
       "  [0. 0.]\n",
       "  [0. 0.]\n",
       "  [0. 0.]\n",
       "  [0. 0.]\n",
       "  [0. 0.]\n",
       "  [0. 0.]\n",
       "  [0. 0.]\n",
       "  [0. 0.]\n",
       "  [0. 0.]\n",
       "  [0. 0.]\n",
       "  [0. 0.]\n",
       "  [0. 0.]\n",
       "  [0. 0.]\n",
       "  [0. 0.]\n",
       "  [0. 0.]\n",
       "  [0. 0.]\n",
       "  [0. 0.]\n",
       "  [0. 0.]\n",
       "  [0. 0.]\n",
       "  [0. 0.]\n",
       "  [0. 0.]\n",
       "  [0. 0.]\n",
       "  [0. 0.]\n",
       "  [0. 0.]\n",
       "  [0. 0.]\n",
       "  [0. 0.]\n",
       "  [0. 0.]\n",
       "  [0. 0.]\n",
       "  [0. 0.]\n",
       "  [0. 0.]\n",
       "  [0. 0.]\n",
       "  [0. 0.]\n",
       "  [0. 0.]\n",
       "  [0. 0.]\n",
       "  [0. 0.]\n",
       "  [0. 0.]\n",
       "  [0. 0.]\n",
       "  [0. 0.]\n",
       "  [0. 0.]\n",
       "  [0. 0.]\n",
       "  [0. 0.]\n",
       "  [0. 0.]\n",
       "  [0. 0.]\n",
       "  [0. 0.]\n",
       "  [0. 0.]\n",
       "  [0. 0.]\n",
       "  [0. 0.]\n",
       "  [0. 0.]\n",
       "  [0. 0.]\n",
       "  [0. 0.]\n",
       "  [0. 0.]\n",
       "  [0. 0.]\n",
       "  [0. 0.]\n",
       "  [0. 0.]\n",
       "  [0. 0.]\n",
       "  [0. 0.]\n",
       "  [0. 0.]\n",
       "  [0. 0.]\n",
       "  [0. 0.]\n",
       "  [0. 0.]\n",
       "  [0. 0.]\n",
       "  [0. 0.]\n",
       "  [0. 0.]\n",
       "  [0. 0.]\n",
       "  [0. 0.]\n",
       "  [0. 0.]\n",
       "  [0. 0.]\n",
       "  [0. 0.]\n",
       "  [0. 0.]\n",
       "  [0. 0.]\n",
       "  [0. 0.]\n",
       "  [0. 0.]\n",
       "  [0. 0.]\n",
       "  [0. 0.]\n",
       "  [0. 0.]\n",
       "  [0. 0.]\n",
       "  [0. 0.]\n",
       "  [0. 0.]\n",
       "  [0. 0.]\n",
       "  [0. 0.]\n",
       "  [0. 0.]\n",
       "  [0. 0.]\n",
       "  [0. 0.]\n",
       "  [0. 0.]\n",
       "  [0. 0.]\n",
       "  [0. 0.]\n",
       "  [0. 0.]\n",
       "  [0. 0.]\n",
       "  [0. 0.]\n",
       "  [0. 0.]\n",
       "  [0. 0.]\n",
       "  [0. 0.]\n",
       "  [0. 0.]\n",
       "  [0. 0.]\n",
       "  [0. 0.]\n",
       "  [0. 0.]\n",
       "  [0. 0.]\n",
       "  [0. 0.]\n",
       "  [0. 0.]\n",
       "  [0. 0.]\n",
       "  [0. 0.]\n",
       "  [0. 0.]\n",
       "  [0. 0.]\n",
       "  [0. 0.]\n",
       "  [0. 0.]\n",
       "  [0. 0.]]))"
      ]
     },
     "execution_count": 23,
     "metadata": {},
     "output_type": "execute_result"
    }
   ],
   "source": [
    "import brunoflow as bf\n",
    "from jax import numpy as jnp \n",
    "x, y = next(iter(torch.utils.data.DataLoader(data.train_data, batch_size=128)))\n",
    "# x\n",
    "outputs = m(bf.Node(jnp.array(x.numpy())), labels=bf.Node(jnp.array(y.numpy())))\n",
    "outputs.loss, outputs.logits"
   ]
  },
  {
   "cell_type": "code",
   "execution_count": null,
   "metadata": {},
   "outputs": [],
   "source": []
  }
 ],
 "metadata": {
  "kernelspec": {
   "display_name": "Python 3.9.15 ('jax-hf')",
   "language": "python",
   "name": "python3"
  },
  "language_info": {
   "codemirror_mode": {
    "name": "ipython",
    "version": 3
   },
   "file_extension": ".py",
   "mimetype": "text/x-python",
   "name": "python",
   "nbconvert_exporter": "python",
   "pygments_lexer": "ipython3",
   "version": "3.9.15"
  },
  "orig_nbformat": 4,
  "vscode": {
   "interpreter": {
    "hash": "b4cc9cc217af6b7e12b7da5c82d5884fde07a0e0f6b7f76767c2fbf53f076f9a"
   }
  }
 },
 "nbformat": 4,
 "nbformat_minor": 2
}
